{
  "nbformat": 4,
  "nbformat_minor": 0,
  "metadata": {
    "colab": {
      "name": "Trabalho2_vCleiton.ipynb",
      "provenance": [],
      "authorship_tag": "ABX9TyNbOiNubkMXd0hkUCwVV4Tz",
      "include_colab_link": true
    },
    "kernelspec": {
      "name": "python3",
      "display_name": "Python 3"
    }
  },
  "cells": [
    {
      "cell_type": "markdown",
      "metadata": {
        "id": "view-in-github",
        "colab_type": "text"
      },
      "source": [
        "<a href=\"https://colab.research.google.com/github/cleitonmoya/MAE001_Trabalho2/blob/main/Trabalho2_vCleiton.ipynb\" target=\"_parent\"><img src=\"https://colab.research.google.com/assets/colab-badge.svg\" alt=\"Open In Colab\"/></a>"
      ]
    },
    {
      "cell_type": "markdown",
      "metadata": {
        "id": "-yQHIQjn3dvy"
      },
      "source": [
        "#MAE001 - Projeto \\#2 "
      ]
    },
    {
      "cell_type": "markdown",
      "metadata": {
        "id": "FRyu6SOy3o6o"
      },
      "source": [
        "MAE001 - Modelagem Matemática em Finanças I \\\\\n",
        "Professor: Marco A. Cabral\n",
        "\n",
        "Alunos:\n",
        "* Cleiton Moya de Almeida\n",
        "* Gustaco Maciel Ribeiro\n",
        "* Renato Santana\n"
      ]
    },
    {
      "cell_type": "markdown",
      "metadata": {
        "id": "1y0NTHrXAXxh"
      },
      "source": [
        "## Introdução"
      ]
    },
    {
      "cell_type": "markdown",
      "metadata": {
        "id": "0m-zl78q1mm7"
      },
      "source": [
        "O objetivo deste trabalho..."
      ]
    },
    {
      "cell_type": "markdown",
      "metadata": {
        "id": "nfDAL27Swf7j"
      },
      "source": [
        "## Importação das Séries"
      ]
    },
    {
      "cell_type": "code",
      "metadata": {
        "id": "jOAJ5V9vOs_L"
      },
      "source": [
        "import numpy as np\n",
        "import pandas as pd\n",
        "import matplotlib.pyplot as plt\n",
        "import seaborn as sns\n",
        "import random\n",
        "from scipy.optimize import minimize\n",
        "\n",
        "pd.reset_option('display.float_format')\n",
        "#np.set_printoptions(precision=2)\n",
        "#pd.options.display.precision = 2"
      ],
      "execution_count": 473,
      "outputs": []
    },
    {
      "cell_type": "code",
      "metadata": {
        "id": "4wnQo0wsWgIq"
      },
      "source": [
        "# Séries financeiras\n",
        "dir = 'https://raw.githubusercontent.com/cleitonmoya/MAE001_Trabalho2/main/series/'\n",
        "series = ['IBOV', 'BBDC4', 'ITUB4', 'CSNA3', 'GGBR4', 'B3SA3',\n",
        "                  'PETR4', 'MGLU3', 'ABEV3', 'WEGE3', 'VIVT4']\n",
        "url = dir + 'IBOV' + '.csv'\n",
        "\n",
        "# Cria primeiro um dataframe somente com o IBOV\n",
        "df = pd.read_csv(url, decimal=',', sep=';', index_col=0, dayfirst=True, parse_dates=True, usecols=['Data', 'Fechamento'], header=0)\n",
        "df.columns=['IBOV']\n",
        "\n",
        "# Carrega as demais séries para o dataframe\n",
        "for _,ativo in enumerate(series):\n",
        "  url = dir + ativo + '.csv'\n",
        "  df[ativo] = pd.read_csv(url, decimal=',', sep=';', index_col=0, dayfirst=True, parse_dates=True, usecols=['Data','Fechamento'])\n",
        "\n",
        "# Ordena o dataframe por data crescente (a fim de permitir correta localização)\n",
        "df.sort_index(inplace=True) \n",
        "df = df.loc['2015-01-01':'2019-12-31'] # período analisado"
      ],
      "execution_count": 474,
      "outputs": []
    },
    {
      "cell_type": "markdown",
      "metadata": {
        "id": "vNy1fG2B0KrJ"
      },
      "source": [
        "Visualização das séries importadas:"
      ]
    },
    {
      "cell_type": "code",
      "metadata": {
        "id": "KWvMnHQP0DFk",
        "outputId": "79f23663-cfbb-41d9-bea6-e6d437460928",
        "colab": {
          "base_uri": "https://localhost:8080/",
          "height": 450
        }
      },
      "source": [
        "df"
      ],
      "execution_count": 475,
      "outputs": [
        {
          "output_type": "execute_result",
          "data": {
            "text/html": [
              "<div>\n",
              "<style scoped>\n",
              "    .dataframe tbody tr th:only-of-type {\n",
              "        vertical-align: middle;\n",
              "    }\n",
              "\n",
              "    .dataframe tbody tr th {\n",
              "        vertical-align: top;\n",
              "    }\n",
              "\n",
              "    .dataframe thead th {\n",
              "        text-align: right;\n",
              "    }\n",
              "</style>\n",
              "<table border=\"1\" class=\"dataframe\">\n",
              "  <thead>\n",
              "    <tr style=\"text-align: right;\">\n",
              "      <th></th>\n",
              "      <th>IBOV</th>\n",
              "      <th>BBDC4</th>\n",
              "      <th>ITUB4</th>\n",
              "      <th>CSNA3</th>\n",
              "      <th>GGBR4</th>\n",
              "      <th>B3SA3</th>\n",
              "      <th>PETR4</th>\n",
              "      <th>MGLU3</th>\n",
              "      <th>ABEV3</th>\n",
              "      <th>WEGE3</th>\n",
              "      <th>VIVT4</th>\n",
              "    </tr>\n",
              "    <tr>\n",
              "      <th>Data</th>\n",
              "      <th></th>\n",
              "      <th></th>\n",
              "      <th></th>\n",
              "      <th></th>\n",
              "      <th></th>\n",
              "      <th></th>\n",
              "      <th></th>\n",
              "      <th></th>\n",
              "      <th></th>\n",
              "      <th></th>\n",
              "      <th></th>\n",
              "    </tr>\n",
              "  </thead>\n",
              "  <tbody>\n",
              "    <tr>\n",
              "      <th>2015-01-02</th>\n",
              "      <td>48512.22</td>\n",
              "      <td>13.01</td>\n",
              "      <td>13.81</td>\n",
              "      <td>4.21</td>\n",
              "      <td>8.40</td>\n",
              "      <td>7.88</td>\n",
              "      <td>8.79</td>\n",
              "      <td>0.22</td>\n",
              "      <td>13.95</td>\n",
              "      <td>10.82</td>\n",
              "      <td>31.81</td>\n",
              "    </tr>\n",
              "    <tr>\n",
              "      <th>2015-01-05</th>\n",
              "      <td>47516.82</td>\n",
              "      <td>13.04</td>\n",
              "      <td>13.88</td>\n",
              "      <td>4.05</td>\n",
              "      <td>8.04</td>\n",
              "      <td>7.65</td>\n",
              "      <td>8.08</td>\n",
              "      <td>0.23</td>\n",
              "      <td>13.64</td>\n",
              "      <td>10.76</td>\n",
              "      <td>31.68</td>\n",
              "    </tr>\n",
              "    <tr>\n",
              "      <th>2015-01-06</th>\n",
              "      <td>48000.92</td>\n",
              "      <td>13.46</td>\n",
              "      <td>14.11</td>\n",
              "      <td>4.32</td>\n",
              "      <td>8.94</td>\n",
              "      <td>7.72</td>\n",
              "      <td>7.82</td>\n",
              "      <td>0.22</td>\n",
              "      <td>14.04</td>\n",
              "      <td>10.59</td>\n",
              "      <td>31.40</td>\n",
              "    </tr>\n",
              "    <tr>\n",
              "      <th>2015-01-07</th>\n",
              "      <td>49462.91</td>\n",
              "      <td>14.00</td>\n",
              "      <td>14.62</td>\n",
              "      <td>4.79</td>\n",
              "      <td>9.61</td>\n",
              "      <td>8.05</td>\n",
              "      <td>8.14</td>\n",
              "      <td>0.23</td>\n",
              "      <td>14.38</td>\n",
              "      <td>10.58</td>\n",
              "      <td>31.98</td>\n",
              "    </tr>\n",
              "    <tr>\n",
              "      <th>2015-01-08</th>\n",
              "      <td>49943.30</td>\n",
              "      <td>14.07</td>\n",
              "      <td>14.85</td>\n",
              "      <td>4.68</td>\n",
              "      <td>9.43</td>\n",
              "      <td>7.97</td>\n",
              "      <td>8.62</td>\n",
              "      <td>0.23</td>\n",
              "      <td>14.43</td>\n",
              "      <td>10.71</td>\n",
              "      <td>32.31</td>\n",
              "    </tr>\n",
              "    <tr>\n",
              "      <th>...</th>\n",
              "      <td>...</td>\n",
              "      <td>...</td>\n",
              "      <td>...</td>\n",
              "      <td>...</td>\n",
              "      <td>...</td>\n",
              "      <td>...</td>\n",
              "      <td>...</td>\n",
              "      <td>...</td>\n",
              "      <td>...</td>\n",
              "      <td>...</td>\n",
              "      <td>...</td>\n",
              "    </tr>\n",
              "    <tr>\n",
              "      <th>2019-12-20</th>\n",
              "      <td>115121.08</td>\n",
              "      <td>32.13</td>\n",
              "      <td>35.24</td>\n",
              "      <td>13.79</td>\n",
              "      <td>19.12</td>\n",
              "      <td>47.23</td>\n",
              "      <td>29.91</td>\n",
              "      <td>12.13</td>\n",
              "      <td>18.91</td>\n",
              "      <td>33.62</td>\n",
              "      <td>54.29</td>\n",
              "    </tr>\n",
              "    <tr>\n",
              "      <th>2019-12-23</th>\n",
              "      <td>115863.29</td>\n",
              "      <td>32.33</td>\n",
              "      <td>35.56</td>\n",
              "      <td>14.51</td>\n",
              "      <td>19.43</td>\n",
              "      <td>45.08</td>\n",
              "      <td>30.15</td>\n",
              "      <td>12.16</td>\n",
              "      <td>18.96</td>\n",
              "      <td>33.55</td>\n",
              "      <td>54.78</td>\n",
              "    </tr>\n",
              "    <tr>\n",
              "      <th>2019-12-26</th>\n",
              "      <td>117203.20</td>\n",
              "      <td>32.73</td>\n",
              "      <td>36.10</td>\n",
              "      <td>14.48</td>\n",
              "      <td>19.85</td>\n",
              "      <td>44.87</td>\n",
              "      <td>30.55</td>\n",
              "      <td>12.25</td>\n",
              "      <td>19.22</td>\n",
              "      <td>34.60</td>\n",
              "      <td>55.26</td>\n",
              "    </tr>\n",
              "    <tr>\n",
              "      <th>2019-12-27</th>\n",
              "      <td>116533.98</td>\n",
              "      <td>32.61</td>\n",
              "      <td>36.01</td>\n",
              "      <td>13.94</td>\n",
              "      <td>19.84</td>\n",
              "      <td>42.52</td>\n",
              "      <td>30.52</td>\n",
              "      <td>12.16</td>\n",
              "      <td>19.16</td>\n",
              "      <td>35.09</td>\n",
              "      <td>54.87</td>\n",
              "    </tr>\n",
              "    <tr>\n",
              "      <th>2019-12-30</th>\n",
              "      <td>115645.34</td>\n",
              "      <td>32.56</td>\n",
              "      <td>35.81</td>\n",
              "      <td>14.09</td>\n",
              "      <td>19.96</td>\n",
              "      <td>41.33</td>\n",
              "      <td>30.18</td>\n",
              "      <td>11.90</td>\n",
              "      <td>18.67</td>\n",
              "      <td>34.41</td>\n",
              "      <td>54.40</td>\n",
              "    </tr>\n",
              "  </tbody>\n",
              "</table>\n",
              "<p>1234 rows × 11 columns</p>\n",
              "</div>"
            ],
            "text/plain": [
              "                 IBOV  BBDC4  ITUB4  CSNA3  ...  MGLU3  ABEV3  WEGE3  VIVT4\n",
              "Data                                        ...                            \n",
              "2015-01-02   48512.22  13.01  13.81   4.21  ...   0.22  13.95  10.82  31.81\n",
              "2015-01-05   47516.82  13.04  13.88   4.05  ...   0.23  13.64  10.76  31.68\n",
              "2015-01-06   48000.92  13.46  14.11   4.32  ...   0.22  14.04  10.59  31.40\n",
              "2015-01-07   49462.91  14.00  14.62   4.79  ...   0.23  14.38  10.58  31.98\n",
              "2015-01-08   49943.30  14.07  14.85   4.68  ...   0.23  14.43  10.71  32.31\n",
              "...               ...    ...    ...    ...  ...    ...    ...    ...    ...\n",
              "2019-12-20  115121.08  32.13  35.24  13.79  ...  12.13  18.91  33.62  54.29\n",
              "2019-12-23  115863.29  32.33  35.56  14.51  ...  12.16  18.96  33.55  54.78\n",
              "2019-12-26  117203.20  32.73  36.10  14.48  ...  12.25  19.22  34.60  55.26\n",
              "2019-12-27  116533.98  32.61  36.01  13.94  ...  12.16  19.16  35.09  54.87\n",
              "2019-12-30  115645.34  32.56  35.81  14.09  ...  11.90  18.67  34.41  54.40\n",
              "\n",
              "[1234 rows x 11 columns]"
            ]
          },
          "metadata": {
            "tags": []
          },
          "execution_count": 475
        }
      ]
    },
    {
      "cell_type": "markdown",
      "metadata": {
        "id": "kkOta__H_V1D"
      },
      "source": [
        "## Questão 1"
      ]
    },
    {
      "cell_type": "markdown",
      "metadata": {
        "id": "Pyo8Ku2I46Rv"
      },
      "source": [
        "Gera retornos (diários) aleatórios:"
      ]
    },
    {
      "cell_type": "code",
      "metadata": {
        "id": "5E1urYGf5BUj"
      },
      "source": [
        "mu_min = 1e-3\n",
        "mu_max = 5e-3\n",
        "std_min = 1e-2\n",
        "std_max = 3e-2\n",
        "\n",
        "N = 7 # Número de ativos\n",
        "seed = 39\n",
        "# (5,42), (7, 39), (7, 37), \n",
        "T = 252 # período da série\n",
        "\n",
        "# Gera série de retorno normal\n",
        "def geraRetorno():\n",
        "  mu = np.random.uniform(mu_min, mu_max)\n",
        "  std = np.random.uniform(std_min, std_max)\n",
        "  for t in range(T):\n",
        "    R = np.random.normal(loc=mu, scale=std, size=T)\n",
        "  return R\n",
        "\n",
        "random.seed(seed)\n",
        "np.random.seed(seed)\n",
        "X = geraRetorno()\n",
        "while (X.mean() < 0):\n",
        "  X = geraRetorno()\n",
        "\n",
        "dfX = pd.DataFrame(X.T, np.arange(1,T+1))\n",
        "for n in range(1,N):\n",
        "  X = geraRetorno()\n",
        "  while (X.mean() < 0):\n",
        "    X = geraRetorno()\n",
        "  dfX[n] = X\n",
        "\n",
        "# Nomeia os ativos (A, B, C...)\n",
        "import string\n",
        "ativos = list(string.ascii_uppercase)[:N]\n",
        "dfX.rename(columns=dict(zip(range(N), ativos)), inplace=True)"
      ],
      "execution_count": 476,
      "outputs": []
    },
    {
      "cell_type": "markdown",
      "metadata": {
        "id": "pVPrUKaulq1r"
      },
      "source": [
        "Matriz de Covariância:"
      ]
    },
    {
      "cell_type": "code",
      "metadata": {
        "id": "6IZUq6jrltvH",
        "outputId": "343d74ca-e927-4521-8c57-342449c2e88e",
        "colab": {
          "base_uri": "https://localhost:8080/",
          "height": 266
        }
      },
      "source": [
        "dfX.cov()"
      ],
      "execution_count": 477,
      "outputs": [
        {
          "output_type": "execute_result",
          "data": {
            "text/html": [
              "<div>\n",
              "<style scoped>\n",
              "    .dataframe tbody tr th:only-of-type {\n",
              "        vertical-align: middle;\n",
              "    }\n",
              "\n",
              "    .dataframe tbody tr th {\n",
              "        vertical-align: top;\n",
              "    }\n",
              "\n",
              "    .dataframe thead th {\n",
              "        text-align: right;\n",
              "    }\n",
              "</style>\n",
              "<table border=\"1\" class=\"dataframe\">\n",
              "  <thead>\n",
              "    <tr style=\"text-align: right;\">\n",
              "      <th></th>\n",
              "      <th>A</th>\n",
              "      <th>B</th>\n",
              "      <th>C</th>\n",
              "      <th>D</th>\n",
              "      <th>E</th>\n",
              "      <th>F</th>\n",
              "      <th>G</th>\n",
              "    </tr>\n",
              "  </thead>\n",
              "  <tbody>\n",
              "    <tr>\n",
              "      <th>A</th>\n",
              "      <td>0.000715</td>\n",
              "      <td>4.196135e-05</td>\n",
              "      <td>-0.000061</td>\n",
              "      <td>3.295252e-06</td>\n",
              "      <td>-0.000035</td>\n",
              "      <td>-8.932829e-06</td>\n",
              "      <td>0.000008</td>\n",
              "    </tr>\n",
              "    <tr>\n",
              "      <th>B</th>\n",
              "      <td>0.000042</td>\n",
              "      <td>8.070923e-04</td>\n",
              "      <td>-0.000038</td>\n",
              "      <td>-1.862042e-05</td>\n",
              "      <td>-0.000019</td>\n",
              "      <td>-7.374229e-07</td>\n",
              "      <td>-0.000025</td>\n",
              "    </tr>\n",
              "    <tr>\n",
              "      <th>C</th>\n",
              "      <td>-0.000061</td>\n",
              "      <td>-3.769579e-05</td>\n",
              "      <td>0.000731</td>\n",
              "      <td>3.568396e-05</td>\n",
              "      <td>0.000020</td>\n",
              "      <td>-1.484938e-05</td>\n",
              "      <td>0.000006</td>\n",
              "    </tr>\n",
              "    <tr>\n",
              "      <th>D</th>\n",
              "      <td>0.000003</td>\n",
              "      <td>-1.862042e-05</td>\n",
              "      <td>0.000036</td>\n",
              "      <td>5.177776e-04</td>\n",
              "      <td>-0.000017</td>\n",
              "      <td>1.439194e-07</td>\n",
              "      <td>0.000007</td>\n",
              "    </tr>\n",
              "    <tr>\n",
              "      <th>E</th>\n",
              "      <td>-0.000035</td>\n",
              "      <td>-1.935677e-05</td>\n",
              "      <td>0.000020</td>\n",
              "      <td>-1.707767e-05</td>\n",
              "      <td>0.000205</td>\n",
              "      <td>5.348935e-06</td>\n",
              "      <td>-0.000008</td>\n",
              "    </tr>\n",
              "    <tr>\n",
              "      <th>F</th>\n",
              "      <td>-0.000009</td>\n",
              "      <td>-7.374229e-07</td>\n",
              "      <td>-0.000015</td>\n",
              "      <td>1.439194e-07</td>\n",
              "      <td>0.000005</td>\n",
              "      <td>3.633081e-04</td>\n",
              "      <td>-0.000020</td>\n",
              "    </tr>\n",
              "    <tr>\n",
              "      <th>G</th>\n",
              "      <td>0.000008</td>\n",
              "      <td>-2.509877e-05</td>\n",
              "      <td>0.000006</td>\n",
              "      <td>7.195189e-06</td>\n",
              "      <td>-0.000008</td>\n",
              "      <td>-2.034396e-05</td>\n",
              "      <td>0.000111</td>\n",
              "    </tr>\n",
              "  </tbody>\n",
              "</table>\n",
              "</div>"
            ],
            "text/plain": [
              "          A             B         C  ...         E             F         G\n",
              "A  0.000715  4.196135e-05 -0.000061  ... -0.000035 -8.932829e-06  0.000008\n",
              "B  0.000042  8.070923e-04 -0.000038  ... -0.000019 -7.374229e-07 -0.000025\n",
              "C -0.000061 -3.769579e-05  0.000731  ...  0.000020 -1.484938e-05  0.000006\n",
              "D  0.000003 -1.862042e-05  0.000036  ... -0.000017  1.439194e-07  0.000007\n",
              "E -0.000035 -1.935677e-05  0.000020  ...  0.000205  5.348935e-06 -0.000008\n",
              "F -0.000009 -7.374229e-07 -0.000015  ...  0.000005  3.633081e-04 -0.000020\n",
              "G  0.000008 -2.509877e-05  0.000006  ... -0.000008 -2.034396e-05  0.000111\n",
              "\n",
              "[7 rows x 7 columns]"
            ]
          },
          "metadata": {
            "tags": []
          },
          "execution_count": 477
        }
      ]
    },
    {
      "cell_type": "code",
      "metadata": {
        "id": "VzvTNs5x6FlP",
        "outputId": "35dec655-676e-4080-e6c8-916411e1af45",
        "colab": {
          "base_uri": "https://localhost:8080/"
        }
      },
      "source": [
        "if np.any(np.linalg.eigvals(dfX.cov().to_numpy()) == 0):\n",
        "  print('Autovalor negativo!')\n",
        "else: \n",
        "  print('Autovalores positivos!')"
      ],
      "execution_count": 478,
      "outputs": [
        {
          "output_type": "stream",
          "text": [
            "Autovalores positivos!\n"
          ],
          "name": "stdout"
        }
      ]
    },
    {
      "cell_type": "markdown",
      "metadata": {
        "id": "iN5TPaLYoetF"
      },
      "source": [
        "Índice Sharpe:"
      ]
    },
    {
      "cell_type": "code",
      "metadata": {
        "id": "ScQQuje8n6nR",
        "outputId": "20585138-25ed-4d8b-ecb8-38dc8d2eee8c",
        "colab": {
          "base_uri": "https://localhost:8080/",
          "height": 266
        }
      },
      "source": [
        "X_anual = (1+dfX.mean())**252-1   # retorno médio anualizado\n",
        "Std_anual = dfX.std()*np.sqrt(252)\n",
        "Var_anual = dfX.var()*252\n",
        "\n",
        "dfS = pd.DataFrame(X_anual, columns=['Retorno'])\n",
        "dfS['Risco_Std'] = Std_anual\n",
        "dfS['Risco_Var'] = Var_anual\n",
        "dfS['Sharpe'] = dfS.apply(lambda x: x['Retorno']/x['Risco_Std'],axis=1)\n",
        "dfS"
      ],
      "execution_count": 479,
      "outputs": [
        {
          "output_type": "execute_result",
          "data": {
            "text/html": [
              "<div>\n",
              "<style scoped>\n",
              "    .dataframe tbody tr th:only-of-type {\n",
              "        vertical-align: middle;\n",
              "    }\n",
              "\n",
              "    .dataframe tbody tr th {\n",
              "        vertical-align: top;\n",
              "    }\n",
              "\n",
              "    .dataframe thead th {\n",
              "        text-align: right;\n",
              "    }\n",
              "</style>\n",
              "<table border=\"1\" class=\"dataframe\">\n",
              "  <thead>\n",
              "    <tr style=\"text-align: right;\">\n",
              "      <th></th>\n",
              "      <th>Retorno</th>\n",
              "      <th>Risco_Std</th>\n",
              "      <th>Risco_Var</th>\n",
              "      <th>Sharpe</th>\n",
              "    </tr>\n",
              "  </thead>\n",
              "  <tbody>\n",
              "    <tr>\n",
              "      <th>A</th>\n",
              "      <td>3.452899</td>\n",
              "      <td>0.424392</td>\n",
              "      <td>0.180108</td>\n",
              "      <td>8.136115</td>\n",
              "    </tr>\n",
              "    <tr>\n",
              "      <th>B</th>\n",
              "      <td>0.783570</td>\n",
              "      <td>0.450985</td>\n",
              "      <td>0.203387</td>\n",
              "      <td>1.737465</td>\n",
              "    </tr>\n",
              "    <tr>\n",
              "      <th>C</th>\n",
              "      <td>0.160401</td>\n",
              "      <td>0.429285</td>\n",
              "      <td>0.184286</td>\n",
              "      <td>0.373648</td>\n",
              "    </tr>\n",
              "    <tr>\n",
              "      <th>D</th>\n",
              "      <td>1.265659</td>\n",
              "      <td>0.361220</td>\n",
              "      <td>0.130480</td>\n",
              "      <td>3.503844</td>\n",
              "    </tr>\n",
              "    <tr>\n",
              "      <th>E</th>\n",
              "      <td>0.822865</td>\n",
              "      <td>0.227237</td>\n",
              "      <td>0.051637</td>\n",
              "      <td>3.621176</td>\n",
              "    </tr>\n",
              "    <tr>\n",
              "      <th>F</th>\n",
              "      <td>0.810801</td>\n",
              "      <td>0.302578</td>\n",
              "      <td>0.091554</td>\n",
              "      <td>2.679639</td>\n",
              "    </tr>\n",
              "    <tr>\n",
              "      <th>G</th>\n",
              "      <td>1.656917</td>\n",
              "      <td>0.167199</td>\n",
              "      <td>0.027955</td>\n",
              "      <td>9.909861</td>\n",
              "    </tr>\n",
              "  </tbody>\n",
              "</table>\n",
              "</div>"
            ],
            "text/plain": [
              "    Retorno  Risco_Std  Risco_Var    Sharpe\n",
              "A  3.452899   0.424392   0.180108  8.136115\n",
              "B  0.783570   0.450985   0.203387  1.737465\n",
              "C  0.160401   0.429285   0.184286  0.373648\n",
              "D  1.265659   0.361220   0.130480  3.503844\n",
              "E  0.822865   0.227237   0.051637  3.621176\n",
              "F  0.810801   0.302578   0.091554  2.679639\n",
              "G  1.656917   0.167199   0.027955  9.909861"
            ]
          },
          "metadata": {
            "tags": []
          },
          "execution_count": 479
        }
      ]
    },
    {
      "cell_type": "markdown",
      "metadata": {
        "id": "XgnCOqSb41Yy"
      },
      "source": [
        "Simulação de carteiras:"
      ]
    },
    {
      "cell_type": "code",
      "metadata": {
        "id": "V1J2NEns4csQ"
      },
      "source": [
        "N_por = 10000 # número de carteiras simuladas\n",
        "Cov = dfX.cov().to_numpy()*252\n",
        "R = dfS['Retorno'].to_numpy() \n",
        "np.random.seed(42)\n",
        "X = np.array([])\n",
        "Std = np.array([])\n",
        "for n in range(N_por):\n",
        "  P = np.random.dirichlet(np.ones(N))\n",
        "  X = np.append(X, R@P)                         # Retorno das carteiras\n",
        "  Std = np.append(Std, np.sqrt(P.T@Cov@P))      # Risco (Std) das carteiras\n",
        "S = X/Std # Índice Sharpe das Carteiras"
      ],
      "execution_count": 480,
      "outputs": []
    },
    {
      "cell_type": "markdown",
      "metadata": {
        "id": "4GS_k53w44HT"
      },
      "source": [
        "Bala de Markowitz:"
      ]
    },
    {
      "cell_type": "code",
      "metadata": {
        "id": "GZsTTY7awimS",
        "outputId": "386d4076-62c9-45c6-e428-1be6ecd98ec3",
        "colab": {
          "base_uri": "https://localhost:8080/",
          "height": 442
        }
      },
      "source": [
        "# Plota as carteiras simuladas\n",
        "plt.figure(figsize=(12,7))\n",
        "plt.xlabel('Risco (Std)')\n",
        "plt.ylabel('Retorno')  \n",
        "plt.scatter(Std, X, c=S, cmap='viridis')\n",
        "plt.colorbar(label='Índice Sharpe')\n",
        "\n",
        "# Plota as carteiras mono-ativo\n",
        "plt.scatter(dfS.Risco_Std, dfS.Retorno, marker='s', color='r')\n",
        "for label, x, y in zip(ativos, dfS['Risco_Std'], dfS['Retorno']):\n",
        "    plt.annotate(\n",
        "        label,\n",
        "        xy=(x, y), xytext=(0, 2),\n",
        "        textcoords='offset points', ha='center', va='bottom')\n",
        "plt.show()"
      ],
      "execution_count": 481,
      "outputs": [
        {
          "output_type": "display_data",
          "data": {
            "image/png": "[encoded data removed]",
            "text/plain": [
              "<Figure size 864x504 with 2 Axes>"
            ]
          },
          "metadata": {
            "tags": [],
            "needs_background": "light"
          }
        }
      ]
    },
    {
      "cell_type": "code",
      "metadata": {
        "id": "VYEac-nY5VDz"
      },
      "source": [
        ""
      ],
      "execution_count": 481,
      "outputs": []
    },
    {
      "cell_type": "markdown",
      "metadata": {
        "id": "uX7YHNSP_SpR"
      },
      "source": [
        "## Questão 2"
      ]
    },
    {
      "cell_type": "markdown",
      "metadata": {
        "id": "TdPbsmtdfRv3"
      },
      "source": [
        "* Setor Financeiro:\n",
        "   * Banco Bradesco (BBDC4);\n",
        "   * Banco Itaú-Unibanco (ITUB4);\n",
        "* Setor de Siderurgia:\n",
        "   * Companhia Siderúrigica Nacional (CSNA3)\n",
        "   * Grupo Gerdau (GGBR4)\n",
        " \n"
      ]
    },
    {
      "cell_type": "markdown",
      "metadata": {
        "id": "NI_R8zQdCWcv"
      },
      "source": [
        "Cálculo do retorno percentual:"
      ]
    },
    {
      "cell_type": "code",
      "metadata": {
        "id": "e84WJf7iCkCQ",
        "outputId": "86ac27b8-1410-4458-d137-b5300ba5646b",
        "colab": {
          "base_uri": "https://localhost:8080/",
          "height": 297
        }
      },
      "source": [
        "df_ret = df.pct_change().iloc[1:,:] # matriz de retornos\n",
        "df_ret.describe()"
      ],
      "execution_count": 482,
      "outputs": [
        {
          "output_type": "execute_result",
          "data": {
            "text/html": [
              "<div>\n",
              "<style scoped>\n",
              "    .dataframe tbody tr th:only-of-type {\n",
              "        vertical-align: middle;\n",
              "    }\n",
              "\n",
              "    .dataframe tbody tr th {\n",
              "        vertical-align: top;\n",
              "    }\n",
              "\n",
              "    .dataframe thead th {\n",
              "        text-align: right;\n",
              "    }\n",
              "</style>\n",
              "<table border=\"1\" class=\"dataframe\">\n",
              "  <thead>\n",
              "    <tr style=\"text-align: right;\">\n",
              "      <th></th>\n",
              "      <th>IBOV</th>\n",
              "      <th>BBDC4</th>\n",
              "      <th>ITUB4</th>\n",
              "      <th>CSNA3</th>\n",
              "      <th>GGBR4</th>\n",
              "      <th>B3SA3</th>\n",
              "      <th>PETR4</th>\n",
              "      <th>MGLU3</th>\n",
              "      <th>ABEV3</th>\n",
              "      <th>WEGE3</th>\n",
              "      <th>VIVT4</th>\n",
              "    </tr>\n",
              "  </thead>\n",
              "  <tbody>\n",
              "    <tr>\n",
              "      <th>count</th>\n",
              "      <td>1233.000000</td>\n",
              "      <td>1233.000000</td>\n",
              "      <td>1233.000000</td>\n",
              "      <td>1233.000000</td>\n",
              "      <td>1233.000000</td>\n",
              "      <td>1233.000000</td>\n",
              "      <td>1233.000000</td>\n",
              "      <td>1233.000000</td>\n",
              "      <td>1233.000000</td>\n",
              "      <td>1233.000000</td>\n",
              "      <td>1233.000000</td>\n",
              "    </tr>\n",
              "    <tr>\n",
              "      <th>mean</th>\n",
              "      <td>0.000801</td>\n",
              "      <td>0.000950</td>\n",
              "      <td>0.000952</td>\n",
              "      <td>0.001758</td>\n",
              "      <td>0.001159</td>\n",
              "      <td>0.001559</td>\n",
              "      <td>0.001498</td>\n",
              "      <td>0.004519</td>\n",
              "      <td>0.000330</td>\n",
              "      <td>0.001097</td>\n",
              "      <td>0.000555</td>\n",
              "    </tr>\n",
              "    <tr>\n",
              "      <th>std</th>\n",
              "      <td>0.013874</td>\n",
              "      <td>0.020328</td>\n",
              "      <td>0.018906</td>\n",
              "      <td>0.039653</td>\n",
              "      <td>0.030308</td>\n",
              "      <td>0.020734</td>\n",
              "      <td>0.031537</td>\n",
              "      <td>0.051162</td>\n",
              "      <td>0.013704</td>\n",
              "      <td>0.017776</td>\n",
              "      <td>0.015506</td>\n",
              "    </tr>\n",
              "    <tr>\n",
              "      <th>min</th>\n",
              "      <td>-0.087995</td>\n",
              "      <td>-0.131455</td>\n",
              "      <td>-0.120421</td>\n",
              "      <td>-0.204494</td>\n",
              "      <td>-0.120000</td>\n",
              "      <td>-0.084682</td>\n",
              "      <td>-0.157572</td>\n",
              "      <td>-0.250000</td>\n",
              "      <td>-0.082579</td>\n",
              "      <td>-0.090379</td>\n",
              "      <td>-0.068994</td>\n",
              "    </tr>\n",
              "    <tr>\n",
              "      <th>25%</th>\n",
              "      <td>-0.007190</td>\n",
              "      <td>-0.011067</td>\n",
              "      <td>-0.009709</td>\n",
              "      <td>-0.022444</td>\n",
              "      <td>-0.017078</td>\n",
              "      <td>-0.010855</td>\n",
              "      <td>-0.015707</td>\n",
              "      <td>-0.009852</td>\n",
              "      <td>-0.007246</td>\n",
              "      <td>-0.009743</td>\n",
              "      <td>-0.008045</td>\n",
              "    </tr>\n",
              "    <tr>\n",
              "      <th>50%</th>\n",
              "      <td>0.000905</td>\n",
              "      <td>0.000969</td>\n",
              "      <td>0.000842</td>\n",
              "      <td>0.000000</td>\n",
              "      <td>0.000000</td>\n",
              "      <td>0.000671</td>\n",
              "      <td>0.001471</td>\n",
              "      <td>0.000000</td>\n",
              "      <td>0.000000</td>\n",
              "      <td>0.000602</td>\n",
              "      <td>0.000000</td>\n",
              "    </tr>\n",
              "    <tr>\n",
              "      <th>75%</th>\n",
              "      <td>0.008960</td>\n",
              "      <td>0.012587</td>\n",
              "      <td>0.011254</td>\n",
              "      <td>0.022866</td>\n",
              "      <td>0.018458</td>\n",
              "      <td>0.013675</td>\n",
              "      <td>0.017241</td>\n",
              "      <td>0.019231</td>\n",
              "      <td>0.007786</td>\n",
              "      <td>0.012116</td>\n",
              "      <td>0.009434</td>\n",
              "    </tr>\n",
              "    <tr>\n",
              "      <th>max</th>\n",
              "      <td>0.065958</td>\n",
              "      <td>0.130034</td>\n",
              "      <td>0.109179</td>\n",
              "      <td>0.206675</td>\n",
              "      <td>0.161880</td>\n",
              "      <td>0.101351</td>\n",
              "      <td>0.161959</td>\n",
              "      <td>0.375000</td>\n",
              "      <td>0.085373</td>\n",
              "      <td>0.071639</td>\n",
              "      <td>0.143594</td>\n",
              "    </tr>\n",
              "  </tbody>\n",
              "</table>\n",
              "</div>"
            ],
            "text/plain": [
              "              IBOV        BBDC4  ...        WEGE3        VIVT4\n",
              "count  1233.000000  1233.000000  ...  1233.000000  1233.000000\n",
              "mean      0.000801     0.000950  ...     0.001097     0.000555\n",
              "std       0.013874     0.020328  ...     0.017776     0.015506\n",
              "min      -0.087995    -0.131455  ...    -0.090379    -0.068994\n",
              "25%      -0.007190    -0.011067  ...    -0.009743    -0.008045\n",
              "50%       0.000905     0.000969  ...     0.000602     0.000000\n",
              "75%       0.008960     0.012587  ...     0.012116     0.009434\n",
              "max       0.065958     0.130034  ...     0.071639     0.143594\n",
              "\n",
              "[8 rows x 11 columns]"
            ]
          },
          "metadata": {
            "tags": []
          },
          "execution_count": 482
        }
      ]
    },
    {
      "cell_type": "markdown",
      "metadata": {
        "id": "M_De0v5z3FKN"
      },
      "source": [
        "Análise de correlação das ações com o IBOV:"
      ]
    },
    {
      "cell_type": "code",
      "metadata": {
        "id": "Ur6EUr-UBmDF",
        "outputId": "602f5fa5-f99b-4982-8330-dc6594c58287",
        "colab": {
          "base_uri": "https://localhost:8080/",
          "height": 607
        }
      },
      "source": [
        "from scipy.stats import linregress\n",
        "df_ret = df.pct_change().iloc[1:,:] # matriz de retornos\n",
        "\n",
        "fig, axs = plt.subplots(2, 2,figsize=(10,10))\n",
        "y = df_ret.IBOV\n",
        "x = df_ret.BBDC4\n",
        "axs[0,0].set_title('BBDC4 x IBOV')\n",
        "axs[0,0].scatter(x, y, s=3)\n",
        "m, b, corr, _, _ = linregress(x, y)\n",
        "axs[0,0].plot(x, m*x+b, c='r')\n",
        "\n",
        "x = df_ret.ITUB4\n",
        "axs[0,1].set_title('ITUB4 x IBOV')\n",
        "axs[0,1].scatter(x, y, s=3)\n",
        "m, b, corr, _, _ = linregress(x, y)\n",
        "axs[0,1].plot(x, m*x+b, c='r')\n",
        "\n",
        "x = df_ret.CSNA3\n",
        "axs[1,0].set_title('CSNA3 x IBOV')\n",
        "axs[1,0].scatter(x, y, s=3)\n",
        "m, b, corr, _, _ = linregress(x, y)\n",
        "axs[1,0].plot(x, m*x+b, c='r')\n",
        "\n",
        "x = df_ret.GGBR4\n",
        "axs[1,1].set_title('GGBR4 x IBOV')\n",
        "axs[1,1].scatter(x, y, s=3)\n",
        "m, b, corr, _, _ = linregress(x, y)\n",
        "axs[1,1].plot(x, m*x+b, c='r')\n",
        "\n",
        "plt.show()"
      ],
      "execution_count": 483,
      "outputs": [
        {
          "output_type": "display_data",
          "data": {
            "image/png": "[encoded data removed]",
            "text/plain": [
              "<Figure size 720x720 with 4 Axes>"
            ]
          },
          "metadata": {
            "tags": [],
            "needs_background": "light"
          }
        }
      ]
    },
    {
      "cell_type": "markdown",
      "metadata": {
        "id": "k-3SO9sOS39d"
      },
      "source": [
        "Podemos observar que BBDC4 e ITUB possuem forte correlação com o IBOV."
      ]
    },
    {
      "cell_type": "markdown",
      "metadata": {
        "id": "R2ZzMv7s8755"
      },
      "source": [
        "Ativos ativos do mesmo setor:"
      ]
    },
    {
      "cell_type": "code",
      "metadata": {
        "id": "GZZz_HzPBVev",
        "outputId": "24016e47-37ea-4da6-81d5-8ec478d09ba7",
        "colab": {
          "base_uri": "https://localhost:8080/",
          "height": 356
        }
      },
      "source": [
        "fig, axs = plt.subplots(1, 2, figsize=(10,5))\n",
        "fig.suptitle('Setores iguais', fontsize=16)\n",
        "axs[0].set_title('BBDC4 x ITUB4')\n",
        "x = df_ret.BBDC4\n",
        "y = df_ret.ITUB4\n",
        "axs[0].scatter(x, y, s=3)\n",
        "m, b, corr, _, _ = linregress(x, y)\n",
        "axs[0].plot(x, m*x+b, c='r')\n",
        "\n",
        "\n",
        "axs[1].set_title('CSNA3 x GGBR4')\n",
        "x = df_ret.CSNA3\n",
        "y = df_ret.GGBR4\n",
        "axs[1].scatter(x, y, s=3)\n",
        "m, b, corr, _, _ = linregress(x, y)\n",
        "axs[1].plot(x, m*x+b, c='r')\n",
        "plt.show()"
      ],
      "execution_count": 484,
      "outputs": [
        {
          "output_type": "display_data",
          "data": {
            "image/png": "[encoded data removed]",
            "text/plain": [
              "<Figure size 720x360 with 2 Axes>"
            ]
          },
          "metadata": {
            "tags": [],
            "needs_background": "light"
          }
        }
      ]
    },
    {
      "cell_type": "markdown",
      "metadata": {
        "id": "VcMXsK7HSncy"
      },
      "source": [
        "Podemos observar que BBDC4 e ITUB4 possum forte correlação positiva, enquanto que CSNA3 e GGBR4 possuem correlação menor."
      ]
    },
    {
      "cell_type": "markdown",
      "metadata": {
        "id": "d4YKMNpK3L78"
      },
      "source": [
        "Ações de setores diferentes:"
      ]
    },
    {
      "cell_type": "code",
      "metadata": {
        "id": "izBksxrH-ZkY",
        "outputId": "744e031d-470c-4d7b-a66c-568ecb738d9c",
        "colab": {
          "base_uri": "https://localhost:8080/",
          "height": 663
        }
      },
      "source": [
        "fig, axs = plt.subplots(2, 2, figsize=(10,10))\n",
        "fig.suptitle('Setores diferentes', fontsize=16)\n",
        "axs[0,0].set_title('BBDC4 x CSNA3')\n",
        "x = df_ret.BBDC4\n",
        "y = df_ret.CSNA3\n",
        "axs[0,0].scatter(x, y, s=3)\n",
        "m, b, corr, _, _ = linregress(x, y)\n",
        "axs[0,0].plot(x, m*x+b, c='r')\n",
        "\n",
        "axs[0,1].set_title('BBDC4 x GGBR4')\n",
        "y = df_ret.GGBR4\n",
        "axs[0,1].scatter(x, y, s=3)\n",
        "m, b, corr, _, _ = linregress(x, y)\n",
        "axs[0,1].plot(x, m*x+b, c='r')\n",
        "\n",
        "axs[1,0].set_title('ITUB4 x CSNA3')\n",
        "x = df_ret.ITUB4\n",
        "y = df_ret.CSNA3\n",
        "axs[1,0].scatter(x, y, s=3)\n",
        "m, b, corr, _, _ = linregress(x, y)\n",
        "axs[1,0].plot(x, m*x+b, c='r')\n",
        "\n",
        "axs[1,1].set_title('ITUB4 x GGBR4')\n",
        "y = df_ret.GGBR4\n",
        "axs[1,1].scatter(x, y, s=3)\n",
        "m, b, corr, _, _ = linregress(x, y)\n",
        "axs[1,1].plot(x, m*x+b, c='r')\n",
        "plt.show()"
      ],
      "execution_count": 485,
      "outputs": [
        {
          "output_type": "display_data",
          "data": {
            "image/png": "[encoded data removed]",
            "text/plain": [
              "<Figure size 720x720 with 4 Axes>"
            ]
          },
          "metadata": {
            "tags": [],
            "needs_background": "light"
          }
        }
      ]
    },
    {
      "cell_type": "markdown",
      "metadata": {
        "id": "eFepqFY4Dauo"
      },
      "source": [
        "Podemos melhor visualizar através da matriz de correlação plotada na forma de um mapa de calor:"
      ]
    },
    {
      "cell_type": "code",
      "metadata": {
        "id": "2J6BICWAFCC-",
        "outputId": "9144d28c-9196-43fe-d767-4267865135c4",
        "colab": {
          "base_uri": "https://localhost:8080/",
          "height": 269
        }
      },
      "source": [
        "M_Cor = df_ret.iloc[:,:5].corr()\n",
        "mask = np.triu(np.ones_like(M_Cor, dtype=bool)) # Generate a mask for the upper triangle\n",
        "ax = sns.heatmap(M_Cor, mask=mask, vmin=-1, vmax=+1, cmap='RdBu', linewidths=1, annot=True, square=True)\n",
        "plt.yticks(rotation=0) \n",
        "plt.show()"
      ],
      "execution_count": 486,
      "outputs": [
        {
          "output_type": "display_data",
          "data": {
            "image/png": "[encoded data removed]",
            "text/plain": [
              "<Figure size 432x288 with 2 Axes>"
            ]
          },
          "metadata": {
            "tags": [],
            "needs_background": "light"
          }
        }
      ]
    },
    {
      "cell_type": "markdown",
      "metadata": {
        "id": "CuHP0KFPAqRk"
      },
      "source": [
        "## Questão 3"
      ]
    },
    {
      "cell_type": "markdown",
      "metadata": {
        "id": "JU2g0FwgJUN9"
      },
      "source": [
        "Ativos escolhidos:\n",
        "* BBDC4 - Bradesco\n",
        "* ITUB4 - Itaú-Unibanco\n",
        "* CSNA3 - CSN\n",
        "* GGBR4 - Grupo Gerdau\n",
        "* B3SA3 - B3\n",
        "* PETR4 - Petrobras\n",
        "* MGLU3 - Magazine Luíza\n",
        "* ABEV3 - Ambev\n",
        "* WEGE3 - WEG\n",
        "* VIVT4 - Vivo"
      ]
    },
    {
      "cell_type": "markdown",
      "metadata": {
        "id": "CchXaa4KJBTm"
      },
      "source": [
        "Índice Sharpe dos ativos:"
      ]
    },
    {
      "cell_type": "code",
      "metadata": {
        "id": "RzQYSqs2AriV",
        "outputId": "618cb2c7-d4ce-4896-ff78-639414935dc3",
        "colab": {
          "base_uri": "https://localhost:8080/",
          "height": 359
        }
      },
      "source": [
        "df_X = df.pct_change().iloc[1:,1:] # matriz de retornos diários\n",
        "\n",
        "X_anual = (1+df_X.mean())**252-1   # retorno médio anualizado\n",
        "Std_anual = df_X.std()*np.sqrt(252)\n",
        "Var_anual = df_X.var()*252\n",
        "\n",
        "df_S = pd.DataFrame(X_anual, columns=['Retorno'])\n",
        "df_S['Risco_Std'] = Std_anual\n",
        "df_S['Risco_Var'] = Var_anual\n",
        "df_S['Sharpe'] = df_S.apply(lambda x: x['Retorno']/x['Risco_Std'],axis=1)\n",
        "df_S"
      ],
      "execution_count": 487,
      "outputs": [
        {
          "output_type": "execute_result",
          "data": {
            "text/html": [
              "<div>\n",
              "<style scoped>\n",
              "    .dataframe tbody tr th:only-of-type {\n",
              "        vertical-align: middle;\n",
              "    }\n",
              "\n",
              "    .dataframe tbody tr th {\n",
              "        vertical-align: top;\n",
              "    }\n",
              "\n",
              "    .dataframe thead th {\n",
              "        text-align: right;\n",
              "    }\n",
              "</style>\n",
              "<table border=\"1\" class=\"dataframe\">\n",
              "  <thead>\n",
              "    <tr style=\"text-align: right;\">\n",
              "      <th></th>\n",
              "      <th>Retorno</th>\n",
              "      <th>Risco_Std</th>\n",
              "      <th>Risco_Var</th>\n",
              "      <th>Sharpe</th>\n",
              "    </tr>\n",
              "  </thead>\n",
              "  <tbody>\n",
              "    <tr>\n",
              "      <th>BBDC4</th>\n",
              "      <td>0.270465</td>\n",
              "      <td>0.322694</td>\n",
              "      <td>0.104132</td>\n",
              "      <td>0.838146</td>\n",
              "    </tr>\n",
              "    <tr>\n",
              "      <th>ITUB4</th>\n",
              "      <td>0.270828</td>\n",
              "      <td>0.300126</td>\n",
              "      <td>0.090076</td>\n",
              "      <td>0.902381</td>\n",
              "    </tr>\n",
              "    <tr>\n",
              "      <th>CSNA3</th>\n",
              "      <td>0.556750</td>\n",
              "      <td>0.629473</td>\n",
              "      <td>0.396236</td>\n",
              "      <td>0.884470</td>\n",
              "    </tr>\n",
              "    <tr>\n",
              "      <th>GGBR4</th>\n",
              "      <td>0.338852</td>\n",
              "      <td>0.481128</td>\n",
              "      <td>0.231484</td>\n",
              "      <td>0.704287</td>\n",
              "    </tr>\n",
              "    <tr>\n",
              "      <th>B3SA3</th>\n",
              "      <td>0.480767</td>\n",
              "      <td>0.329147</td>\n",
              "      <td>0.108338</td>\n",
              "      <td>1.460645</td>\n",
              "    </tr>\n",
              "    <tr>\n",
              "      <th>PETR4</th>\n",
              "      <td>0.458035</td>\n",
              "      <td>0.500630</td>\n",
              "      <td>0.250630</td>\n",
              "      <td>0.914917</td>\n",
              "    </tr>\n",
              "    <tr>\n",
              "      <th>MGLU3</th>\n",
              "      <td>2.114900</td>\n",
              "      <td>0.812171</td>\n",
              "      <td>0.659622</td>\n",
              "      <td>2.604009</td>\n",
              "    </tr>\n",
              "    <tr>\n",
              "      <th>ABEV3</th>\n",
              "      <td>0.086756</td>\n",
              "      <td>0.217543</td>\n",
              "      <td>0.047325</td>\n",
              "      <td>0.398796</td>\n",
              "    </tr>\n",
              "    <tr>\n",
              "      <th>WEGE3</th>\n",
              "      <td>0.318107</td>\n",
              "      <td>0.282180</td>\n",
              "      <td>0.079626</td>\n",
              "      <td>1.127318</td>\n",
              "    </tr>\n",
              "    <tr>\n",
              "      <th>VIVT4</th>\n",
              "      <td>0.150009</td>\n",
              "      <td>0.246149</td>\n",
              "      <td>0.060589</td>\n",
              "      <td>0.609423</td>\n",
              "    </tr>\n",
              "  </tbody>\n",
              "</table>\n",
              "</div>"
            ],
            "text/plain": [
              "        Retorno  Risco_Std  Risco_Var    Sharpe\n",
              "BBDC4  0.270465   0.322694   0.104132  0.838146\n",
              "ITUB4  0.270828   0.300126   0.090076  0.902381\n",
              "CSNA3  0.556750   0.629473   0.396236  0.884470\n",
              "GGBR4  0.338852   0.481128   0.231484  0.704287\n",
              "B3SA3  0.480767   0.329147   0.108338  1.460645\n",
              "PETR4  0.458035   0.500630   0.250630  0.914917\n",
              "MGLU3  2.114900   0.812171   0.659622  2.604009\n",
              "ABEV3  0.086756   0.217543   0.047325  0.398796\n",
              "WEGE3  0.318107   0.282180   0.079626  1.127318\n",
              "VIVT4  0.150009   0.246149   0.060589  0.609423"
            ]
          },
          "metadata": {
            "tags": []
          },
          "execution_count": 487
        }
      ]
    },
    {
      "cell_type": "markdown",
      "metadata": {
        "id": "qpohwEVcKQms"
      },
      "source": [
        "Matriz de covariância:"
      ]
    },
    {
      "cell_type": "code",
      "metadata": {
        "id": "wIVlHUATKSy_",
        "outputId": "6f8a12b8-52aa-41b4-9efa-45944bef90cb",
        "colab": {
          "base_uri": "https://localhost:8080/",
          "height": 359
        }
      },
      "source": [
        "df_X.cov()*252"
      ],
      "execution_count": 488,
      "outputs": [
        {
          "output_type": "execute_result",
          "data": {
            "text/html": [
              "<div>\n",
              "<style scoped>\n",
              "    .dataframe tbody tr th:only-of-type {\n",
              "        vertical-align: middle;\n",
              "    }\n",
              "\n",
              "    .dataframe tbody tr th {\n",
              "        vertical-align: top;\n",
              "    }\n",
              "\n",
              "    .dataframe thead th {\n",
              "        text-align: right;\n",
              "    }\n",
              "</style>\n",
              "<table border=\"1\" class=\"dataframe\">\n",
              "  <thead>\n",
              "    <tr style=\"text-align: right;\">\n",
              "      <th></th>\n",
              "      <th>BBDC4</th>\n",
              "      <th>ITUB4</th>\n",
              "      <th>CSNA3</th>\n",
              "      <th>GGBR4</th>\n",
              "      <th>B3SA3</th>\n",
              "      <th>PETR4</th>\n",
              "      <th>MGLU3</th>\n",
              "      <th>ABEV3</th>\n",
              "      <th>WEGE3</th>\n",
              "      <th>VIVT4</th>\n",
              "    </tr>\n",
              "  </thead>\n",
              "  <tbody>\n",
              "    <tr>\n",
              "      <th>BBDC4</th>\n",
              "      <td>0.104132</td>\n",
              "      <td>0.084758</td>\n",
              "      <td>0.089935</td>\n",
              "      <td>0.068954</td>\n",
              "      <td>0.066696</td>\n",
              "      <td>0.095763</td>\n",
              "      <td>0.063717</td>\n",
              "      <td>0.027283</td>\n",
              "      <td>0.036305</td>\n",
              "      <td>0.037576</td>\n",
              "    </tr>\n",
              "    <tr>\n",
              "      <th>ITUB4</th>\n",
              "      <td>0.084758</td>\n",
              "      <td>0.090076</td>\n",
              "      <td>0.082152</td>\n",
              "      <td>0.062117</td>\n",
              "      <td>0.061326</td>\n",
              "      <td>0.087118</td>\n",
              "      <td>0.056117</td>\n",
              "      <td>0.026463</td>\n",
              "      <td>0.035014</td>\n",
              "      <td>0.033763</td>\n",
              "    </tr>\n",
              "    <tr>\n",
              "      <th>CSNA3</th>\n",
              "      <td>0.089935</td>\n",
              "      <td>0.082152</td>\n",
              "      <td>0.396236</td>\n",
              "      <td>0.200662</td>\n",
              "      <td>0.081102</td>\n",
              "      <td>0.154587</td>\n",
              "      <td>0.097624</td>\n",
              "      <td>0.037043</td>\n",
              "      <td>0.038434</td>\n",
              "      <td>0.043563</td>\n",
              "    </tr>\n",
              "    <tr>\n",
              "      <th>GGBR4</th>\n",
              "      <td>0.068954</td>\n",
              "      <td>0.062117</td>\n",
              "      <td>0.200662</td>\n",
              "      <td>0.231484</td>\n",
              "      <td>0.057298</td>\n",
              "      <td>0.109034</td>\n",
              "      <td>0.067180</td>\n",
              "      <td>0.027480</td>\n",
              "      <td>0.035424</td>\n",
              "      <td>0.033369</td>\n",
              "    </tr>\n",
              "    <tr>\n",
              "      <th>B3SA3</th>\n",
              "      <td>0.066696</td>\n",
              "      <td>0.061326</td>\n",
              "      <td>0.081102</td>\n",
              "      <td>0.057298</td>\n",
              "      <td>0.108338</td>\n",
              "      <td>0.086412</td>\n",
              "      <td>0.055593</td>\n",
              "      <td>0.026964</td>\n",
              "      <td>0.031878</td>\n",
              "      <td>0.031052</td>\n",
              "    </tr>\n",
              "    <tr>\n",
              "      <th>PETR4</th>\n",
              "      <td>0.095763</td>\n",
              "      <td>0.087118</td>\n",
              "      <td>0.154587</td>\n",
              "      <td>0.109034</td>\n",
              "      <td>0.086412</td>\n",
              "      <td>0.250630</td>\n",
              "      <td>0.085291</td>\n",
              "      <td>0.031411</td>\n",
              "      <td>0.039996</td>\n",
              "      <td>0.047232</td>\n",
              "    </tr>\n",
              "    <tr>\n",
              "      <th>MGLU3</th>\n",
              "      <td>0.063717</td>\n",
              "      <td>0.056117</td>\n",
              "      <td>0.097624</td>\n",
              "      <td>0.067180</td>\n",
              "      <td>0.055593</td>\n",
              "      <td>0.085291</td>\n",
              "      <td>0.659622</td>\n",
              "      <td>0.028932</td>\n",
              "      <td>0.045500</td>\n",
              "      <td>0.031245</td>\n",
              "    </tr>\n",
              "    <tr>\n",
              "      <th>ABEV3</th>\n",
              "      <td>0.027283</td>\n",
              "      <td>0.026463</td>\n",
              "      <td>0.037043</td>\n",
              "      <td>0.027480</td>\n",
              "      <td>0.026964</td>\n",
              "      <td>0.031411</td>\n",
              "      <td>0.028932</td>\n",
              "      <td>0.047325</td>\n",
              "      <td>0.020018</td>\n",
              "      <td>0.017493</td>\n",
              "    </tr>\n",
              "    <tr>\n",
              "      <th>WEGE3</th>\n",
              "      <td>0.036305</td>\n",
              "      <td>0.035014</td>\n",
              "      <td>0.038434</td>\n",
              "      <td>0.035424</td>\n",
              "      <td>0.031878</td>\n",
              "      <td>0.039996</td>\n",
              "      <td>0.045500</td>\n",
              "      <td>0.020018</td>\n",
              "      <td>0.079626</td>\n",
              "      <td>0.021343</td>\n",
              "    </tr>\n",
              "    <tr>\n",
              "      <th>VIVT4</th>\n",
              "      <td>0.037576</td>\n",
              "      <td>0.033763</td>\n",
              "      <td>0.043563</td>\n",
              "      <td>0.033369</td>\n",
              "      <td>0.031052</td>\n",
              "      <td>0.047232</td>\n",
              "      <td>0.031245</td>\n",
              "      <td>0.017493</td>\n",
              "      <td>0.021343</td>\n",
              "      <td>0.060589</td>\n",
              "    </tr>\n",
              "  </tbody>\n",
              "</table>\n",
              "</div>"
            ],
            "text/plain": [
              "          BBDC4     ITUB4     CSNA3  ...     ABEV3     WEGE3     VIVT4\n",
              "BBDC4  0.104132  0.084758  0.089935  ...  0.027283  0.036305  0.037576\n",
              "ITUB4  0.084758  0.090076  0.082152  ...  0.026463  0.035014  0.033763\n",
              "CSNA3  0.089935  0.082152  0.396236  ...  0.037043  0.038434  0.043563\n",
              "GGBR4  0.068954  0.062117  0.200662  ...  0.027480  0.035424  0.033369\n",
              "B3SA3  0.066696  0.061326  0.081102  ...  0.026964  0.031878  0.031052\n",
              "PETR4  0.095763  0.087118  0.154587  ...  0.031411  0.039996  0.047232\n",
              "MGLU3  0.063717  0.056117  0.097624  ...  0.028932  0.045500  0.031245\n",
              "ABEV3  0.027283  0.026463  0.037043  ...  0.047325  0.020018  0.017493\n",
              "WEGE3  0.036305  0.035014  0.038434  ...  0.020018  0.079626  0.021343\n",
              "VIVT4  0.037576  0.033763  0.043563  ...  0.017493  0.021343  0.060589\n",
              "\n",
              "[10 rows x 10 columns]"
            ]
          },
          "metadata": {
            "tags": []
          },
          "execution_count": 488
        }
      ]
    },
    {
      "cell_type": "markdown",
      "metadata": {
        "id": "k2cFtEx1Kuhs"
      },
      "source": [
        "Matriz de correlação:"
      ]
    },
    {
      "cell_type": "code",
      "metadata": {
        "id": "c-Y7rB8SLAZW",
        "outputId": "e1c32fba-ba88-4de5-f035-81915728926a",
        "colab": {
          "base_uri": "https://localhost:8080/",
          "height": 296
        }
      },
      "source": [
        "Cor = df_X.corr()\n",
        "mask = np.triu(np.ones_like(Cor, dtype=bool)) # Generate a mask for the upper triangle\n",
        "ax = sns.heatmap(Cor, mask=mask, vmin=-1, vmax=+1, cmap='RdBu', linewidths=1, square=True) \n",
        "plt.show()"
      ],
      "execution_count": 489,
      "outputs": [
        {
          "output_type": "display_data",
          "data": {
            "image/png": "[encoded data removed]",
            "text/plain": [
              "<Figure size 432x288 with 2 Axes>"
            ]
          },
          "metadata": {
            "tags": [],
            "needs_background": "light"
          }
        }
      ]
    },
    {
      "cell_type": "markdown",
      "metadata": {
        "id": "m7Jz2ctNQ8ar"
      },
      "source": [
        "### Carteira ótima"
      ]
    },
    {
      "cell_type": "code",
      "metadata": {
        "id": "lBEhSp1N0Lgb",
        "outputId": "3c3c36b4-974e-4645-9deb-91de27ab59dd",
        "colab": {
          "base_uri": "https://localhost:8080/",
          "height": 359
        }
      },
      "source": [
        "# Retorno esperado\n",
        "def ret_esp(p):\n",
        "  ret = R @ p\n",
        "  return ret\n",
        "\n",
        "def risco_esp(p):\n",
        "  risco = np.sqrt(p.T @ Cov @ p)\n",
        "  return risco\n",
        "\n",
        "def neg_sharpe(p):\n",
        "    ret = R @ p\n",
        "    risco = np.sqrt(p.T @ Cov @ p)\n",
        "    return -1*ret/risco### Carteira Ótima\n",
        "\n",
        "Cov = df_X.cov().to_numpy()*252         # Matriz de covariância dos retornos anualizados\n",
        "R = df_S['Retorno'].to_numpy()          # Retorno médio de cada ativo carteira\n",
        "\n",
        "# Restrições da otimização\n",
        "bounds = ((0,1), (0,1), (0,1), (0,1), (0,1),\n",
        "          (0,1), (0,1), (0,1), (0,1), (0,1))\n",
        "cons = ({'type':'eq', 'fun': lambda p: p.sum()-1})\n",
        "\n",
        "p0 = [0.10]*10\n",
        "result = minimize(neg_sharpe, p0, method='SLSQP', bounds=bounds, constraints=cons)\n",
        "p_otm = result['x']\n",
        "pd.DataFrame(p_otm.round(2), series[1:], columns=['%'])"
      ],
      "execution_count": 490,
      "outputs": [
        {
          "output_type": "execute_result",
          "data": {
            "text/html": [
              "<div>\n",
              "<style scoped>\n",
              "    .dataframe tbody tr th:only-of-type {\n",
              "        vertical-align: middle;\n",
              "    }\n",
              "\n",
              "    .dataframe tbody tr th {\n",
              "        vertical-align: top;\n",
              "    }\n",
              "\n",
              "    .dataframe thead th {\n",
              "        text-align: right;\n",
              "    }\n",
              "</style>\n",
              "<table border=\"1\" class=\"dataframe\">\n",
              "  <thead>\n",
              "    <tr style=\"text-align: right;\">\n",
              "      <th></th>\n",
              "      <th>%</th>\n",
              "    </tr>\n",
              "  </thead>\n",
              "  <tbody>\n",
              "    <tr>\n",
              "      <th>BBDC4</th>\n",
              "      <td>0.00</td>\n",
              "    </tr>\n",
              "    <tr>\n",
              "      <th>ITUB4</th>\n",
              "      <td>0.00</td>\n",
              "    </tr>\n",
              "    <tr>\n",
              "      <th>CSNA3</th>\n",
              "      <td>0.01</td>\n",
              "    </tr>\n",
              "    <tr>\n",
              "      <th>GGBR4</th>\n",
              "      <td>0.00</td>\n",
              "    </tr>\n",
              "    <tr>\n",
              "      <th>B3SA3</th>\n",
              "      <td>0.37</td>\n",
              "    </tr>\n",
              "    <tr>\n",
              "      <th>PETR4</th>\n",
              "      <td>0.00</td>\n",
              "    </tr>\n",
              "    <tr>\n",
              "      <th>MGLU3</th>\n",
              "      <td>0.43</td>\n",
              "    </tr>\n",
              "    <tr>\n",
              "      <th>ABEV3</th>\n",
              "      <td>0.00</td>\n",
              "    </tr>\n",
              "    <tr>\n",
              "      <th>WEGE3</th>\n",
              "      <td>0.19</td>\n",
              "    </tr>\n",
              "    <tr>\n",
              "      <th>VIVT4</th>\n",
              "      <td>0.00</td>\n",
              "    </tr>\n",
              "  </tbody>\n",
              "</table>\n",
              "</div>"
            ],
            "text/plain": [
              "          %\n",
              "BBDC4  0.00\n",
              "ITUB4  0.00\n",
              "CSNA3  0.01\n",
              "GGBR4  0.00\n",
              "B3SA3  0.37\n",
              "PETR4  0.00\n",
              "MGLU3  0.43\n",
              "ABEV3  0.00\n",
              "WEGE3  0.19\n",
              "VIVT4  0.00"
            ]
          },
          "metadata": {
            "tags": []
          },
          "execution_count": 490
        }
      ]
    },
    {
      "cell_type": "code",
      "metadata": {
        "id": "eXjoow6O9JNN",
        "outputId": "3adfe606-c6dc-42e8-e38d-574c91ed89a5",
        "colab": {
          "base_uri": "https://localhost:8080/"
        }
      },
      "source": [
        "p_otm_ret = R@p_otm\n",
        "p_otm_std = np.sqrt(p_otm.T@Cov@p_otm)\n",
        "print('Retorno:', p_otm_ret)\n",
        "print('Risco:', p_otm_std)"
      ],
      "execution_count": 491,
      "outputs": [
        {
          "output_type": "stream",
          "text": [
            "Retorno: 1.1481172338880525\n",
            "Risco: 0.41153852830411874\n"
          ],
          "name": "stdout"
        }
      ]
    },
    {
      "cell_type": "markdown",
      "metadata": {
        "id": "4Vp4l3u18Vge"
      },
      "source": [
        "### Carteira de variância mínima"
      ]
    },
    {
      "cell_type": "code",
      "metadata": {
        "id": "UTUPeUvi8c3H",
        "outputId": "4e563573-b196-419a-e73b-96b2298fe510",
        "colab": {
          "base_uri": "https://localhost:8080/",
          "height": 359
        }
      },
      "source": [
        "cons = ({'type':'eq', 'fun': lambda p: p.sum()-1})\n",
        "result = minimize(risco_esp, p0, method='SLSQP', bounds=bounds, constraints=cons)\n",
        "p_min = result['x']\n",
        "pd.DataFrame(p_min.round(2), series[1:], columns=['%'])"
      ],
      "execution_count": 492,
      "outputs": [
        {
          "output_type": "execute_result",
          "data": {
            "text/html": [
              "<div>\n",
              "<style scoped>\n",
              "    .dataframe tbody tr th:only-of-type {\n",
              "        vertical-align: middle;\n",
              "    }\n",
              "\n",
              "    .dataframe tbody tr th {\n",
              "        vertical-align: top;\n",
              "    }\n",
              "\n",
              "    .dataframe thead th {\n",
              "        text-align: right;\n",
              "    }\n",
              "</style>\n",
              "<table border=\"1\" class=\"dataframe\">\n",
              "  <thead>\n",
              "    <tr style=\"text-align: right;\">\n",
              "      <th></th>\n",
              "      <th>%</th>\n",
              "    </tr>\n",
              "  </thead>\n",
              "  <tbody>\n",
              "    <tr>\n",
              "      <th>BBDC4</th>\n",
              "      <td>0.00</td>\n",
              "    </tr>\n",
              "    <tr>\n",
              "      <th>ITUB4</th>\n",
              "      <td>0.01</td>\n",
              "    </tr>\n",
              "    <tr>\n",
              "      <th>CSNA3</th>\n",
              "      <td>0.00</td>\n",
              "    </tr>\n",
              "    <tr>\n",
              "      <th>GGBR4</th>\n",
              "      <td>0.00</td>\n",
              "    </tr>\n",
              "    <tr>\n",
              "      <th>B3SA3</th>\n",
              "      <td>0.03</td>\n",
              "    </tr>\n",
              "    <tr>\n",
              "      <th>PETR4</th>\n",
              "      <td>0.00</td>\n",
              "    </tr>\n",
              "    <tr>\n",
              "      <th>MGLU3</th>\n",
              "      <td>0.00</td>\n",
              "    </tr>\n",
              "    <tr>\n",
              "      <th>ABEV3</th>\n",
              "      <td>0.46</td>\n",
              "    </tr>\n",
              "    <tr>\n",
              "      <th>WEGE3</th>\n",
              "      <td>0.19</td>\n",
              "    </tr>\n",
              "    <tr>\n",
              "      <th>VIVT4</th>\n",
              "      <td>0.31</td>\n",
              "    </tr>\n",
              "  </tbody>\n",
              "</table>\n",
              "</div>"
            ],
            "text/plain": [
              "          %\n",
              "BBDC4  0.00\n",
              "ITUB4  0.01\n",
              "CSNA3  0.00\n",
              "GGBR4  0.00\n",
              "B3SA3  0.03\n",
              "PETR4  0.00\n",
              "MGLU3  0.00\n",
              "ABEV3  0.46\n",
              "WEGE3  0.19\n",
              "VIVT4  0.31"
            ]
          },
          "metadata": {
            "tags": []
          },
          "execution_count": 492
        }
      ]
    },
    {
      "cell_type": "code",
      "metadata": {
        "id": "x7wiyUJL9nIr",
        "outputId": "d098b509-7c38-4254-a794-ecfb978854a5",
        "colab": {
          "base_uri": "https://localhost:8080/"
        }
      },
      "source": [
        "p_min_ret = R@p_min\n",
        "p_min_std = np.sqrt(p_min.T@Cov@p_min)\n",
        "print('Retorno:', p_min_ret)\n",
        "print('Risco:', p_min_std)"
      ],
      "execution_count": 493,
      "outputs": [
        {
          "output_type": "stream",
          "text": [
            "Retorno: 0.16450584267471738\n",
            "Risco: 0.1792400346475971\n"
          ],
          "name": "stdout"
        }
      ]
    },
    {
      "cell_type": "markdown",
      "metadata": {
        "id": "pXbUiw2XhXoc"
      },
      "source": [
        "### Fronteira Eficiente"
      ]
    },
    {
      "cell_type": "code",
      "metadata": {
        "id": "pRzxo2UNul4e"
      },
      "source": [
        "carteiras_otm = []\n",
        "ef_x = np.array([])\n",
        "ef_y = np.linspace(p_min_ret, df_S.Retorno.max(),200)\n",
        "\n",
        "# Minimização do risco\n",
        "for ret in ef_y:\n",
        "    cons = ({'type':'eq', 'fun': lambda p: p.sum()-1},\n",
        "            {'type':'eq', 'fun': lambda p: ret_esp(p) - ret})\n",
        "    \n",
        "    # minimiza o risco para cada retorno\n",
        "    result = minimize(risco_esp, p0, method='SLSQP', \n",
        "                      bounds=bounds, constraints=cons)\n",
        "    \n",
        "    ef_x = np.append(ef_x, result['fun'])\n",
        "    carteiras_otm.append(result['x'])\n",
        "carteiras_otm = np.array(carteiras_otm)"
      ],
      "execution_count": 494,
      "outputs": []
    },
    {
      "cell_type": "markdown",
      "metadata": {
        "id": "JsBqOqj1F72T"
      },
      "source": [
        "### Fronteira não-eficiente"
      ]
    },
    {
      "cell_type": "code",
      "metadata": {
        "id": "56psk_onF-g2"
      },
      "source": [
        "nef_x = np.array([])\n",
        "nef_y = np.linspace(df_S.Retorno.min(), p_min_ret, 200)\n",
        "# Minimização do risco\n",
        "for ret in nef_y:\n",
        "    cons = ({'type':'eq', 'fun': lambda p: p.sum()-1},\n",
        "            {'type':'eq', 'fun': lambda p: ret_esp(p) - ret})\n",
        "    \n",
        "    # minimiza o risco para cada retorno\n",
        "    result = minimize(risco_esp, p0, method='SLSQP', \n",
        "                      bounds=bounds, constraints=cons)\n",
        "    \n",
        "    nef_x = np.append(nef_x, result['fun'])"
      ],
      "execution_count": 495,
      "outputs": []
    },
    {
      "cell_type": "markdown",
      "metadata": {
        "id": "uAAZHVtJhFff"
      },
      "source": [
        "### Bala de Markowitz"
      ]
    },
    {
      "cell_type": "markdown",
      "metadata": {
        "id": "c_r5nfqFL5w7"
      },
      "source": [
        "Simulação de carteiras:"
      ]
    },
    {
      "cell_type": "code",
      "metadata": {
        "id": "VaJ-pkYTxHvd"
      },
      "source": [
        "N_por = 100000 # número de carteiras simuladas\n",
        "np.random.seed(42)\n",
        "X = np.array([])\n",
        "Std = np.array([])\n",
        "for n in range(N_por):\n",
        "  P = np.random.dirichlet(np.ones(10))\n",
        "  P =P/P.sum()\n",
        "  X = np.append(X, R@P)                         # Retorno das carteiras\n",
        "  Std = np.append(Std, np.sqrt(P.T@Cov@P))      # Risco (Std) das carteiras\n",
        "S = X/Std # Índice Sharpe das Carteiras"
      ],
      "execution_count": 496,
      "outputs": []
    },
    {
      "cell_type": "code",
      "metadata": {
        "id": "EPc5vhi98Den"
      },
      "source": [
        ""
      ],
      "execution_count": 496,
      "outputs": []
    },
    {
      "cell_type": "markdown",
      "metadata": {
        "id": "Fl0jaXV8hQMI"
      },
      "source": [
        "Plota a Bala de Markowitz e as fronteiras:"
      ]
    },
    {
      "cell_type": "code",
      "metadata": {
        "id": "GW4NteI6W4L0",
        "outputId": "87c60d60-12b2-46b0-e5da-462ce5017a56",
        "colab": {
          "base_uri": "https://localhost:8080/",
          "height": 446
        }
      },
      "source": [
        "# Plota as carteiras simuladas\n",
        "plt.figure(figsize=(12,7))\n",
        "plt.xlabel('Risco (Std)')\n",
        "plt.ylabel('Retorno anual')  \n",
        "plt.scatter(Std, X, c=S, cmap='viridis')\n",
        "\n",
        "# Plota a Fronteira Eficiente\n",
        "plt.plot(ef_x,ef_y, 'k', linewidth=3, label='Fronteira eficiente')\n",
        "\n",
        "# Plota fronteira não eficiente\n",
        "plt.plot(nef_x,nef_y, 'k--', linewidth=2)\n",
        "\n",
        "# Plota as carteiras mono-ativo\n",
        "plt.scatter(df_S.Risco_Std, df_S.Retorno, marker='s', color='r', zorder=9)\n",
        "plt.colorbar(label='Índice Sharpe')\n",
        "for label, x, y in zip(series[1:], df_S['Risco_Std'], df_S['Retorno']):\n",
        "    plt.annotate(\n",
        "        label,\n",
        "        xy=(x, y), xytext=(0, 2),\n",
        "        textcoords='offset points', ha='center', va='bottom')\n",
        "\n",
        "# Plota a carteira ótima e de variância mínima\n",
        "from matplotlib.colors import Normalize\n",
        "from matplotlib.cm import get_cmap \n",
        "normalize = Normalize(vmin=df_S.Sharpe.min(), vmax=df_S.Sharpe.max())\n",
        "cmap = get_cmap('viridis')\n",
        "cor_otm = cmap(normalize(p_otm_ret/p_otm_std))\n",
        "cor_min = cmap(normalize(p_min_ret/p_min_std))\n",
        "\n",
        "plt.scatter(p_otm_std, p_otm_ret, marker='*', color=cor_otm, edgecolors='k',\n",
        "            cmap='viridis', s=300, label='Carteira ótima', zorder=10)\n",
        "\n",
        "plt.scatter(p_min_std, p_min_ret, marker='*', color=cor_min, edgecolors='k',\n",
        "            cmap='viridis', s=300, label='Carteira var. mín.', zorder=10)\n",
        "\n",
        "plt.legend()\n",
        "plt.show()"
      ],
      "execution_count": 497,
      "outputs": [
        {
          "output_type": "display_data",
          "data": {
            "image/png": "[encoded data removed]",
            "text/plain": [
              "<Figure size 864x504 with 2 Axes>"
            ]
          },
          "metadata": {
            "tags": [],
            "needs_background": "light"
          }
        }
      ]
    },
    {
      "cell_type": "markdown",
      "metadata": {
        "id": "awPcv_kSlcnk"
      },
      "source": [
        "### Carteiras na Fronteira Eficiente "
      ]
    },
    {
      "cell_type": "markdown",
      "metadata": {
        "id": "714tWZlvbcK8"
      },
      "source": [
        "Para verificar o efeito de concentração de ativos nas carteiras da fronteira efeiciente computamos, para cada valor de risco $R$, o percentual $\\pi_i(R)$ de participação dos \"top 5\" ativos (os 5 ativos com maior peso na carteira)."
      ]
    },
    {
      "cell_type": "code",
      "metadata": {
        "id": "J2C8YwsKlZW4",
        "outputId": "82f1c0d7-149f-4e13-ea0b-41ef3583fb0b",
        "colab": {
          "base_uri": "https://localhost:8080/",
          "height": 419
        }
      },
      "source": [
        "df_carteiras_ef = pd.DataFrame(carteiras_otm, ef_x, columns=series[1:])\n",
        "C = np.array([])\n",
        "for k,_ in enumerate(ef_x):\n",
        "  c = df_carteiras_ef.iloc[k].sort_values(ascending=False)[:5].sum()\n",
        "  C = np.append(C,c)\n",
        "df_carteiras_ef['Top 5'] = C\n",
        "df_carteiras_ef"
      ],
      "execution_count": 498,
      "outputs": [
        {
          "output_type": "execute_result",
          "data": {
            "text/html": [
              "<div>\n",
              "<style scoped>\n",
              "    .dataframe tbody tr th:only-of-type {\n",
              "        vertical-align: middle;\n",
              "    }\n",
              "\n",
              "    .dataframe tbody tr th {\n",
              "        vertical-align: top;\n",
              "    }\n",
              "\n",
              "    .dataframe thead th {\n",
              "        text-align: right;\n",
              "    }\n",
              "</style>\n",
              "<table border=\"1\" class=\"dataframe\">\n",
              "  <thead>\n",
              "    <tr style=\"text-align: right;\">\n",
              "      <th></th>\n",
              "      <th>BBDC4</th>\n",
              "      <th>ITUB4</th>\n",
              "      <th>CSNA3</th>\n",
              "      <th>GGBR4</th>\n",
              "      <th>B3SA3</th>\n",
              "      <th>PETR4</th>\n",
              "      <th>MGLU3</th>\n",
              "      <th>ABEV3</th>\n",
              "      <th>WEGE3</th>\n",
              "      <th>VIVT4</th>\n",
              "      <th>Top 5</th>\n",
              "    </tr>\n",
              "  </thead>\n",
              "  <tbody>\n",
              "    <tr>\n",
              "      <th>0.179241</th>\n",
              "      <td>0.000000e+00</td>\n",
              "      <td>1.148272e-02</td>\n",
              "      <td>0.000000e+00</td>\n",
              "      <td>0.000000e+00</td>\n",
              "      <td>3.132403e-02</td>\n",
              "      <td>3.860355e-17</td>\n",
              "      <td>6.622977e-18</td>\n",
              "      <td>4.593029e-01</td>\n",
              "      <td>1.891840e-01</td>\n",
              "      <td>3.087063e-01</td>\n",
              "      <td>1.000000</td>\n",
              "    </tr>\n",
              "    <tr>\n",
              "      <th>0.179316</th>\n",
              "      <td>2.249985e-18</td>\n",
              "      <td>8.776811e-03</td>\n",
              "      <td>0.000000e+00</td>\n",
              "      <td>1.947240e-04</td>\n",
              "      <td>4.007650e-02</td>\n",
              "      <td>1.182930e-17</td>\n",
              "      <td>3.176702e-03</td>\n",
              "      <td>4.509461e-01</td>\n",
              "      <td>1.917166e-01</td>\n",
              "      <td>3.051126e-01</td>\n",
              "      <td>0.996629</td>\n",
              "    </tr>\n",
              "    <tr>\n",
              "      <th>0.179467</th>\n",
              "      <td>4.662826e-18</td>\n",
              "      <td>6.021962e-03</td>\n",
              "      <td>2.692427e-17</td>\n",
              "      <td>2.719063e-04</td>\n",
              "      <td>4.544327e-02</td>\n",
              "      <td>0.000000e+00</td>\n",
              "      <td>7.181148e-03</td>\n",
              "      <td>4.452320e-01</td>\n",
              "      <td>1.923971e-01</td>\n",
              "      <td>3.034526e-01</td>\n",
              "      <td>0.993706</td>\n",
              "    </tr>\n",
              "    <tr>\n",
              "      <th>0.179691</th>\n",
              "      <td>8.502800e-18</td>\n",
              "      <td>5.196638e-03</td>\n",
              "      <td>0.000000e+00</td>\n",
              "      <td>1.314902e-04</td>\n",
              "      <td>5.019346e-02</td>\n",
              "      <td>0.000000e+00</td>\n",
              "      <td>1.123782e-02</td>\n",
              "      <td>4.399472e-01</td>\n",
              "      <td>1.926996e-01</td>\n",
              "      <td>3.005938e-01</td>\n",
              "      <td>0.994672</td>\n",
              "    </tr>\n",
              "    <tr>\n",
              "      <th>0.179986</th>\n",
              "      <td>0.000000e+00</td>\n",
              "      <td>2.281034e-03</td>\n",
              "      <td>2.542949e-17</td>\n",
              "      <td>6.515740e-04</td>\n",
              "      <td>5.438750e-02</td>\n",
              "      <td>0.000000e+00</td>\n",
              "      <td>1.535353e-02</td>\n",
              "      <td>4.349658e-01</td>\n",
              "      <td>1.942808e-01</td>\n",
              "      <td>2.980797e-01</td>\n",
              "      <td>0.997067</td>\n",
              "    </tr>\n",
              "    <tr>\n",
              "      <th>...</th>\n",
              "      <td>...</td>\n",
              "      <td>...</td>\n",
              "      <td>...</td>\n",
              "      <td>...</td>\n",
              "      <td>...</td>\n",
              "      <td>...</td>\n",
              "      <td>...</td>\n",
              "      <td>...</td>\n",
              "      <td>...</td>\n",
              "      <td>...</td>\n",
              "      <td>...</td>\n",
              "    </tr>\n",
              "    <tr>\n",
              "      <th>0.794366</th>\n",
              "      <td>2.775558e-17</td>\n",
              "      <td>1.804112e-16</td>\n",
              "      <td>0.000000e+00</td>\n",
              "      <td>5.551115e-17</td>\n",
              "      <td>2.399063e-02</td>\n",
              "      <td>0.000000e+00</td>\n",
              "      <td>9.760094e-01</td>\n",
              "      <td>6.938894e-17</td>\n",
              "      <td>1.387779e-17</td>\n",
              "      <td>1.387779e-17</td>\n",
              "      <td>1.000000</td>\n",
              "    </tr>\n",
              "    <tr>\n",
              "      <th>0.798810</th>\n",
              "      <td>0.000000e+00</td>\n",
              "      <td>0.000000e+00</td>\n",
              "      <td>2.775558e-17</td>\n",
              "      <td>5.551115e-17</td>\n",
              "      <td>1.799297e-02</td>\n",
              "      <td>0.000000e+00</td>\n",
              "      <td>9.820070e-01</td>\n",
              "      <td>0.000000e+00</td>\n",
              "      <td>0.000000e+00</td>\n",
              "      <td>2.775558e-17</td>\n",
              "      <td>1.000000</td>\n",
              "    </tr>\n",
              "    <tr>\n",
              "      <th>0.803259</th>\n",
              "      <td>0.000000e+00</td>\n",
              "      <td>0.000000e+00</td>\n",
              "      <td>5.551115e-17</td>\n",
              "      <td>1.387779e-17</td>\n",
              "      <td>1.199531e-02</td>\n",
              "      <td>5.551115e-17</td>\n",
              "      <td>9.880047e-01</td>\n",
              "      <td>0.000000e+00</td>\n",
              "      <td>2.775558e-17</td>\n",
              "      <td>0.000000e+00</td>\n",
              "      <td>1.000000</td>\n",
              "    </tr>\n",
              "    <tr>\n",
              "      <th>0.807713</th>\n",
              "      <td>0.000000e+00</td>\n",
              "      <td>4.163336e-17</td>\n",
              "      <td>9.714451e-17</td>\n",
              "      <td>0.000000e+00</td>\n",
              "      <td>5.997655e-03</td>\n",
              "      <td>0.000000e+00</td>\n",
              "      <td>9.940023e-01</td>\n",
              "      <td>6.938894e-17</td>\n",
              "      <td>6.938894e-17</td>\n",
              "      <td>1.387779e-17</td>\n",
              "      <td>1.000000</td>\n",
              "    </tr>\n",
              "    <tr>\n",
              "      <th>0.812171</th>\n",
              "      <td>0.000000e+00</td>\n",
              "      <td>5.949853e-18</td>\n",
              "      <td>0.000000e+00</td>\n",
              "      <td>1.635989e-17</td>\n",
              "      <td>1.482998e-13</td>\n",
              "      <td>1.331967e-17</td>\n",
              "      <td>1.000000e+00</td>\n",
              "      <td>6.951798e-17</td>\n",
              "      <td>0.000000e+00</td>\n",
              "      <td>0.000000e+00</td>\n",
              "      <td>1.000000</td>\n",
              "    </tr>\n",
              "  </tbody>\n",
              "</table>\n",
              "<p>200 rows × 11 columns</p>\n",
              "</div>"
            ],
            "text/plain": [
              "                 BBDC4         ITUB4  ...         VIVT4     Top 5\n",
              "0.179241  0.000000e+00  1.148272e-02  ...  3.087063e-01  1.000000\n",
              "0.179316  2.249985e-18  8.776811e-03  ...  3.051126e-01  0.996629\n",
              "0.179467  4.662826e-18  6.021962e-03  ...  3.034526e-01  0.993706\n",
              "0.179691  8.502800e-18  5.196638e-03  ...  3.005938e-01  0.994672\n",
              "0.179986  0.000000e+00  2.281034e-03  ...  2.980797e-01  0.997067\n",
              "...                ...           ...  ...           ...       ...\n",
              "0.794366  2.775558e-17  1.804112e-16  ...  1.387779e-17  1.000000\n",
              "0.798810  0.000000e+00  0.000000e+00  ...  2.775558e-17  1.000000\n",
              "0.803259  0.000000e+00  0.000000e+00  ...  0.000000e+00  1.000000\n",
              "0.807713  0.000000e+00  4.163336e-17  ...  1.387779e-17  1.000000\n",
              "0.812171  0.000000e+00  5.949853e-18  ...  0.000000e+00  1.000000\n",
              "\n",
              "[200 rows x 11 columns]"
            ]
          },
          "metadata": {
            "tags": []
          },
          "execution_count": 498
        }
      ]
    },
    {
      "cell_type": "markdown",
      "metadata": {
        "id": "XSx6X_Lcd4UJ"
      },
      "source": [
        "Plotamos então participação de ativos na carteira, bem como a participação dos **top 5** ao longo da fronteira efieciente:"
      ]
    },
    {
      "cell_type": "code",
      "metadata": {
        "id": "D-64R0Fkmnq7",
        "outputId": "8d209204-9a84-45af-88a1-8b7d4d2535c8",
        "colab": {
          "base_uri": "https://localhost:8080/",
          "height": 442
        }
      },
      "source": [
        "fig,ax = plt.subplots(figsize=(10,7))\n",
        "for k,s in enumerate(df_carteiras_ef.columns.to_list()):\n",
        "  if k == 10:\n",
        "    ax.plot(df_carteiras_ef[s], 'k--', linewidth=3, label=s)\n",
        "  else:\n",
        "    ax.plot(df_carteiras_ef[s],label=s)\n",
        "ax.set_xlabel('Risco (Std)')\n",
        "ax.set_ylabel('Peso ($\\pi$)')\n",
        "ax.legend()\n",
        "plt.show()"
      ],
      "execution_count": 499,
      "outputs": [
        {
          "output_type": "display_data",
          "data": {
            "image/png": "[encoded data removed]",
            "text/plain": [
              "<Figure size 720x504 with 1 Axes>"
            ]
          },
          "metadata": {
            "tags": [],
            "needs_background": "light"
          }
        }
      ]
    },
    {
      "cell_type": "markdown",
      "metadata": {
        "id": "6ixHtFrk1RLj"
      },
      "source": [
        "Podemos visualizar que ocorre concentração dos ativos nas carteiras da fronteira eficiente."
      ]
    },
    {
      "cell_type": "markdown",
      "metadata": {
        "id": "0H0rWh2PAtCc"
      },
      "source": [
        "## Questão 4"
      ]
    },
    {
      "cell_type": "markdown",
      "metadata": {
        "id": "fQW8F7qDASC7"
      },
      "source": [
        "### a) Retornos Diários"
      ]
    },
    {
      "cell_type": "markdown",
      "metadata": {
        "id": "r_I6853njsI7"
      },
      "source": [
        "Escolhemos analisar ativo **B3SA3** no período de 01-01-2015 a 31-12-2019."
      ]
    },
    {
      "cell_type": "code",
      "metadata": {
        "id": "es8MZY8CZbFP",
        "outputId": "08af3a41-24b3-44db-bf10-5c9755af3d66",
        "colab": {
          "base_uri": "https://localhost:8080/"
        }
      },
      "source": [
        "dfD = df_ret.B3SA3.copy()\n",
        "dfD"
      ],
      "execution_count": 500,
      "outputs": [
        {
          "output_type": "execute_result",
          "data": {
            "text/plain": [
              "Data\n",
              "2015-01-05   -0.029188\n",
              "2015-01-06    0.009150\n",
              "2015-01-07    0.042746\n",
              "2015-01-08   -0.009938\n",
              "2015-01-09   -0.021330\n",
              "                ...   \n",
              "2019-12-20    0.011133\n",
              "2019-12-23   -0.045522\n",
              "2019-12-26   -0.004658\n",
              "2019-12-27   -0.052374\n",
              "2019-12-30   -0.027987\n",
              "Name: B3SA3, Length: 1233, dtype: float64"
            ]
          },
          "metadata": {
            "tags": []
          },
          "execution_count": 500
        }
      ]
    },
    {
      "cell_type": "markdown",
      "metadata": {
        "id": "BCKW9q-pqOVG"
      },
      "source": [
        "Em uma visualização prelininar dos dados, observamos que, aparentemente, a distribuição normal se ajusta bem aos dados:"
      ]
    },
    {
      "cell_type": "code",
      "metadata": {
        "id": "2wFE5M0AqWWZ",
        "outputId": "d5390a75-14a2-4479-eb30-eca694b0edf5",
        "colab": {
          "base_uri": "https://localhost:8080/",
          "height": 265
        }
      },
      "source": [
        "ax = dfD.hist()"
      ],
      "execution_count": 501,
      "outputs": [
        {
          "output_type": "display_data",
          "data": {
            "image/png": "[encoded data removed]",
            "text/plain": [
              "<Figure size 432x288 with 1 Axes>"
            ]
          },
          "metadata": {
            "tags": [],
            "needs_background": "light"
          }
        }
      ]
    },
    {
      "cell_type": "markdown",
      "metadata": {
        "id": "n6RP3LLG9Rx6"
      },
      "source": [
        "Podemos estimar o VaR com vários níveis de confiança de dois modos:\n",
        "* Método histórico: utiliza o histograma dos dados históricos;\n",
        "* Método da variância: utiliza a uma distribuição normal estimada à partir da média e variância dos dados históricos.\n"
      ]
    },
    {
      "cell_type": "markdown",
      "metadata": {
        "id": "7nkBz5UxqxuI"
      },
      "source": [
        "#### Histograma e distribuição estimada"
      ]
    },
    {
      "cell_type": "code",
      "metadata": {
        "id": "x_je8HHYqh93"
      },
      "source": [
        "# Funções auxiliares - arredondamento para cima e para baixo\n",
        "import math\n",
        "def round_down(number:float, decimals:int=2):\n",
        "    if not isinstance(decimals, int):\n",
        "        raise TypeError(\"decimal places must be an integer\")\n",
        "    elif decimals < 0:\n",
        "        raise ValueError(\"decimal places has to be 0 or more\")\n",
        "    elif decimals == 0:\n",
        "        return math.floor(number)\n",
        "    factor = 10 ** decimals\n",
        "    return math.floor(number * factor) / factor\n",
        "\n",
        "def round_up(number:float, decimals:int=2):\n",
        "    if not isinstance(decimals, int):\n",
        "        raise TypeError(\"decimal places must be an integer\")\n",
        "    elif decimals < 0:\n",
        "        raise ValueError(\"decimal places has to be 0 or more\")\n",
        "    elif decimals == 0:\n",
        "        return math.ceil(number)\n",
        "\n",
        "    factor = 10 ** decimals\n",
        "    return math.ceil(number * factor) / factor"
      ],
      "execution_count": 502,
      "outputs": []
    },
    {
      "cell_type": "markdown",
      "metadata": {
        "id": "8a_Vk012492W"
      },
      "source": [
        "A figura abaixo mostra o histograma dos retornos e a distribuição estimada."
      ]
    },
    {
      "cell_type": "code",
      "metadata": {
        "id": "LQXK7tlWZEDL",
        "outputId": "da7e0100-50c0-46e0-dca6-1bfb01bb7cd7",
        "colab": {
          "base_uri": "https://localhost:8080/",
          "height": 443
        }
      },
      "source": [
        "# Cálculo dos parâmetros\n",
        "r_min = round_down(dfD.min(),2)\n",
        "r_max = round_up(dfD.max(),2)\n",
        "r_mean = dfD.mean()\n",
        "r_std = dfD.std()\n",
        "\n",
        "x = np.arange(r_min, r_max+0.01, 0.01)\n",
        "fig, ax = plt.subplots(figsize=(12,7))\n",
        "\n",
        "# Histograma\n",
        "count = ax.hist(dfD, bins=x, edgecolor='k', alpha=0.5, label='Dados históricos')[0]\n",
        "\n",
        "# Distribuição normal (PDF)\n",
        "from scipy.stats import norm\n",
        "y_nor = norm.pdf(np.linspace(r_min, r_max, 100), loc=r_mean, scale=r_std)\n",
        "\n",
        "ax2 = ax.twinx()\n",
        "ax2.plot(np.linspace(r_min, r_max, 100),y_nor, c='r', alpha=0.6, linewidth='3', label='Distribuição estimada')\n",
        "ax2.set_ylim(bottom=0)\n",
        "\n",
        "\n",
        "# Calcula\n",
        "x90 = norm.ppf(0.10, loc=r_mean, scale=r_std)\n",
        "y90 = norm.pdf(x90, loc=r_mean, scale=r_std)\n",
        "x95 = norm.ppf(0.05, loc=r_mean, scale=r_std)\n",
        "y95 = norm.pdf(x95, loc=r_mean, scale=r_std)\n",
        "\n",
        "x_area90 = np.linspace(r_min, x90)\n",
        "y_area90 = norm.pdf(x_area90, loc=r_mean, scale=r_std)\n",
        "ax2.fill_between(x_area90, y_area90, color='grey', alpha=0.3)\n",
        "\n",
        "ax2.vlines(x90, 0, y90, linestyle='--', label='Confiança 90%')\n",
        "ax2.vlines(x95, 0, y95, linestyle='-.', label='Confiança 95%')\n",
        "\n",
        "for k,p in enumerate(ax.patches):\n",
        "    height = p.get_height()\n",
        "    ax.text(p.get_x()+p.get_width()/2.,\n",
        "            height+2,\n",
        "            # '{:.0%}'.format(1-count[:k].sum()/len(dfD)),\n",
        "            '{:.0f}'.format(height),\n",
        "            ha=\"center\") \n",
        " \n",
        "import matplotlib.ticker as mtick\n",
        "ax.set_xticks(x)\n",
        "ax.xaxis.set_major_formatter(mtick.PercentFormatter(xmax=1, decimals=0))\n",
        "ax.set_xlabel('Retornos diários')\n",
        "ax.set_ylabel('Frequência (total = {})'.format(len(dfD)))\n",
        "\n",
        "ax2.set_ylabel('PDF')\n",
        "\n",
        "# Legenda\n",
        "lines_1, labels_1 = ax.get_legend_handles_labels()\n",
        "lines_2, labels_2 = ax2.get_legend_handles_labels()\n",
        "lines = lines_1 + lines_2\n",
        "labels = labels_1 + labels_2\n",
        "\n",
        "ax.legend(lines, labels, loc=0)\n",
        "plt.show()"
      ],
      "execution_count": 503,
      "outputs": [
        {
          "output_type": "display_data",
          "data": {
            "image/png": "[encoded data removed]",
            "text/plain": [
              "<Figure size 864x504 with 2 Axes>"
            ]
          },
          "metadata": {
            "tags": [],
            "needs_background": "light"
          }
        }
      ]
    },
    {
      "cell_type": "markdown",
      "metadata": {
        "id": "RxXWjC5RjsPJ"
      },
      "source": [
        "#### Método Histórico"
      ]
    },
    {
      "cell_type": "markdown",
      "metadata": {
        "id": "zznQ37AWYPqP"
      },
      "source": [
        "Para calcularmos o VaR à partir do histograma (dados históricos), contamos o número de retornos observados no intervalo desejado e então dividimos pelo número total de retornos em todo período observados."
      ]
    },
    {
      "cell_type": "markdown",
      "metadata": {
        "id": "6QIwFlANeswP"
      },
      "source": [
        "Por exemplo, no intervalo  $[-3, -2)\\%$ temos $78$ retornos observados de um total de $1233$. Então, a probabilidade do intervalo é $78\\div1233 = 0,57\\%$. Logo, o $VaR$ é $0,57 \\% \\times R\\$10.000,00 = \\$57,00$ com um  nível de confiança de $99,4\\%$."
      ]
    },
    {
      "cell_type": "markdown",
      "metadata": {
        "id": "4LVeL0AbiIrt"
      },
      "source": [
        "Calculando a probabilidade para o intervalo $( \\infty, -4]\\%$, a partir do histograma:"
      ]
    },
    {
      "cell_type": "code",
      "metadata": {
        "id": "dcovKz1UiLT4",
        "outputId": "7dd5b35a-8de2-4381-ec8c-16d959914ffa",
        "colab": {
          "base_uri": "https://localhost:8080/"
        }
      },
      "source": [
        "bin = 4 #(começando de 0)\n",
        "f4 = count[:bin+1].sum()\n",
        "p4 = f4/len(dfD)\n",
        "M = 10000\n",
        "print('Probabilidade:', p4)\n",
        "print('1-P:', 1-p4)\n",
        "print('VaR:', 0.04*M)"
      ],
      "execution_count": 504,
      "outputs": [
        {
          "output_type": "stream",
          "text": [
            "Probabilidade: 0.024330900243309004\n",
            "1-P: 0.975669099756691\n",
            "VaR: 400.0\n"
          ],
          "name": "stdout"
        }
      ]
    },
    {
      "cell_type": "markdown",
      "metadata": {
        "id": "U6RzK_VKepy9"
      },
      "source": [
        "Para o intervalo $( \\infty, -3]\\%$:"
      ]
    },
    {
      "cell_type": "code",
      "metadata": {
        "id": "wUfoHvyFQG8C",
        "outputId": "b4c26355-cb81-4b35-8261-4c21e4a5e069",
        "colab": {
          "base_uri": "https://localhost:8080/"
        }
      },
      "source": [
        "bin = 5 #(começando de 0)\n",
        "f3 = count[:bin+1].sum()\n",
        "p3 = f3/len(dfD)\n",
        "M = 10000\n",
        "print('Probabilidade:', p3)\n",
        "print('1-P:', 1-p3)\n",
        "print('VaR:', 0.03*M)"
      ],
      "execution_count": 505,
      "outputs": [
        {
          "output_type": "stream",
          "text": [
            "Probabilidade: 0.0575831305758313\n",
            "1-P: 0.9424168694241687\n",
            "VaR: 300.0\n"
          ],
          "name": "stdout"
        }
      ]
    },
    {
      "cell_type": "markdown",
      "metadata": {
        "id": "uDG-wt42fqV1"
      },
      "source": [
        "Para o intervalo $( \\infty, -2]\\%$:"
      ]
    },
    {
      "cell_type": "code",
      "metadata": {
        "id": "ypHHDeMsfwUc",
        "outputId": "f7574610-cd36-4a3f-e61d-160462893199",
        "colab": {
          "base_uri": "https://localhost:8080/"
        }
      },
      "source": [
        "bin = 6\n",
        "f2 = count[:bin+1].sum()\n",
        "p2 = f2/len(dfD)\n",
        "print('Probabilidade:', p2)\n",
        "print('1-P:', 1-p2)\n",
        "print('VaR:', 0.02*M)"
      ],
      "execution_count": 506,
      "outputs": [
        {
          "output_type": "stream",
          "text": [
            "Probabilidade: 0.12084347120843471\n",
            "1-P: 0.8791565287915653\n",
            "VaR: 200.0\n"
          ],
          "name": "stdout"
        }
      ]
    },
    {
      "cell_type": "markdown",
      "metadata": {
        "id": "rrEWnE04g6bF"
      },
      "source": [
        "Assim, pelo histograma, estimamos:\n",
        "* Para um nível de confiança de $90\\%$: $ R\\$ 200,00 \\leq VaR < R\\$ 300,00$ (perdas entre 2 e 3%).  \\\\\n",
        "* Para um nível de confiança de $95\\%$: $ R\\$ 300,00 \\leq VaR < R\\$ 400,00$ (perdas entre 3 e 4%). "
      ]
    },
    {
      "cell_type": "markdown",
      "metadata": {
        "id": "OzVPigtJkc2j"
      },
      "source": [
        "Notamos que, pelo método histórico (usando histograma), o VaR é estimado somente como um intervalo, devido aos bins do histograma."
      ]
    },
    {
      "cell_type": "markdown",
      "metadata": {
        "id": "ZJbaZ01pEoDG"
      },
      "source": [
        "Uma alternativa para melhorar a estimativa (diminuir o intervalo) seria aumentar o número de bins do histrograma. Porém, ainda estaríamos trabahando com um um intervalo. \n",
        "\n",
        "Uma outra alternativa, mais precisa, é contarmos cada retorno diferente obervado na série e então construirmos uma ***distribuição cumulativa empírica***. A partir desta distribuição, fica fácil visualizar qual o nível de probabilidade acumulada ($\\alpha$) para cada perda máxima e, a partir dos dados históricos, estimar o VaR para um dado nível de confiança($1-\\alpha$).  "
      ]
    },
    {
      "cell_type": "code",
      "metadata": {
        "id": "CN3dbd5VGKLK",
        "outputId": "c41e7fbf-2939-4782-a33f-f2469f86c717",
        "colab": {
          "base_uri": "https://localhost:8080/",
          "height": 458
        }
      },
      "source": [
        "fig,ax = plt.subplots(figsize=(10,7))\n",
        "ax.set_title('Distribuição cumulativa')\n",
        "\n",
        "# distribuição empírica\n",
        "x,f = np.unique(dfD, return_counts=True)\n",
        "cdf = f.cumsum()/f.sum()\n",
        "ax.scatter(x,cdf, s=3, label='Empírica')\n",
        "\n",
        "# distribuição estimada\n",
        "y_nor = norm.cdf(np.linspace(r_min, r_max, 100), loc=r_mean, scale=r_std)\n",
        "ax.plot(np.linspace(r_min, r_max, 100),y_nor, 'r--', alpha=0.6, label='Estimada')\n",
        "\n",
        "# perda máxima para confiança de 90%\n",
        "alpha = 0.1\n",
        "pos90 = np.argwhere(cdf>=alpha)[0][0]\n",
        "x90 = x[pos90]\n",
        "ax.scatter(x90, alpha, s=150, marker='^', label=r'$ \\alpha=0.10$')\n",
        "\n",
        "\n",
        "# perda máxima para confiança de 95%\n",
        "alpha = 0.05\n",
        "pos95 = np.argwhere(cdf>=alpha)[0][0]\n",
        "x95 = x[pos95]\n",
        "ax.scatter(x95, alpha, s=150, marker='^', label=r'$ \\alpha=0.05$')\n",
        "ax.set_xticks(np.arange(r_min, r_max+0.01, 0.01))\n",
        "ax.xaxis.set_major_formatter(mtick.PercentFormatter(xmax=1, decimals=0))\n",
        "\n",
        "ax.set_xlabel('Retornos diários')\n",
        "ax.set_ylabel(r'Probabilidade acumulada ($\\alpha$)')\n",
        "ax.legend()\n",
        "plt.show()"
      ],
      "execution_count": 507,
      "outputs": [
        {
          "output_type": "display_data",
          "data": {
            "image/png": "[encoded data removed]",
            "text/plain": [
              "<Figure size 720x504 with 1 Axes>"
            ]
          },
          "metadata": {
            "tags": [],
            "needs_background": "light"
          }
        }
      ]
    },
    {
      "cell_type": "markdown",
      "metadata": {
        "id": "zcDi_Q-uU5dM"
      },
      "source": [
        "Com $90\\%$ de confiança:"
      ]
    },
    {
      "cell_type": "code",
      "metadata": {
        "id": "gzk_X7YiPZBh",
        "outputId": "8a187a0d-998f-4952-acc3-84e414dab148",
        "colab": {
          "base_uri": "https://localhost:8080/"
        }
      },
      "source": [
        "print('VaR: R$ {:.2f}'.format(-x90*M))"
      ],
      "execution_count": 508,
      "outputs": [
        {
          "output_type": "stream",
          "text": [
            "VaR: R$ 224.72\n"
          ],
          "name": "stdout"
        }
      ]
    },
    {
      "cell_type": "markdown",
      "metadata": {
        "id": "l3sF6CUIU-SE"
      },
      "source": [
        "Com $95\\%$ de confiança:"
      ]
    },
    {
      "cell_type": "code",
      "metadata": {
        "id": "DC6TiWihVIt0",
        "outputId": "762a9fa4-9f71-445a-c2e4-b1d8c4e1fb36",
        "colab": {
          "base_uri": "https://localhost:8080/"
        }
      },
      "source": [
        "print('VaR: R$ {:.2f}'.format(-x95*M))"
      ],
      "execution_count": 509,
      "outputs": [
        {
          "output_type": "stream",
          "text": [
            "VaR: R$ 323.28\n"
          ],
          "name": "stdout"
        }
      ]
    },
    {
      "cell_type": "markdown",
      "metadata": {
        "id": "M8twKyx1jy_J"
      },
      "source": [
        "#### Método da Variância"
      ]
    },
    {
      "cell_type": "markdown",
      "metadata": {
        "id": "WYkI5-_Wjnsh"
      },
      "source": [
        "O método da variância estimativa o VaR com base em distribuição normal ajustada com parâmetros $N(\\mu, \\sigma)$, onde $\\mu$ é a média dos retornos e $\\sigma$ o desvio padrão amostral. \n",
        "\n",
        "Para computarmos a perda máxima % para um dado nível de significância $\\alpha$ (confiança igual a $1-\\alpha$), utilizamos a função distribuição cumulativa inversa, a qual permite para qual valor da variável aleatória a probabilidade acumulada é $\\alpha$."
      ]
    },
    {
      "cell_type": "code",
      "metadata": {
        "id": "nQgM2Kz5mzd9",
        "outputId": "eca47368-c577-40d5-d08c-2c077b97453e",
        "colab": {
          "base_uri": "https://localhost:8080/"
        }
      },
      "source": [
        "x90 = norm.ppf(0.10, loc=r_mean, scale=r_std)\n",
        "x95 = norm.ppf(0.05, loc=r_mean, scale=r_std)\n",
        "print('Perda máxima - confiança de 90%: {:.2%}'.format(x90))\n",
        "print('Perda máxima - confiança de 95%: {:.2%}'.format(x95))"
      ],
      "execution_count": 510,
      "outputs": [
        {
          "output_type": "stream",
          "text": [
            "Perda máxima - confiança de 90%: -2.50%\n",
            "Perda máxima - confiança de 95%: -3.25%\n"
          ],
          "name": "stdout"
        }
      ]
    },
    {
      "cell_type": "markdown",
      "metadata": {
        "id": "x_6iDBihouay"
      },
      "source": [
        "Assim, computamos o VaR:"
      ]
    },
    {
      "cell_type": "code",
      "metadata": {
        "id": "nlmjGF8Xo0Tp",
        "outputId": "b3a5618f-e0ff-4822-90d8-c60825c3d5d9",
        "colab": {
          "base_uri": "https://localhost:8080/"
        }
      },
      "source": [
        "VaR90 = -x90*M\n",
        "VaR95 = -x95*M\n",
        "x95 = norm.ppf(0.05, loc=r_mean, scale=r_std)\n",
        "print('VaR - confiança de 90%: R$ {:.2f}'.format(VaR90))\n",
        "print('VaR - confiança de 95%: R$ {:.2f}'.format(VaR95))"
      ],
      "execution_count": 511,
      "outputs": [
        {
          "output_type": "stream",
          "text": [
            "VaR - confiança de 90%: R$ 250.13\n",
            "VaR - confiança de 95%: R$ 325.46\n"
          ],
          "name": "stdout"
        }
      ]
    },
    {
      "cell_type": "markdown",
      "metadata": {
        "id": "_ofZj84hVwV9"
      },
      "source": [
        "Observamos que o valor do VaR com confiança de $90\\%$ difere em $R\\$ 25,41$ da estimativa gerada com a distribuição empírica. Já a estimativa para o nível de confiança de $95\\%$ pouco diferem."
      ]
    },
    {
      "cell_type": "markdown",
      "metadata": {
        "id": "SvaulgUme3Kh"
      },
      "source": [
        "### b) Retornos quizenais"
      ]
    },
    {
      "cell_type": "markdown",
      "metadata": {
        "id": "kYZ4KtVoDQDL"
      },
      "source": [
        "Carregando a série de preços quinzenais e calculado a série de retornos:"
      ]
    },
    {
      "cell_type": "code",
      "metadata": {
        "id": "yCHCzSR7e5Cu"
      },
      "source": [
        "# Séries financeiras\n",
        "dir = 'https://raw.githubusercontent.com/cleitonmoya/MAE001_Trabalho2/main/series/'\n",
        "url = dir + 'B3SA3_Q' + '.csv'\n",
        "dfQ = pd.read_csv(url, decimal=',', sep=';', index_col=0, dayfirst=True, parse_dates=True, usecols=['Data', 'Fechamento'], header=0)\n",
        "dfQ.columns=['B3SA3']\n",
        "\n",
        "# Ordena o dataframe por data crescente (a fim de permitir correta localização)\n",
        "dfQ.sort_index(inplace=True) \n",
        "dfQ = dfQ.loc['2015-01-01':'2019-12-31'] # período analisado\n",
        "dfQ = dfQ.pct_change().iloc[1:,:]['B3SA3'] # matriz de retornos"
      ],
      "execution_count": 512,
      "outputs": []
    },
    {
      "cell_type": "markdown",
      "metadata": {
        "id": "HWDOKLOdW3fb"
      },
      "source": [
        "Em uma visualização preliminar dos dados, observamos que a série visivelmente não se ajusta bem a uma distriuição normal. Observamos também a presença de um retorno do tipo *outlier* cima de $40\\%$."
      ]
    },
    {
      "cell_type": "code",
      "metadata": {
        "id": "9p7-ekTXas0r",
        "outputId": "4bf272b2-648d-4da9-d7ae-4e1470762acb",
        "colab": {
          "base_uri": "https://localhost:8080/",
          "height": 265
        }
      },
      "source": [
        "ax = dfQ.hist(bins=20)"
      ],
      "execution_count": 513,
      "outputs": [
        {
          "output_type": "display_data",
          "data": {
            "image/png": "[encoded data removed]",
            "text/plain": [
              "<Figure size 432x288 with 1 Axes>"
            ]
          },
          "metadata": {
            "tags": [],
            "needs_background": "light"
          }
        }
      ]
    },
    {
      "cell_type": "markdown",
      "metadata": {
        "id": "G97fk9kwswR8"
      },
      "source": [
        "Sem prejuízo para as estimativas das perdas pelo método histórico, a fim de tentarmos obter um melhor modelo para o Método da Variância, removemos este *outlier* da série:"
      ]
    },
    {
      "cell_type": "code",
      "metadata": {
        "id": "fnliSreRr2ea",
        "outputId": "0939af3a-c502-495a-b53e-87efdfb5d83a",
        "colab": {
          "base_uri": "https://localhost:8080/",
          "height": 265
        }
      },
      "source": [
        "from scipy.stats import zscore\n",
        "z_scores = zscore(dfQ)\n",
        "filtered_entries = (z_scores <= 3)\n",
        "new_df = dfQ[filtered_entries]\n",
        "dfQ = new_df.copy()\n",
        "ax = dfQ.hist(bins=20)"
      ],
      "execution_count": 514,
      "outputs": [
        {
          "output_type": "display_data",
          "data": {
            "image/png": "[encoded data removed]",
            "text/plain": [
              "<Figure size 432x288 with 1 Axes>"
            ]
          },
          "metadata": {
            "tags": [],
            "needs_background": "light"
          }
        }
      ]
    },
    {
      "cell_type": "markdown",
      "metadata": {
        "id": "b8bV72aPZcZg"
      },
      "source": [
        "#### Histograma e distribuição estimada"
      ]
    },
    {
      "cell_type": "code",
      "metadata": {
        "id": "GP7TepxjZO-X",
        "outputId": "aaafbec5-a142-4b66-c5c4-92b67d29b07c",
        "colab": {
          "base_uri": "https://localhost:8080/",
          "height": 442
        }
      },
      "source": [
        "# Cálculo dos parâmetros\n",
        "r_min = round_down(dfQ.min(),2)\n",
        "r_max = round_up(dfQ.max(),2)\n",
        "r_mean = dfQ.mean()\n",
        "r_std = dfQ.std()\n",
        "\n",
        "x = np.arange(r_min, r_max+0.02, 0.02)\n",
        "fig, ax = plt.subplots(figsize=(12,7))\n",
        "\n",
        "# Histograma\n",
        "count = ax.hist(dfQ, bins=x, edgecolor='k', alpha=0.5, label='Dados históricos')[0]\n",
        "\n",
        "# Distribuição normal (PDF)\n",
        "from scipy.stats import norm\n",
        "y_nor = norm.pdf(np.linspace(r_min, r_max, 100), loc=r_mean, scale=r_std)\n",
        "\n",
        "ax2 = ax.twinx()\n",
        "ax2.plot(np.linspace(r_min, r_max, 100),y_nor, c='r', alpha=0.6, linewidth='3', label='Distribuição estimada')\n",
        "ax2.set_ylim(bottom=0)\n",
        "\n",
        "# Calcula\n",
        "x90 = norm.ppf(0.10, loc=r_mean, scale=r_std)\n",
        "y90 = norm.pdf(x90, loc=r_mean, scale=r_std)\n",
        "x95 = norm.ppf(0.05, loc=r_mean, scale=r_std)\n",
        "y95 = norm.pdf(x95, loc=r_mean, scale=r_std)\n",
        "\n",
        "x_area90 = np.linspace(r_min, x90)\n",
        "y_area90 = norm.pdf(x_area90, loc=r_mean, scale=r_std)\n",
        "ax2.fill_between(x_area90, y_area90, color='grey', alpha=0.3)\n",
        "\n",
        "ax2.vlines(x90, 0, y90, linestyle='--', label='Confiança 90%')\n",
        "ax2.vlines(x95, 0, y95, linestyle='-.', label='Confiança 95%')\n",
        "\n",
        "for k,p in enumerate(ax.patches):\n",
        "    height = p.get_height()\n",
        "    ax.text(p.get_x()+p.get_width()/2.,\n",
        "            height+0.2,\n",
        "            # '{:.0%}'.format(1-count[:k].sum()/len(dfQ)),\n",
        "            '{:.0f}'.format(height),\n",
        "            ha=\"center\") \n",
        " \n",
        "\n",
        "import matplotlib.ticker as mtick\n",
        "ax.set_xticks(x)\n",
        "ax.xaxis.set_major_formatter(mtick.PercentFormatter(xmax=1, decimals=0))\n",
        "ax.set_xlabel('Retornos diários')\n",
        "ax.set_ylabel('Frequência (total = {})'.format(len(dfQ)))\n",
        "ax2.set_ylabel('PDF')\n",
        "\n",
        "# Legenda\n",
        "lines_1, labels_1 = ax.get_legend_handles_labels()\n",
        "lines_2, labels_2 = ax2.get_legend_handles_labels()\n",
        "lines = lines_1 + lines_2\n",
        "labels = labels_1 + labels_2\n",
        "\n",
        "ax.legend(lines, labels, loc=0)\n",
        "plt.show()"
      ],
      "execution_count": 515,
      "outputs": [
        {
          "output_type": "display_data",
          "data": {
            "image/png": "[encoded data removed]",
            "text/plain": [
              "<Figure size 864x504 with 2 Axes>"
            ]
          },
          "metadata": {
            "tags": [],
            "needs_background": "light"
          }
        }
      ]
    },
    {
      "cell_type": "markdown",
      "metadata": {
        "id": "hmKPv0sHZO-Z"
      },
      "source": [
        "#### Método Histórico"
      ]
    },
    {
      "cell_type": "markdown",
      "metadata": {
        "id": "WGAqUvSdZO-a"
      },
      "source": [
        "Calculando a probabilidade para o intervalo $( \\infty, -10]\\%$, a partir do histograma:"
      ]
    },
    {
      "cell_type": "code",
      "metadata": {
        "id": "hpXGifsDZO-b",
        "outputId": "a5f267d3-767a-45ab-de14-d73146679107",
        "colab": {
          "base_uri": "https://localhost:8080/"
        }
      },
      "source": [
        "bin = 2 #(começando de 0)\n",
        "f4 = count[:bin+1].sum()\n",
        "p4 = f4/len(dfQ)\n",
        "M = 10000\n",
        "print('Probabilidade:', p4)\n",
        "print('1-P:', 1-p4)\n",
        "print('VaR:', 0.1*M)"
      ],
      "execution_count": 516,
      "outputs": [
        {
          "output_type": "stream",
          "text": [
            "Probabilidade: 0.037037037037037035\n",
            "1-P: 0.962962962962963\n",
            "VaR: 1000.0\n"
          ],
          "name": "stdout"
        }
      ]
    },
    {
      "cell_type": "markdown",
      "metadata": {
        "id": "74DvEvSEZO-c"
      },
      "source": [
        "Para o intervalo $( \\infty, -8]\\%$:"
      ]
    },
    {
      "cell_type": "code",
      "metadata": {
        "id": "xzlWfCOlZO-e",
        "outputId": "fe23d8ce-55e1-4fcb-ee0e-a92269ca9bd9",
        "colab": {
          "base_uri": "https://localhost:8080/"
        }
      },
      "source": [
        "bin = 3 #(começando de 0)\n",
        "f3 = count[:bin+1].sum()\n",
        "p3 = f3/len(dfQ)\n",
        "M = 10000\n",
        "print('Probabilidade:', p3)\n",
        "print('1-P:', 1-p3)\n",
        "print('VaR:', 0.08*M)"
      ],
      "execution_count": 517,
      "outputs": [
        {
          "output_type": "stream",
          "text": [
            "Probabilidade: 0.06172839506172839\n",
            "1-P: 0.9382716049382716\n",
            "VaR: 800.0\n"
          ],
          "name": "stdout"
        }
      ]
    },
    {
      "cell_type": "markdown",
      "metadata": {
        "id": "ouov-RKLZO-f"
      },
      "source": [
        "Para o intervalo $( \\infty, -6]\\%$:"
      ]
    },
    {
      "cell_type": "code",
      "metadata": {
        "id": "i0af0MlRZO-g",
        "outputId": "a6926983-9ffc-4b9e-baf9-5902ac9bffd2",
        "colab": {
          "base_uri": "https://localhost:8080/"
        }
      },
      "source": [
        "bin = 4\n",
        "f2 = count[:bin+1].sum()\n",
        "p2 = f2/len(dfQ)\n",
        "print('Probabilidade:', p2)\n",
        "print('1-P:', 1-p2)\n",
        "print('VaR:', 0.06*M)"
      ],
      "execution_count": 518,
      "outputs": [
        {
          "output_type": "stream",
          "text": [
            "Probabilidade: 0.09876543209876543\n",
            "1-P: 0.9012345679012346\n",
            "VaR: 600.0\n"
          ],
          "name": "stdout"
        }
      ]
    },
    {
      "cell_type": "markdown",
      "metadata": {
        "id": "KyYvaByXZO-i"
      },
      "source": [
        "Assim, pelo histograma, estimamos:\n",
        "* Para um nível de confiança de $90\\%$: $VaR \\approx$ $R\\$ 600,00$ (perdas máxima de 6%).  \\\\\n",
        "* Para um nível de confiança de $95\\%$: $ R\\$ 800,00 \\leq VaR < R\\$ 1000,00$ (perda máxima entre 6 e 10%). "
      ]
    },
    {
      "cell_type": "markdown",
      "metadata": {
        "id": "knDQNkFFupzz"
      },
      "source": [
        "Estimando pela distribuição cumulativa empírica:"
      ]
    },
    {
      "cell_type": "code",
      "metadata": {
        "id": "jalmeylLZO-i",
        "outputId": "658c274f-9a78-4adf-af43-f715d7d8cc1d",
        "colab": {
          "base_uri": "https://localhost:8080/",
          "height": 458
        }
      },
      "source": [
        "fig,ax = plt.subplots(figsize=(10,7))\n",
        "ax.set_title('Distribuição cumulativa')\n",
        "\n",
        "# distribuição empírica\n",
        "x,f = np.unique(dfQ, return_counts=True)\n",
        "cdf = f.cumsum()/f.sum()\n",
        "ax.scatter(x,cdf, s=3, label='Empírica')\n",
        "\n",
        "# distribuição estimada\n",
        "y_nor = norm.cdf(np.linspace(r_min, r_max, 100), loc=r_mean, scale=r_std)\n",
        "ax.plot(np.linspace(r_min, r_max, 100),y_nor, 'r--', alpha=0.6, label='Estimada')\n",
        "\n",
        "# perda máxima para confiança de 90%\n",
        "alpha = 0.1\n",
        "pos90 = np.argwhere(cdf>=alpha)[0][0]\n",
        "x90 = x[pos90]\n",
        "ax.scatter(x90, alpha, s=150, marker='^', label=r'$ \\alpha=0.10$')\n",
        "\n",
        "\n",
        "# perda máxima para confiança de 95%\n",
        "alpha = 0.05\n",
        "pos95 = np.argwhere(cdf>=alpha)[0][0]\n",
        "x95 = x[pos95]\n",
        "ax.scatter(x95, alpha, s=150, marker='^', label=r'$ \\alpha=0.05$')\n",
        "#ax.set_xticks(np.arange(r_min, r_max+0.01, 0.01))\n",
        "ax.xaxis.set_major_formatter(mtick.PercentFormatter(xmax=1, decimals=0))\n",
        "\n",
        "ax.set_xlabel('Retornos diários')\n",
        "ax.set_ylabel(r'Probabilidade acumulada ($\\alpha$)')\n",
        "ax.legend()\n",
        "plt.show()"
      ],
      "execution_count": 519,
      "outputs": [
        {
          "output_type": "display_data",
          "data": {
            "image/png": "[encoded data removed]",
            "text/plain": [
              "<Figure size 720x504 with 1 Axes>"
            ]
          },
          "metadata": {
            "tags": [],
            "needs_background": "light"
          }
        }
      ]
    },
    {
      "cell_type": "markdown",
      "metadata": {
        "id": "KD8c8MhmZO-k"
      },
      "source": [
        "Com $90\\%$ de confiança:"
      ]
    },
    {
      "cell_type": "code",
      "metadata": {
        "id": "CDNv4KHcZO-k",
        "outputId": "8926d68e-48e3-4467-f284-494cd8c3da99",
        "colab": {
          "base_uri": "https://localhost:8080/"
        }
      },
      "source": [
        "print('VaR: R$ {:.2f}'.format(-x90*M))"
      ],
      "execution_count": 520,
      "outputs": [
        {
          "output_type": "stream",
          "text": [
            "VaR: R$ 596.70\n"
          ],
          "name": "stdout"
        }
      ]
    },
    {
      "cell_type": "markdown",
      "metadata": {
        "id": "cOZzXS8XZO-m"
      },
      "source": [
        "Com $95\\%$ de confiança:"
      ]
    },
    {
      "cell_type": "code",
      "metadata": {
        "id": "YI1mWmotZO-m",
        "outputId": "dcb43b13-3fbd-43a6-eebe-ef5cd2b6c421",
        "colab": {
          "base_uri": "https://localhost:8080/"
        }
      },
      "source": [
        "print('VaR: R$ {:.2f}'.format(-x95*M))"
      ],
      "execution_count": 521,
      "outputs": [
        {
          "output_type": "stream",
          "text": [
            "VaR: R$ 951.50\n"
          ],
          "name": "stdout"
        }
      ]
    },
    {
      "cell_type": "markdown",
      "metadata": {
        "id": "SmWvkyRNZO-p"
      },
      "source": [
        "#### Método da Variância"
      ]
    },
    {
      "cell_type": "markdown",
      "metadata": {
        "id": "H7GCiWnuZO-p"
      },
      "source": [
        "O método da variância estimativa o VaR com base em distribuição normal ajustada com parâmetros $N(\\mu, \\sigma)$, onde $\\mu$ é a média dos retornos e $\\sigma$ o desvio padrão amostral. \n",
        "\n",
        "Para computarmos a perda máxima % para um dado nível de significância $\\alpha$ (confiança igual a $1-\\alpha$), utilizamos a função distribuição cumulativa inversa, a qual permite para qual valor da variável aleatória a probabilidade acumulada é $\\alpha$."
      ]
    },
    {
      "cell_type": "code",
      "metadata": {
        "id": "c7_YrU4wZO-p",
        "outputId": "7a0d29ba-1f8e-4578-cfad-ffab2fc2fd9a",
        "colab": {
          "base_uri": "https://localhost:8080/"
        }
      },
      "source": [
        "x90 = norm.ppf(0.10, loc=r_mean, scale=r_std)\n",
        "x95 = norm.ppf(0.05, loc=r_mean, scale=r_std)\n",
        "print('Perda máxima - confiança de 90%: {:.2%}'.format(x90))\n",
        "print('Perda máxima - confiança de 95%: {:.2%}'.format(x95))"
      ],
      "execution_count": 522,
      "outputs": [
        {
          "output_type": "stream",
          "text": [
            "Perda máxima - confiança de 90%: -6.85%\n",
            "Perda máxima - confiança de 95%: -9.31%\n"
          ],
          "name": "stdout"
        }
      ]
    },
    {
      "cell_type": "markdown",
      "metadata": {
        "id": "1TQL3SdYZO-r"
      },
      "source": [
        "Assim, computamos o VaR:"
      ]
    },
    {
      "cell_type": "code",
      "metadata": {
        "id": "HwTEPG1qZO-r",
        "outputId": "08c978c7-e581-45e1-ca35-0b45afd6fbff",
        "colab": {
          "base_uri": "https://localhost:8080/"
        }
      },
      "source": [
        "VaR90 = -x90*M\n",
        "VaR95 = -x95*M\n",
        "x95 = norm.ppf(0.05, loc=r_mean, scale=r_std)\n",
        "print('VaR - confiança de 90%: R$ {:.2f}'.format(VaR90))\n",
        "print('VaR - confiança de 95%: R$ {:.2f}'.format(VaR95))"
      ],
      "execution_count": 523,
      "outputs": [
        {
          "output_type": "stream",
          "text": [
            "VaR - confiança de 90%: R$ 684.78\n",
            "VaR - confiança de 95%: R$ 930.72\n"
          ],
          "name": "stdout"
        }
      ]
    },
    {
      "cell_type": "markdown",
      "metadata": {
        "id": "8vbOQzxOZO-t"
      },
      "source": [
        "Observamos uma diferença da ordem de quase $R\\$90,00$ entre as estimativas do Método Histórico e as estimativas do Método da Variância (para o nível de confiança de $90\\%$. Através do histograma e do gráfico da distribuição cumulativa, podemos perceber que essa diferença se dá devido ao fato de que os dados históricos não se ajustam bem à distribuição normal."
      ]
    },
    {
      "cell_type": "markdown",
      "metadata": {
        "id": "hutU-7mTwxIw"
      },
      "source": [
        "Assim, concluimos que o Método da Variância deve ser utilizado com cautela, sendo iportante sempre checar sobre a validade da premissa de distribuição normal dos retornos."
      ]
    },
    {
      "cell_type": "markdown",
      "metadata": {
        "id": "nEzs8g011czN"
      },
      "source": [
        "## Conclusões"
      ]
    },
    {
      "cell_type": "markdown",
      "metadata": {
        "id": "XYt_u4SW1rhL"
      },
      "source": [
        "Neste trabalho..."
      ]
    },
    {
      "cell_type": "markdown",
      "metadata": {
        "id": "H9ZxmqSh1uO7"
      },
      "source": [
        "## Bibliografia"
      ]
    },
    {
      "cell_type": "markdown",
      "metadata": {
        "id": "M5rELR972X7w"
      },
      "source": [
        "Cabral, M. A. P. **Finanças Matemáticas**: Teoria e Prática. 1 ed. 2020. Disponível em: Disponível em https://sites.google.com/matematica.ufrj.br/mapcabral/livro-finanças-matemática."
      ]
    }
  ]
}