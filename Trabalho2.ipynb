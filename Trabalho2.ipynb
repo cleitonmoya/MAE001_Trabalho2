{
  "nbformat": 4,
  "nbformat_minor": 0,
  "metadata": {
    "colab": {
      "name": "Trabalho2.ipynb",
      "provenance": [],
      "authorship_tag": "ABX9TyPASEvDBbMIlb+ieq8BG4m/",
      "include_colab_link": true
    },
    "kernelspec": {
      "name": "python3",
      "display_name": "Python 3"
    }
  },
  "cells": [
    {
      "cell_type": "markdown",
      "metadata": {
        "id": "view-in-github",
        "colab_type": "text"
      },
      "source": [
        "<a href=\"https://colab.research.google.com/github/cleitonmoya/MAE001_Trabalho2/blob/main/Trabalho2.ipynb\" target=\"_parent\"><img src=\"https://colab.research.google.com/assets/colab-badge.svg\" alt=\"Open In Colab\"/></a>"
      ]
    },
    {
      "cell_type": "markdown",
      "metadata": {
        "id": "7uIaWyaWWtpw"
      },
      "source": [
        "Importação da séries financeiras:"
      ]
    },
    {
      "cell_type": "code",
      "metadata": {
        "id": "4wnQo0wsWgIq"
      },
      "source": [
        "import numpy as np\n",
        "import pandas as pd\n",
        "import matplotlib.pyplot as plt\n",
        "\n",
        "diretorio_base = 'https://raw.githubusercontent.com/cleitonmoya/MAE001_Trabalho2/main/series/'\n",
        "series = ['ibov', 'bbdc4', 'itub4', 'csna3', 'b3sa3', 'ggbr4', 'petr4', 'mglu3', 'abev3', 'wege3', 'vivt4']\n",
        "\n",
        "url = diretorio_base + 'ibov'.upper() + '.csv'\n",
        "\n",
        "# Cria primeiro um dataframe somente com o ibov\n",
        "df = pd.read_csv(url, decimal=',', sep=';', index_col=0, dayfirst=True, parse_dates=True, usecols=['Data', 'Fechamento'], header=0)\n",
        "df.columns=['ibov']\n",
        "\n",
        "# carrega as demais séries para o dataframe\n",
        "for _,ativo in enumerate(series):\n",
        "  url = diretorio_base + ativo.upper() + '.csv'\n",
        "  df[ativo] = pd.read_csv(url, decimal=',', sep=';', index_col=0, dayfirst=True, parse_dates=True, usecols=['Data','Fechamento'])\n",
        "\n",
        "# Ordena o datafram por data crescente (a fim de permitir correta localização)\n",
        "df.sort_index(inplace=True) "
      ],
      "execution_count": null,
      "outputs": []
    },
    {
      "cell_type": "markdown",
      "metadata": {
        "id": "vNy1fG2B0KrJ"
      },
      "source": [
        "Visualizando o início do dataframe:"
      ]
    },
    {
      "cell_type": "code",
      "metadata": {
        "id": "KWvMnHQP0DFk",
        "outputId": "3a90f322-0b49-4819-f0f6-a6212199f76d",
        "colab": {
          "base_uri": "https://localhost:8080/",
          "height": 235
        }
      },
      "source": [
        "df = df.loc['2019-09-01':'2020-01-31']\n",
        "df.head()"
      ],
      "execution_count": 59,
      "outputs": [
        {
          "output_type": "execute_result",
          "data": {
            "text/html": [
              "<div>\n",
              "<style scoped>\n",
              "    .dataframe tbody tr th:only-of-type {\n",
              "        vertical-align: middle;\n",
              "    }\n",
              "\n",
              "    .dataframe tbody tr th {\n",
              "        vertical-align: top;\n",
              "    }\n",
              "\n",
              "    .dataframe thead th {\n",
              "        text-align: right;\n",
              "    }\n",
              "</style>\n",
              "<table border=\"1\" class=\"dataframe\">\n",
              "  <thead>\n",
              "    <tr style=\"text-align: right;\">\n",
              "      <th></th>\n",
              "      <th>ibov</th>\n",
              "      <th>bbdc4</th>\n",
              "      <th>itub4</th>\n",
              "      <th>csna3</th>\n",
              "      <th>b3sa3</th>\n",
              "      <th>ggbr4</th>\n",
              "      <th>petr4</th>\n",
              "      <th>mglu3</th>\n",
              "      <th>abev3</th>\n",
              "      <th>wege3</th>\n",
              "      <th>vivt4</th>\n",
              "    </tr>\n",
              "    <tr>\n",
              "      <th>Data</th>\n",
              "      <th></th>\n",
              "      <th></th>\n",
              "      <th></th>\n",
              "      <th></th>\n",
              "      <th></th>\n",
              "      <th></th>\n",
              "      <th></th>\n",
              "      <th></th>\n",
              "      <th></th>\n",
              "      <th></th>\n",
              "      <th></th>\n",
              "    </tr>\n",
              "  </thead>\n",
              "  <tbody>\n",
              "    <tr>\n",
              "      <th>2019-09-02</th>\n",
              "      <td>100625.74</td>\n",
              "      <td>28.06</td>\n",
              "      <td>32.27</td>\n",
              "      <td>14.04</td>\n",
              "      <td>41.99</td>\n",
              "      <td>12.60</td>\n",
              "      <td>24.87</td>\n",
              "      <td>9.12</td>\n",
              "      <td>17.98</td>\n",
              "      <td>22.56</td>\n",
              "      <td>50.98</td>\n",
              "    </tr>\n",
              "    <tr>\n",
              "      <th>2019-09-03</th>\n",
              "      <td>99680.83</td>\n",
              "      <td>27.60</td>\n",
              "      <td>31.65</td>\n",
              "      <td>13.63</td>\n",
              "      <td>41.81</td>\n",
              "      <td>12.52</td>\n",
              "      <td>25.16</td>\n",
              "      <td>8.94</td>\n",
              "      <td>18.12</td>\n",
              "      <td>21.98</td>\n",
              "      <td>50.73</td>\n",
              "    </tr>\n",
              "    <tr>\n",
              "      <th>2019-09-04</th>\n",
              "      <td>101200.89</td>\n",
              "      <td>27.94</td>\n",
              "      <td>31.87</td>\n",
              "      <td>13.81</td>\n",
              "      <td>42.65</td>\n",
              "      <td>12.52</td>\n",
              "      <td>25.81</td>\n",
              "      <td>9.27</td>\n",
              "      <td>18.39</td>\n",
              "      <td>22.41</td>\n",
              "      <td>51.61</td>\n",
              "    </tr>\n",
              "    <tr>\n",
              "      <th>2019-09-05</th>\n",
              "      <td>102243.00</td>\n",
              "      <td>28.59</td>\n",
              "      <td>32.78</td>\n",
              "      <td>13.94</td>\n",
              "      <td>43.29</td>\n",
              "      <td>12.61</td>\n",
              "      <td>25.94</td>\n",
              "      <td>9.14</td>\n",
              "      <td>18.28</td>\n",
              "      <td>22.56</td>\n",
              "      <td>52.21</td>\n",
              "    </tr>\n",
              "    <tr>\n",
              "      <th>2019-09-06</th>\n",
              "      <td>102935.43</td>\n",
              "      <td>29.79</td>\n",
              "      <td>33.88</td>\n",
              "      <td>13.76</td>\n",
              "      <td>43.86</td>\n",
              "      <td>12.38</td>\n",
              "      <td>26.07</td>\n",
              "      <td>8.97</td>\n",
              "      <td>18.31</td>\n",
              "      <td>22.62</td>\n",
              "      <td>51.28</td>\n",
              "    </tr>\n",
              "  </tbody>\n",
              "</table>\n",
              "</div>"
            ],
            "text/plain": [
              "                 ibov  bbdc4  itub4  csna3  ...  mglu3  abev3  wege3  vivt4\n",
              "Data                                        ...                            \n",
              "2019-09-02  100625.74  28.06  32.27  14.04  ...   9.12  17.98  22.56  50.98\n",
              "2019-09-03   99680.83  27.60  31.65  13.63  ...   8.94  18.12  21.98  50.73\n",
              "2019-09-04  101200.89  27.94  31.87  13.81  ...   9.27  18.39  22.41  51.61\n",
              "2019-09-05  102243.00  28.59  32.78  13.94  ...   9.14  18.28  22.56  52.21\n",
              "2019-09-06  102935.43  29.79  33.88  13.76  ...   8.97  18.31  22.62  51.28\n",
              "\n",
              "[5 rows x 11 columns]"
            ]
          },
          "metadata": {
            "tags": []
          },
          "execution_count": 59
        }
      ]
    },
    {
      "cell_type": "markdown",
      "metadata": {
        "id": "WNpeL_XG0NMj"
      },
      "source": [
        "Final do dataframe:"
      ]
    },
    {
      "cell_type": "code",
      "metadata": {
        "id": "HCaEenjB0I0P",
        "outputId": "b4701a7c-afd0-495f-e36e-739a6d788cb6",
        "colab": {
          "base_uri": "https://localhost:8080/",
          "height": 235
        }
      },
      "source": [
        "df.tail()"
      ],
      "execution_count": 60,
      "outputs": [
        {
          "output_type": "execute_result",
          "data": {
            "text/html": [
              "<div>\n",
              "<style scoped>\n",
              "    .dataframe tbody tr th:only-of-type {\n",
              "        vertical-align: middle;\n",
              "    }\n",
              "\n",
              "    .dataframe tbody tr th {\n",
              "        vertical-align: top;\n",
              "    }\n",
              "\n",
              "    .dataframe thead th {\n",
              "        text-align: right;\n",
              "    }\n",
              "</style>\n",
              "<table border=\"1\" class=\"dataframe\">\n",
              "  <thead>\n",
              "    <tr style=\"text-align: right;\">\n",
              "      <th></th>\n",
              "      <th>ibov</th>\n",
              "      <th>bbdc4</th>\n",
              "      <th>itub4</th>\n",
              "      <th>csna3</th>\n",
              "      <th>b3sa3</th>\n",
              "      <th>ggbr4</th>\n",
              "      <th>petr4</th>\n",
              "      <th>mglu3</th>\n",
              "      <th>abev3</th>\n",
              "      <th>wege3</th>\n",
              "      <th>vivt4</th>\n",
              "    </tr>\n",
              "    <tr>\n",
              "      <th>Data</th>\n",
              "      <th></th>\n",
              "      <th></th>\n",
              "      <th></th>\n",
              "      <th></th>\n",
              "      <th></th>\n",
              "      <th></th>\n",
              "      <th></th>\n",
              "      <th></th>\n",
              "      <th></th>\n",
              "      <th></th>\n",
              "      <th></th>\n",
              "    </tr>\n",
              "  </thead>\n",
              "  <tbody>\n",
              "    <tr>\n",
              "      <th>2020-01-27</th>\n",
              "      <td>114481.84</td>\n",
              "      <td>30.22</td>\n",
              "      <td>32.35</td>\n",
              "      <td>13.73</td>\n",
              "      <td>46.18</td>\n",
              "      <td>19.91</td>\n",
              "      <td>28.03</td>\n",
              "      <td>13.43</td>\n",
              "      <td>18.55</td>\n",
              "      <td>40.68</td>\n",
              "      <td>57.50</td>\n",
              "    </tr>\n",
              "    <tr>\n",
              "      <th>2020-01-28</th>\n",
              "      <td>116478.98</td>\n",
              "      <td>30.26</td>\n",
              "      <td>32.34</td>\n",
              "      <td>13.63</td>\n",
              "      <td>47.57</td>\n",
              "      <td>20.16</td>\n",
              "      <td>28.80</td>\n",
              "      <td>14.23</td>\n",
              "      <td>18.80</td>\n",
              "      <td>41.71</td>\n",
              "      <td>58.03</td>\n",
              "    </tr>\n",
              "    <tr>\n",
              "      <th>2020-01-29</th>\n",
              "      <td>115384.84</td>\n",
              "      <td>29.83</td>\n",
              "      <td>31.84</td>\n",
              "      <td>13.35</td>\n",
              "      <td>47.10</td>\n",
              "      <td>20.10</td>\n",
              "      <td>28.85</td>\n",
              "      <td>14.31</td>\n",
              "      <td>18.30</td>\n",
              "      <td>42.09</td>\n",
              "      <td>57.65</td>\n",
              "    </tr>\n",
              "    <tr>\n",
              "      <th>2020-01-30</th>\n",
              "      <td>115528.04</td>\n",
              "      <td>30.13</td>\n",
              "      <td>32.30</td>\n",
              "      <td>13.40</td>\n",
              "      <td>47.30</td>\n",
              "      <td>20.70</td>\n",
              "      <td>28.94</td>\n",
              "      <td>14.11</td>\n",
              "      <td>18.34</td>\n",
              "      <td>40.68</td>\n",
              "      <td>56.96</td>\n",
              "    </tr>\n",
              "    <tr>\n",
              "      <th>2020-01-31</th>\n",
              "      <td>113760.57</td>\n",
              "      <td>29.62</td>\n",
              "      <td>31.70</td>\n",
              "      <td>12.89</td>\n",
              "      <td>46.71</td>\n",
              "      <td>20.01</td>\n",
              "      <td>28.45</td>\n",
              "      <td>13.93</td>\n",
              "      <td>17.85</td>\n",
              "      <td>39.13</td>\n",
              "      <td>56.50</td>\n",
              "    </tr>\n",
              "  </tbody>\n",
              "</table>\n",
              "</div>"
            ],
            "text/plain": [
              "                 ibov  bbdc4  itub4  csna3  ...  mglu3  abev3  wege3  vivt4\n",
              "Data                                        ...                            \n",
              "2020-01-27  114481.84  30.22  32.35  13.73  ...  13.43  18.55  40.68  57.50\n",
              "2020-01-28  116478.98  30.26  32.34  13.63  ...  14.23  18.80  41.71  58.03\n",
              "2020-01-29  115384.84  29.83  31.84  13.35  ...  14.31  18.30  42.09  57.65\n",
              "2020-01-30  115528.04  30.13  32.30  13.40  ...  14.11  18.34  40.68  56.96\n",
              "2020-01-31  113760.57  29.62  31.70  12.89  ...  13.93  17.85  39.13  56.50\n",
              "\n",
              "[5 rows x 11 columns]"
            ]
          },
          "metadata": {
            "tags": []
          },
          "execution_count": 60
        }
      ]
    },
    {
      "cell_type": "markdown",
      "metadata": {
        "id": "f7d_JOG_WVZV"
      },
      "source": [
        "# Questão 2 - Gráfico de Dispersão"
      ]
    },
    {
      "cell_type": "code",
      "metadata": {
        "id": "bwYNo0P2UYb3"
      },
      "source": [
        ""
      ],
      "execution_count": null,
      "outputs": []
    },
    {
      "cell_type": "code",
      "metadata": {
        "id": "5WNklJdpoypo"
      },
      "source": [
        ""
      ],
      "execution_count": null,
      "outputs": []
    }
  ]
}