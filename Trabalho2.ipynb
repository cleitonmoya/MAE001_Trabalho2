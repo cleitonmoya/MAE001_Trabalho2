{
  "nbformat": 4,
  "nbformat_minor": 0,
  "metadata": {
    "colab": {
      "name": "Trabalho2.ipynb",
      "provenance": [],
      "toc_visible": true,
      "include_colab_link": true
    },
    "kernelspec": {
      "name": "python3",
      "display_name": "Python 3"
    }
  },
  "cells": [
    {
      "cell_type": "markdown",
      "metadata": {
        "id": "view-in-github",
        "colab_type": "text"
      },
      "source": [
        "<a href=\"https://colab.research.google.com/github/cleitonmoya/MAE001_Trabalho2/blob/main/Trabalho2.ipynb\" target=\"_parent\"><img src=\"https://colab.research.google.com/assets/colab-badge.svg\" alt=\"Open In Colab\"/></a>"
      ]
    },
    {
      "cell_type": "markdown",
      "metadata": {
        "id": "-yQHIQjn3dvy"
      },
      "source": [
        "#MAE001 - Projeto \\#2 "
      ]
    },
    {
      "cell_type": "markdown",
      "metadata": {
        "id": "FRyu6SOy3o6o"
      },
      "source": [
        "MAE001 - Modelagem Matemática em Finanças I \\\\\n",
        "Professor: Marco A. Cabral\n",
        "\n",
        "Alunos:\n",
        "* Cleiton Moya de Almeida\n",
        "* Gustaco Maciel Ribeiro\n",
        "* Renato Santana\n"
      ]
    },
    {
      "cell_type": "markdown",
      "metadata": {
        "id": "1y0NTHrXAXxh"
      },
      "source": [
        "## Introdução"
      ]
    },
    {
      "cell_type": "markdown",
      "metadata": {
        "id": "Z9uIfukQPyg5"
      },
      "source": [
        "pvsdjfoksdfjds fdsf"
      ]
    },
    {
      "cell_type": "markdown",
      "metadata": {
        "id": "PQeLDH45P4JF"
      },
      "source": [
        "Introdução"
      ]
    },
    {
      "cell_type": "code",
      "metadata": {
        "id": "-16QhUDnP6g9",
        "outputId": "96523176-e9e6-4742-9ca9-e6575711015d",
        "colab": {
          "base_uri": "https://localhost:8080/",
          "height": 298
        }
      },
      "source": [
        "print(5+3)\n",
        "x = [1, 2, 3]\n",
        "y = [1, 4, 9]\n",
        "plt.plot(x,y)"
      ],
      "execution_count": null,
      "outputs": [
        {
          "output_type": "stream",
          "text": [
            "8\n"
          ],
          "name": "stdout"
        },
        {
          "output_type": "execute_result",
          "data": {
            "text/plain": [
              "[<matplotlib.lines.Line2D at 0x7f59d8f6aa58>]"
            ]
          },
          "metadata": {
            "tags": []
          },
          "execution_count": 100
        },
        {
          "output_type": "display_data",
          "data": {
            "image/png": "[encoded data removed]",
            "text/plain": [
              "<Figure size 432x288 with 1 Axes>"
            ]
          },
          "metadata": {
            "tags": [],
            "needs_background": "light"
          }
        }
      ]
    },
    {
      "cell_type": "markdown",
      "metadata": {
        "id": "nfDAL27Swf7j"
      },
      "source": [
        "## Importação das Séries"
      ]
    },
    {
      "cell_type": "code",
      "metadata": {
        "id": "jOAJ5V9vOs_L"
      },
      "source": [
        "import numpy as np\n",
        "import pandas as pd\n",
        "import matplotlib.pyplot as plt\n",
        "import seaborn as sns\n",
        "import random\n",
        "pd.reset_option('display.float_format')\n",
        "np.set_printoptions(precision=2)\n",
        "pd.options.display.precision = 2"
      ],
      "execution_count": null,
      "outputs": []
    },
    {
      "cell_type": "code",
      "metadata": {
        "id": "4wnQo0wsWgIq"
      },
      "source": [
        "# Séries financeiras\n",
        "dir = 'https://raw.githubusercontent.com/cleitonmoya/MAE001_Trabalho2/main/series/'\n",
        "series = ['IBOV', 'BBDC4', 'ITUB4', 'CSNA3', 'GGBR4', 'B3SA3',\n",
        "                  'PETR4', 'MGLU3', 'ABEV3', 'WEGE3', 'VIVT4']\n",
        "url = dir + 'IBOV' + '.csv'\n",
        "\n",
        "# Cria primeiro um dataframe somente com o IBOV\n",
        "df = pd.read_csv(url, decimal=',', sep=';', index_col=0, dayfirst=True, parse_dates=True, usecols=['Data', 'Fechamento'], header=0)\n",
        "df.columns=['IBOV']\n",
        "\n",
        "# Carrega as demais séries para o dataframe\n",
        "for _,ativo in enumerate(series):\n",
        "  url = dir + ativo + '.csv'\n",
        "  df[ativo] = pd.read_csv(url, decimal=',', sep=';', index_col=0, dayfirst=True, parse_dates=True, usecols=['Data','Fechamento'])\n",
        "\n",
        "# Ordena o dataframe por data crescente (a fim de permitir correta localização)\n",
        "df.sort_index(inplace=True) \n",
        "df = df.loc['2015-01-01':'2019-12-31'] # período analisado"
      ],
      "execution_count": null,
      "outputs": []
    },
    {
      "cell_type": "markdown",
      "metadata": {
        "id": "vNy1fG2B0KrJ"
      },
      "source": [
        "Visualização das séries importadas:"
      ]
    },
    {
      "cell_type": "code",
      "metadata": {
        "id": "KWvMnHQP0DFk",
        "outputId": "c4ebf523-f443-42ad-947a-900cce494e58",
        "colab": {
          "base_uri": "https://localhost:8080/",
          "height": 431
        }
      },
      "source": [
        "df"
      ],
      "execution_count": null,
      "outputs": [
        {
          "output_type": "execute_result",
          "data": {
            "text/html": [
              "<div>\n",
              "<style scoped>\n",
              "    .dataframe tbody tr th:only-of-type {\n",
              "        vertical-align: middle;\n",
              "    }\n",
              "\n",
              "    .dataframe tbody tr th {\n",
              "        vertical-align: top;\n",
              "    }\n",
              "\n",
              "    .dataframe thead th {\n",
              "        text-align: right;\n",
              "    }\n",
              "</style>\n",
              "<table border=\"1\" class=\"dataframe\">\n",
              "  <thead>\n",
              "    <tr style=\"text-align: right;\">\n",
              "      <th></th>\n",
              "      <th>IBOV</th>\n",
              "      <th>BBDC4</th>\n",
              "      <th>ITUB4</th>\n",
              "      <th>CSNA3</th>\n",
              "      <th>GGBR4</th>\n",
              "      <th>B3SA3</th>\n",
              "      <th>PETR4</th>\n",
              "      <th>MGLU3</th>\n",
              "      <th>ABEV3</th>\n",
              "      <th>WEGE3</th>\n",
              "      <th>VIVT4</th>\n",
              "    </tr>\n",
              "    <tr>\n",
              "      <th>Data</th>\n",
              "      <th></th>\n",
              "      <th></th>\n",
              "      <th></th>\n",
              "      <th></th>\n",
              "      <th></th>\n",
              "      <th></th>\n",
              "      <th></th>\n",
              "      <th></th>\n",
              "      <th></th>\n",
              "      <th></th>\n",
              "      <th></th>\n",
              "    </tr>\n",
              "  </thead>\n",
              "  <tbody>\n",
              "    <tr>\n",
              "      <th>2015-01-02</th>\n",
              "      <td>48512.22</td>\n",
              "      <td>13.01</td>\n",
              "      <td>13.81</td>\n",
              "      <td>4.21</td>\n",
              "      <td>8.40</td>\n",
              "      <td>7.88</td>\n",
              "      <td>8.79</td>\n",
              "      <td>0.22</td>\n",
              "      <td>13.95</td>\n",
              "      <td>10.82</td>\n",
              "      <td>31.81</td>\n",
              "    </tr>\n",
              "    <tr>\n",
              "      <th>2015-01-05</th>\n",
              "      <td>47516.82</td>\n",
              "      <td>13.04</td>\n",
              "      <td>13.88</td>\n",
              "      <td>4.05</td>\n",
              "      <td>8.04</td>\n",
              "      <td>7.65</td>\n",
              "      <td>8.08</td>\n",
              "      <td>0.23</td>\n",
              "      <td>13.64</td>\n",
              "      <td>10.76</td>\n",
              "      <td>31.68</td>\n",
              "    </tr>\n",
              "    <tr>\n",
              "      <th>2015-01-06</th>\n",
              "      <td>48000.92</td>\n",
              "      <td>13.46</td>\n",
              "      <td>14.11</td>\n",
              "      <td>4.32</td>\n",
              "      <td>8.94</td>\n",
              "      <td>7.72</td>\n",
              "      <td>7.82</td>\n",
              "      <td>0.22</td>\n",
              "      <td>14.04</td>\n",
              "      <td>10.59</td>\n",
              "      <td>31.40</td>\n",
              "    </tr>\n",
              "    <tr>\n",
              "      <th>2015-01-07</th>\n",
              "      <td>49462.91</td>\n",
              "      <td>14.00</td>\n",
              "      <td>14.62</td>\n",
              "      <td>4.79</td>\n",
              "      <td>9.61</td>\n",
              "      <td>8.05</td>\n",
              "      <td>8.14</td>\n",
              "      <td>0.23</td>\n",
              "      <td>14.38</td>\n",
              "      <td>10.58</td>\n",
              "      <td>31.98</td>\n",
              "    </tr>\n",
              "    <tr>\n",
              "      <th>2015-01-08</th>\n",
              "      <td>49943.30</td>\n",
              "      <td>14.07</td>\n",
              "      <td>14.85</td>\n",
              "      <td>4.68</td>\n",
              "      <td>9.43</td>\n",
              "      <td>7.97</td>\n",
              "      <td>8.62</td>\n",
              "      <td>0.23</td>\n",
              "      <td>14.43</td>\n",
              "      <td>10.71</td>\n",
              "      <td>32.31</td>\n",
              "    </tr>\n",
              "    <tr>\n",
              "      <th>...</th>\n",
              "      <td>...</td>\n",
              "      <td>...</td>\n",
              "      <td>...</td>\n",
              "      <td>...</td>\n",
              "      <td>...</td>\n",
              "      <td>...</td>\n",
              "      <td>...</td>\n",
              "      <td>...</td>\n",
              "      <td>...</td>\n",
              "      <td>...</td>\n",
              "      <td>...</td>\n",
              "    </tr>\n",
              "    <tr>\n",
              "      <th>2019-12-20</th>\n",
              "      <td>115121.08</td>\n",
              "      <td>32.13</td>\n",
              "      <td>35.24</td>\n",
              "      <td>13.79</td>\n",
              "      <td>19.12</td>\n",
              "      <td>47.23</td>\n",
              "      <td>29.91</td>\n",
              "      <td>12.13</td>\n",
              "      <td>18.91</td>\n",
              "      <td>33.62</td>\n",
              "      <td>54.29</td>\n",
              "    </tr>\n",
              "    <tr>\n",
              "      <th>2019-12-23</th>\n",
              "      <td>115863.29</td>\n",
              "      <td>32.33</td>\n",
              "      <td>35.56</td>\n",
              "      <td>14.51</td>\n",
              "      <td>19.43</td>\n",
              "      <td>45.08</td>\n",
              "      <td>30.15</td>\n",
              "      <td>12.16</td>\n",
              "      <td>18.96</td>\n",
              "      <td>33.55</td>\n",
              "      <td>54.78</td>\n",
              "    </tr>\n",
              "    <tr>\n",
              "      <th>2019-12-26</th>\n",
              "      <td>117203.20</td>\n",
              "      <td>32.73</td>\n",
              "      <td>36.10</td>\n",
              "      <td>14.48</td>\n",
              "      <td>19.85</td>\n",
              "      <td>44.87</td>\n",
              "      <td>30.55</td>\n",
              "      <td>12.25</td>\n",
              "      <td>19.22</td>\n",
              "      <td>34.60</td>\n",
              "      <td>55.26</td>\n",
              "    </tr>\n",
              "    <tr>\n",
              "      <th>2019-12-27</th>\n",
              "      <td>116533.98</td>\n",
              "      <td>32.61</td>\n",
              "      <td>36.01</td>\n",
              "      <td>13.94</td>\n",
              "      <td>19.84</td>\n",
              "      <td>42.52</td>\n",
              "      <td>30.52</td>\n",
              "      <td>12.16</td>\n",
              "      <td>19.16</td>\n",
              "      <td>35.09</td>\n",
              "      <td>54.87</td>\n",
              "    </tr>\n",
              "    <tr>\n",
              "      <th>2019-12-30</th>\n",
              "      <td>115645.34</td>\n",
              "      <td>32.56</td>\n",
              "      <td>35.81</td>\n",
              "      <td>14.09</td>\n",
              "      <td>19.96</td>\n",
              "      <td>41.33</td>\n",
              "      <td>30.18</td>\n",
              "      <td>11.90</td>\n",
              "      <td>18.67</td>\n",
              "      <td>34.41</td>\n",
              "      <td>54.40</td>\n",
              "    </tr>\n",
              "  </tbody>\n",
              "</table>\n",
              "<p>1234 rows × 11 columns</p>\n",
              "</div>"
            ],
            "text/plain": [
              "                 IBOV  BBDC4  ITUB4  CSNA3  ...  MGLU3  ABEV3  WEGE3  VIVT4\n",
              "Data                                        ...                            \n",
              "2015-01-02   48512.22  13.01  13.81   4.21  ...   0.22  13.95  10.82  31.81\n",
              "2015-01-05   47516.82  13.04  13.88   4.05  ...   0.23  13.64  10.76  31.68\n",
              "2015-01-06   48000.92  13.46  14.11   4.32  ...   0.22  14.04  10.59  31.40\n",
              "2015-01-07   49462.91  14.00  14.62   4.79  ...   0.23  14.38  10.58  31.98\n",
              "2015-01-08   49943.30  14.07  14.85   4.68  ...   0.23  14.43  10.71  32.31\n",
              "...               ...    ...    ...    ...  ...    ...    ...    ...    ...\n",
              "2019-12-20  115121.08  32.13  35.24  13.79  ...  12.13  18.91  33.62  54.29\n",
              "2019-12-23  115863.29  32.33  35.56  14.51  ...  12.16  18.96  33.55  54.78\n",
              "2019-12-26  117203.20  32.73  36.10  14.48  ...  12.25  19.22  34.60  55.26\n",
              "2019-12-27  116533.98  32.61  36.01  13.94  ...  12.16  19.16  35.09  54.87\n",
              "2019-12-30  115645.34  32.56  35.81  14.09  ...  11.90  18.67  34.41  54.40\n",
              "\n",
              "[1234 rows x 11 columns]"
            ]
          },
          "metadata": {
            "tags": []
          },
          "execution_count": 81
        }
      ]
    },
    {
      "cell_type": "markdown",
      "metadata": {
        "id": "kkOta__H_V1D"
      },
      "source": [
        "## Questão 1"
      ]
    },
    {
      "cell_type": "markdown",
      "metadata": {
        "id": "4w-LuujD8x5K"
      },
      "source": [
        "Bala de Markowitz"
      ]
    },
    {
      "cell_type": "markdown",
      "metadata": {
        "id": "R8y3sIdFC7uv"
      },
      "source": [
        "### Método: sorteio dos parâmetros"
      ]
    },
    {
      "cell_type": "markdown",
      "metadata": {
        "id": "d9VAR6Fp9PeQ"
      },
      "source": [
        "#### 2 Ativos"
      ]
    },
    {
      "cell_type": "markdown",
      "metadata": {
        "id": "LU0Bdp4gGbU4"
      },
      "source": [
        "Fixando a semnente para a reprodutibilidade dos resultados:"
      ]
    },
    {
      "cell_type": "code",
      "metadata": {
        "id": "YL3ms3KgGfHT"
      },
      "source": [
        "seed = 42\n",
        "random.seed(seed)"
      ],
      "execution_count": null,
      "outputs": []
    },
    {
      "cell_type": "markdown",
      "metadata": {
        "id": "o9GQ-JvPGmME"
      },
      "source": [
        "Sorteio dos parâmetros:"
      ]
    },
    {
      "cell_type": "code",
      "metadata": {
        "id": "7tYFlLkX8xFX"
      },
      "source": [
        "retorno_X = random.randint(0,100)/100\n",
        "retorno_Y = random.randint(0,100)/100\n",
        "\n",
        "stdX = random.randint(0,100)/100\n",
        "stdY = random.randint(0,100)/100\n",
        "\n",
        "corrXY = np.random.randint(-100,100)/100"
      ],
      "execution_count": null,
      "outputs": []
    },
    {
      "cell_type": "code",
      "metadata": {
        "id": "Wqvxm6oE9GHl",
        "outputId": "acb83aad-0195-4df9-cec6-3881e7760cc2",
        "colab": {
          "base_uri": "https://localhost:8080/"
        }
      },
      "source": [
        "print(retorno_X,retorno_Y,stdX,stdY,corrXY)"
      ],
      "execution_count": null,
      "outputs": [
        {
          "output_type": "stream",
          "text": [
            "0.21 0.71 0.16 0.32 0.25\n"
          ],
          "name": "stdout"
        }
      ]
    },
    {
      "cell_type": "code",
      "metadata": {
        "id": "B8NJcShq9Nsz"
      },
      "source": [
        "peso_x = np.linspace(0,1,100)\n",
        "retorno_carteira = []\n",
        "risco_carteira = []\n",
        "\n",
        "for i in peso_x:\n",
        "    j = 1-i\n",
        "    retorno_carteira += [i *retorno_X + j*retorno_Y]\n",
        "    risco_carteira += [((i*stdX)**2 + (j*stdY)**2 + 2*(j*stdY)*(i*stdX)*corrXY)**0.5]"
      ],
      "execution_count": null,
      "outputs": []
    },
    {
      "cell_type": "code",
      "metadata": {
        "id": "VHDI0SGp9amY",
        "outputId": "cfbc1abb-4a87-48d0-d98c-c12f607404ee",
        "colab": {
          "base_uri": "https://localhost:8080/",
          "height": 295
        }
      },
      "source": [
        "plt.plot(risco_carteira,retorno_carteira)\n",
        "plt.plot(risco_carteira[0],retorno_carteira[0],'o')\n",
        "plt.plot(risco_carteira[-1],retorno_carteira[-1],'o')\n",
        "plt.title('Bala de Markowitz')\n",
        "plt.xlabel('Risco')\n",
        "plt.ylabel('Retorno')\n",
        "plt.show()"
      ],
      "execution_count": null,
      "outputs": [
        {
          "output_type": "display_data",
          "data": {
            "image/png": "[encoded data removed]",
            "text/plain": [
              "<Figure size 432x288 with 1 Axes>"
            ]
          },
          "metadata": {
            "tags": [],
            "needs_background": "light"
          }
        }
      ]
    },
    {
      "cell_type": "markdown",
      "metadata": {
        "id": "o9zLBMV39kd6"
      },
      "source": [
        "#### 3 Ativos"
      ]
    },
    {
      "cell_type": "code",
      "metadata": {
        "id": "8v_rrpnn9oB3",
        "outputId": "9c80892f-576b-46f9-d166-dca279ba2596",
        "colab": {
          "base_uri": "https://localhost:8080/"
        }
      },
      "source": [
        "seed = 42\n",
        "random.seed(seed)\n",
        "\n",
        "retorno_X = random.randint(0,100)/100\n",
        "retorno_Y = random.randint(0,100)/100\n",
        "retorno_Z = random.randint(0,100)/100\n",
        "R = np.array([retorno_X, retorno_Y, retorno_Z])\n",
        "\n",
        "\n",
        "stdX = random.randint(0,100)/100\n",
        "stdY = random.randint(0,100)/100\n",
        "stdZ = random.randint(0,100)/100\n",
        "Std = np.array([std_X, std_Y, std_Z])\n",
        "\n",
        "corrXY = np.random.randint(-100,100)/100\n",
        "corrXZ = np.random.randint(-100,100)/100\n",
        "corrYZ = np.random.randint(-100,100)/100\n",
        "\n",
        "print(retorno_X,retorno_Y,retorno_Z,stdX,stdY,stdZ,corrXY,corrXZ,corrYZ)"
      ],
      "execution_count": null,
      "outputs": [
        {
          "output_type": "stream",
          "text": [
            "0.86 0.71 0.01 0.89 0.54 0.22 0.94 -0.05 -0.33\n"
          ],
          "name": "stdout"
        }
      ]
    },
    {
      "cell_type": "markdown",
      "metadata": {
        "id": "TrvjyV-7FUfO"
      },
      "source": [
        "Matriz de covariância:"
      ]
    },
    {
      "cell_type": "code",
      "metadata": {
        "id": "f6oCZMuIFYSy",
        "outputId": "a218f25a-a8e8-4954-9841-78e2cb4a951e",
        "colab": {
          "base_uri": "https://localhost:8080/"
        }
      },
      "source": [
        "covXY = corrXY*stdX*stdY\n",
        "covXZ = corrXZ*stdX*stdZ\n",
        "covYZ = corrYZ*stdY*stdZ\n",
        "\n",
        "Cov = np.array([[retorno_X, covXY, covXZ],\n",
        "                [covXY, retorno_Y, covYZ],\n",
        "                [covXZ, covXY, retorno_Z]])\n",
        "\n",
        "print(Cov)"
      ],
      "execution_count": null,
      "outputs": [
        {
          "output_type": "stream",
          "text": [
            "[[ 0.86  0.45 -0.01]\n",
            " [ 0.45  0.71 -0.04]\n",
            " [-0.01  0.45  0.01]]\n"
          ],
          "name": "stdout"
        }
      ]
    },
    {
      "cell_type": "markdown",
      "metadata": {
        "id": "ZriTq7HpHEWP"
      },
      "source": [
        "Verificando se é semi-definida positiva:"
      ]
    },
    {
      "cell_type": "code",
      "metadata": {
        "id": "z32C42uiHKXP",
        "outputId": "7170d758-077d-421a-db5a-d112f7c377e4",
        "colab": {
          "base_uri": "https://localhost:8080/"
        }
      },
      "source": [
        "if np.any(np.linalg.eigvals(Cov) == 0):\n",
        "  print('Autovalor negativo!')\n",
        "else: \n",
        "  print('Autovalores positivos!')"
      ],
      "execution_count": null,
      "outputs": [
        {
          "output_type": "stream",
          "text": [
            "Autovalores positivos!\n"
          ],
          "name": "stdout"
        }
      ]
    },
    {
      "cell_type": "code",
      "metadata": {
        "id": "AMAHoEhk9tPu"
      },
      "source": [
        "def sorteiaRetornos:\n",
        "  retorno_X = random.randint(0,100)/100\n",
        "  retorno_Y = random.randint(0,100)/100\n",
        "  retorno_Z = random.randint(0,100)/100\n",
        "  R = np.array([retorno_X, retorno_Y, retorno_Z])\n",
        "\n",
        "\n",
        "peso_x = np.linspace(0,1,100).tolist()\n",
        "retorno_carteira = []\n",
        "risco_carteira = []\n",
        "\n",
        "for i in peso_x:\n",
        "    j = 1 - i\n",
        "    k = 1 - (i+j)\n",
        "    retorno_carteira += [i *retorno_X + j*retorno_Y + k*retorno_Z]\n",
        "    risco_carteira += [((i*stdX)**2 + (j*stdY)**2 + (k*stdY)**2 + 2*(j*stdY)*(i*stdX)*corrXY + 2*(k*stdZ)*(i*stdX)*corrXZ + 2*(j*stdY)*(k*stdZ)*corrYZ)**0.5]\n",
        "    "
      ],
      "execution_count": null,
      "outputs": []
    },
    {
      "cell_type": "code",
      "metadata": {
        "id": "usDWulMA9vtE",
        "outputId": "9fa72048-0ecb-4537-b862-288b055567bc",
        "colab": {
          "base_uri": "https://localhost:8080/",
          "height": 282
        }
      },
      "source": [
        "plt.plot(risco_carteira,retorno_carteira)\n",
        "plt.plot(risco_carteira[0],retorno_carteira[0],'o')\n",
        "plt.plot(risco_carteira[-1],retorno_carteira[-1],'o')"
      ],
      "execution_count": null,
      "outputs": [
        {
          "output_type": "execute_result",
          "data": {
            "text/plain": [
              "[<matplotlib.lines.Line2D at 0x7f59d905b978>]"
            ]
          },
          "metadata": {
            "tags": []
          },
          "execution_count": 88
        },
        {
          "output_type": "display_data",
          "data": {
            "image/png": "[encoded data removed]",
            "text/plain": [
              "<Figure size 432x288 with 1 Axes>"
            ]
          },
          "metadata": {
            "tags": [],
            "needs_background": "light"
          }
        }
      ]
    },
    {
      "cell_type": "markdown",
      "metadata": {
        "id": "W48zMzlACyFJ"
      },
      "source": [
        "### Método: sorteio das séries"
      ]
    },
    {
      "cell_type": "markdown",
      "metadata": {
        "id": "QMXhq0XODOgI"
      },
      "source": [
        "Gera séries de retornos (diários) diários aleatórios: "
      ]
    },
    {
      "cell_type": "code",
      "metadata": {
        "id": "PZUsjrslDW-Q"
      },
      "source": [
        "mu_min = 1e-3\n",
        "mu_max = 5e-3\n",
        "std_min = 1e-2\n",
        "std_max = 3e-2\n",
        "\n",
        "N = 7 # Número de ativos\n",
        "seed = 39\n",
        "# (5,42), (7, 39), (7, 37), \n",
        "T = 252 # período da série\n",
        "\n",
        "# Gera série de retorno normal\n",
        "def geraRetorno():\n",
        "  mu = np.random.uniform(mu_min, mu_max)\n",
        "  std = np.random.uniform(std_min, std_max)\n",
        "  for t in range(T):\n",
        "    R = np.random.normal(loc=mu, scale=std, size=T)\n",
        "  return R\n",
        "\n",
        "random.seed(seed)\n",
        "np.random.seed(seed)\n",
        "X = geraRetorno()\n",
        "while (X.mean() < 0):\n",
        "  X = geraRetorno()\n",
        "\n",
        "dfX = pd.DataFrame(X.T, np.arange(1,T+1))\n",
        "for n in range(1,N):\n",
        "  X = geraRetorno()\n",
        "  while (X.mean() < 0):\n",
        "    X = geraRetorno()\n",
        "  dfX[n] = X\n",
        "\n",
        "# Nomeia os ativos (A, B, C...)\n",
        "import string\n",
        "ativos = list(string.ascii_uppercase)[:N]\n",
        "dfX.rename(columns=dict(zip(range(N), ativos)), inplace=True)"
      ],
      "execution_count": null,
      "outputs": []
    },
    {
      "cell_type": "markdown",
      "metadata": {
        "id": "828tELgTDa6H"
      },
      "source": [
        "Matriz de covariância:"
      ]
    },
    {
      "cell_type": "code",
      "metadata": {
        "id": "eFUyKX5tDdJK",
        "outputId": "c99cdfdc-3186-4b35-b528-6886ae14e8df",
        "colab": {
          "base_uri": "https://localhost:8080/",
          "height": 254
        }
      },
      "source": [
        "dfX.cov()"
      ],
      "execution_count": null,
      "outputs": [
        {
          "output_type": "execute_result",
          "data": {
            "text/html": [
              "<div>\n",
              "<style scoped>\n",
              "    .dataframe tbody tr th:only-of-type {\n",
              "        vertical-align: middle;\n",
              "    }\n",
              "\n",
              "    .dataframe tbody tr th {\n",
              "        vertical-align: top;\n",
              "    }\n",
              "\n",
              "    .dataframe thead th {\n",
              "        text-align: right;\n",
              "    }\n",
              "</style>\n",
              "<table border=\"1\" class=\"dataframe\">\n",
              "  <thead>\n",
              "    <tr style=\"text-align: right;\">\n",
              "      <th></th>\n",
              "      <th>A</th>\n",
              "      <th>B</th>\n",
              "      <th>C</th>\n",
              "      <th>D</th>\n",
              "      <th>E</th>\n",
              "      <th>F</th>\n",
              "      <th>G</th>\n",
              "    </tr>\n",
              "  </thead>\n",
              "  <tbody>\n",
              "    <tr>\n",
              "      <th>A</th>\n",
              "      <td>7.15e-04</td>\n",
              "      <td>4.20e-05</td>\n",
              "      <td>-6.10e-05</td>\n",
              "      <td>3.30e-06</td>\n",
              "      <td>-3.45e-05</td>\n",
              "      <td>-8.93e-06</td>\n",
              "      <td>8.02e-06</td>\n",
              "    </tr>\n",
              "    <tr>\n",
              "      <th>B</th>\n",
              "      <td>4.20e-05</td>\n",
              "      <td>8.07e-04</td>\n",
              "      <td>-3.77e-05</td>\n",
              "      <td>-1.86e-05</td>\n",
              "      <td>-1.94e-05</td>\n",
              "      <td>-7.37e-07</td>\n",
              "      <td>-2.51e-05</td>\n",
              "    </tr>\n",
              "    <tr>\n",
              "      <th>C</th>\n",
              "      <td>-6.10e-05</td>\n",
              "      <td>-3.77e-05</td>\n",
              "      <td>7.31e-04</td>\n",
              "      <td>3.57e-05</td>\n",
              "      <td>2.00e-05</td>\n",
              "      <td>-1.48e-05</td>\n",
              "      <td>5.66e-06</td>\n",
              "    </tr>\n",
              "    <tr>\n",
              "      <th>D</th>\n",
              "      <td>3.30e-06</td>\n",
              "      <td>-1.86e-05</td>\n",
              "      <td>3.57e-05</td>\n",
              "      <td>5.18e-04</td>\n",
              "      <td>-1.71e-05</td>\n",
              "      <td>1.44e-07</td>\n",
              "      <td>7.20e-06</td>\n",
              "    </tr>\n",
              "    <tr>\n",
              "      <th>E</th>\n",
              "      <td>-3.45e-05</td>\n",
              "      <td>-1.94e-05</td>\n",
              "      <td>2.00e-05</td>\n",
              "      <td>-1.71e-05</td>\n",
              "      <td>2.05e-04</td>\n",
              "      <td>5.35e-06</td>\n",
              "      <td>-8.08e-06</td>\n",
              "    </tr>\n",
              "    <tr>\n",
              "      <th>F</th>\n",
              "      <td>-8.93e-06</td>\n",
              "      <td>-7.37e-07</td>\n",
              "      <td>-1.48e-05</td>\n",
              "      <td>1.44e-07</td>\n",
              "      <td>5.35e-06</td>\n",
              "      <td>3.63e-04</td>\n",
              "      <td>-2.03e-05</td>\n",
              "    </tr>\n",
              "    <tr>\n",
              "      <th>G</th>\n",
              "      <td>8.02e-06</td>\n",
              "      <td>-2.51e-05</td>\n",
              "      <td>5.66e-06</td>\n",
              "      <td>7.20e-06</td>\n",
              "      <td>-8.08e-06</td>\n",
              "      <td>-2.03e-05</td>\n",
              "      <td>1.11e-04</td>\n",
              "    </tr>\n",
              "  </tbody>\n",
              "</table>\n",
              "</div>"
            ],
            "text/plain": [
              "          A         B         C         D         E         F         G\n",
              "A  7.15e-04  4.20e-05 -6.10e-05  3.30e-06 -3.45e-05 -8.93e-06  8.02e-06\n",
              "B  4.20e-05  8.07e-04 -3.77e-05 -1.86e-05 -1.94e-05 -7.37e-07 -2.51e-05\n",
              "C -6.10e-05 -3.77e-05  7.31e-04  3.57e-05  2.00e-05 -1.48e-05  5.66e-06\n",
              "D  3.30e-06 -1.86e-05  3.57e-05  5.18e-04 -1.71e-05  1.44e-07  7.20e-06\n",
              "E -3.45e-05 -1.94e-05  2.00e-05 -1.71e-05  2.05e-04  5.35e-06 -8.08e-06\n",
              "F -8.93e-06 -7.37e-07 -1.48e-05  1.44e-07  5.35e-06  3.63e-04 -2.03e-05\n",
              "G  8.02e-06 -2.51e-05  5.66e-06  7.20e-06 -8.08e-06 -2.03e-05  1.11e-04"
            ]
          },
          "metadata": {
            "tags": []
          },
          "execution_count": 90
        }
      ]
    },
    {
      "cell_type": "markdown",
      "metadata": {
        "id": "S9rly1J3DguX"
      },
      "source": [
        "Verificando se a matriz é semi-definida positiva (todos autovalores positivos):"
      ]
    },
    {
      "cell_type": "code",
      "metadata": {
        "id": "3senJ3SID6Az",
        "outputId": "7bd12653-2dd1-4524-f451-845a7c825598",
        "colab": {
          "base_uri": "https://localhost:8080/"
        }
      },
      "source": [
        "if np.any(np.linalg.eigvals(dfX.cov().to_numpy()) == 0):\n",
        "  print('Autovalor negativo!')\n",
        "else: \n",
        "  print('Autovalores positivos!')"
      ],
      "execution_count": null,
      "outputs": [
        {
          "output_type": "stream",
          "text": [
            "Autovalores positivos!\n"
          ],
          "name": "stdout"
        }
      ]
    },
    {
      "cell_type": "markdown",
      "metadata": {
        "id": "VPe7sa5YEDJJ"
      },
      "source": [
        "Índice Sharpe:"
      ]
    },
    {
      "cell_type": "code",
      "metadata": {
        "id": "V0Vv8ClnEFTT",
        "outputId": "5cdd67b9-ba03-4cc0-cfdc-e25fded16003",
        "colab": {
          "base_uri": "https://localhost:8080/",
          "height": 254
        }
      },
      "source": [
        "X_anual = (1+dfX.mean())**252-1   # retorno médio anualizado\n",
        "Std_anual = dfX.std()*np.sqrt(252)\n",
        "Var_anual = dfX.var()*252\n",
        "\n",
        "dfS = pd.DataFrame(X_anual, columns=['Retorno'])\n",
        "dfS['Risco_Std'] = Std_anual\n",
        "dfS['Risco_Var'] = Var_anual\n",
        "dfS['Sharpe'] = dfS.apply(lambda x: x['Retorno']/x['Risco_Std'],axis=1)\n",
        "dfS"
      ],
      "execution_count": null,
      "outputs": [
        {
          "output_type": "execute_result",
          "data": {
            "text/html": [
              "<div>\n",
              "<style scoped>\n",
              "    .dataframe tbody tr th:only-of-type {\n",
              "        vertical-align: middle;\n",
              "    }\n",
              "\n",
              "    .dataframe tbody tr th {\n",
              "        vertical-align: top;\n",
              "    }\n",
              "\n",
              "    .dataframe thead th {\n",
              "        text-align: right;\n",
              "    }\n",
              "</style>\n",
              "<table border=\"1\" class=\"dataframe\">\n",
              "  <thead>\n",
              "    <tr style=\"text-align: right;\">\n",
              "      <th></th>\n",
              "      <th>Retorno</th>\n",
              "      <th>Risco_Std</th>\n",
              "      <th>Risco_Var</th>\n",
              "      <th>Sharpe</th>\n",
              "    </tr>\n",
              "  </thead>\n",
              "  <tbody>\n",
              "    <tr>\n",
              "      <th>A</th>\n",
              "      <td>3.45</td>\n",
              "      <td>0.42</td>\n",
              "      <td>0.18</td>\n",
              "      <td>8.14</td>\n",
              "    </tr>\n",
              "    <tr>\n",
              "      <th>B</th>\n",
              "      <td>0.78</td>\n",
              "      <td>0.45</td>\n",
              "      <td>0.20</td>\n",
              "      <td>1.74</td>\n",
              "    </tr>\n",
              "    <tr>\n",
              "      <th>C</th>\n",
              "      <td>0.16</td>\n",
              "      <td>0.43</td>\n",
              "      <td>0.18</td>\n",
              "      <td>0.37</td>\n",
              "    </tr>\n",
              "    <tr>\n",
              "      <th>D</th>\n",
              "      <td>1.27</td>\n",
              "      <td>0.36</td>\n",
              "      <td>0.13</td>\n",
              "      <td>3.50</td>\n",
              "    </tr>\n",
              "    <tr>\n",
              "      <th>E</th>\n",
              "      <td>0.82</td>\n",
              "      <td>0.23</td>\n",
              "      <td>0.05</td>\n",
              "      <td>3.62</td>\n",
              "    </tr>\n",
              "    <tr>\n",
              "      <th>F</th>\n",
              "      <td>0.81</td>\n",
              "      <td>0.30</td>\n",
              "      <td>0.09</td>\n",
              "      <td>2.68</td>\n",
              "    </tr>\n",
              "    <tr>\n",
              "      <th>G</th>\n",
              "      <td>1.66</td>\n",
              "      <td>0.17</td>\n",
              "      <td>0.03</td>\n",
              "      <td>9.91</td>\n",
              "    </tr>\n",
              "  </tbody>\n",
              "</table>\n",
              "</div>"
            ],
            "text/plain": [
              "   Retorno  Risco_Std  Risco_Var  Sharpe\n",
              "A     3.45       0.42       0.18    8.14\n",
              "B     0.78       0.45       0.20    1.74\n",
              "C     0.16       0.43       0.18    0.37\n",
              "D     1.27       0.36       0.13    3.50\n",
              "E     0.82       0.23       0.05    3.62\n",
              "F     0.81       0.30       0.09    2.68\n",
              "G     1.66       0.17       0.03    9.91"
            ]
          },
          "metadata": {
            "tags": []
          },
          "execution_count": 92
        }
      ]
    },
    {
      "cell_type": "markdown",
      "metadata": {
        "id": "2vlRnf1vEIh4"
      },
      "source": [
        "Simulação de carteiras:"
      ]
    },
    {
      "cell_type": "code",
      "metadata": {
        "id": "r7nC9-2FEK-3"
      },
      "source": [
        "N_por = 10000 # número de carteiras simuladas\n",
        "Cov = dfX.cov().to_numpy()*252\n",
        "R = dfS['Retorno'].to_numpy() \n",
        "np.random.seed(42)\n",
        "X = np.array([])\n",
        "Std = np.array([])\n",
        "for n in range(N_por):\n",
        "  P = np.random.dirichlet(np.ones(N))\n",
        "  X = np.append(X, R@P)                         # Retorno das carteiras\n",
        "  Std = np.append(Std, np.sqrt(P.T@Cov@P))      # Risco (Std) das carteiras\n",
        "S = X/Std # Índice Sharpe das Carteiras"
      ],
      "execution_count": null,
      "outputs": []
    },
    {
      "cell_type": "markdown",
      "metadata": {
        "id": "6qJqZbLxERCp"
      },
      "source": [
        "Bala de Markowitz:"
      ]
    },
    {
      "cell_type": "code",
      "metadata": {
        "id": "HTpR7T1VETe3",
        "outputId": "f4a8b0e5-1ba8-4cd8-ae0a-353b6893eb2a",
        "colab": {
          "base_uri": "https://localhost:8080/",
          "height": 442
        }
      },
      "source": [
        "# Plota as carteiras simuladas\n",
        "plt.figure(figsize=(12,7))\n",
        "plt.xlabel('Risco (Std)')\n",
        "plt.ylabel('Retorno')  \n",
        "plt.scatter(Std, X, c=S, cmap='viridis')\n",
        "plt.colorbar(label='Índice Sharpe')\n",
        "\n",
        "# Plota as carteiras mono-ativo\n",
        "plt.scatter(dfS.Risco_Std, dfS.Retorno, marker='s', color='r')\n",
        "for label, x, y in zip(ativos, dfS['Risco_Std'], dfS['Retorno']):\n",
        "    plt.annotate(\n",
        "        label,\n",
        "        xy=(x, y), xytext=(0, 2),\n",
        "        textcoords='offset points', ha='center', va='bottom')\n",
        "plt.show()"
      ],
      "execution_count": null,
      "outputs": [
        {
          "output_type": "display_data",
          "data": {
            "image/png": "[encoded data removed]",
            "text/plain": [
              "<Figure size 864x504 with 2 Axes>"
            ]
          },
          "metadata": {
            "tags": [],
            "needs_background": "light"
          }
        }
      ]
    },
    {
      "cell_type": "markdown",
      "metadata": {
        "id": "uX7YHNSP_SpR"
      },
      "source": [
        "## Questão 2"
      ]
    },
    {
      "cell_type": "markdown",
      "metadata": {
        "id": "TdPbsmtdfRv3"
      },
      "source": [
        "* Setor Financeiro:\n",
        "   * Banco Bradesco (BBDC4);\n",
        "   * Banco Itaú-Unibanco (ITUB4);\n",
        "* Setor de Siderurgia:\n",
        "   * Companhia Siderúrigica Nacional (CSNA3)\n",
        "   * Grupo Gerdau (GGBR4)\n",
        " \n"
      ]
    },
    {
      "cell_type": "markdown",
      "metadata": {
        "id": "NI_R8zQdCWcv"
      },
      "source": [
        "Cálculo do retorno percentual:"
      ]
    },
    {
      "cell_type": "code",
      "metadata": {
        "id": "e84WJf7iCkCQ"
      },
      "source": [
        "df_ret = df.pct_change().iloc[1:,:] # matriz de retornos"
      ],
      "execution_count": null,
      "outputs": []
    },
    {
      "cell_type": "markdown",
      "metadata": {
        "id": "M_De0v5z3FKN"
      },
      "source": [
        "Análise de correlação das ações com o IBOV:"
      ]
    },
    {
      "cell_type": "code",
      "metadata": {
        "id": "Ur6EUr-UBmDF",
        "outputId": "5f331797-0901-45c2-f9f1-b8bbc6ef4baa",
        "colab": {
          "base_uri": "https://localhost:8080/"
        }
      },
      "source": [
        "from scipy.stats import linregress\n",
        "df_ret = df.pct_change().iloc[1:,:] # matriz de retornos\n",
        "\n",
        "fig, axs = plt.subplots(2, 2,figsize=(10,10))\n",
        "y = df_ret.IBOV\n",
        "x = df_ret.BBDC4\n",
        "axs[0,0].set_title('BBDC4 x IBOV')\n",
        "axs[0,0].scatter(x, y, s=3)\n",
        "m, b, corr, _, _ = linregress(x, y)\n",
        "axs[0,0].plot(x, m*x+b, c='r')\n",
        "\n",
        "x = df_ret.ITUB4\n",
        "axs[0,1].set_title('ITUB4 x IBOV')\n",
        "axs[0,1].scatter(x, y, s=3)\n",
        "m, b, corr, _, _ = linregress(x, y)\n",
        "axs[0,1].plot(x, m*x+b, c='r')\n",
        "\n",
        "x = df_ret.CSNA3\n",
        "axs[1,0].set_title('CSNA3 x IBOV')\n",
        "axs[1,0].scatter(x, y, s=3)\n",
        "m, b, corr, _, _ = linregress(x, y)\n",
        "axs[1,0].plot(x, m*x+b, c='r')\n",
        "\n",
        "x = df_ret.GGBR4\n",
        "axs[1,1].set_title('GGBR4 x IBOV')\n",
        "axs[1,1].scatter(x, y, s=3)\n",
        "m, b, corr, _, _ = linregress(x, y)\n",
        "axs[1,1].plot(x, m*x+b, c='r')\n",
        "\n",
        "plt.show()"
      ],
      "execution_count": null,
      "outputs": [
        {
          "output_type": "display_data",
          "data": {
            "image/png": "[encoded data removed]",
            "text/plain": [
              "<Figure size 720x720 with 4 Axes>"
            ]
          },
          "metadata": {
            "tags": [],
            "needs_background": "light"
          }
        }
      ]
    },
    {
      "cell_type": "markdown",
      "metadata": {
        "id": "k-3SO9sOS39d"
      },
      "source": [
        "Podemos observar que BBDC4 e ITUB possuem forte correlação com o IBOV."
      ]
    },
    {
      "cell_type": "markdown",
      "metadata": {
        "id": "R2ZzMv7s8755"
      },
      "source": [
        "Ativos ativos do mesmo setor:"
      ]
    },
    {
      "cell_type": "code",
      "metadata": {
        "id": "GZZz_HzPBVev",
        "outputId": "0591c09c-a466-4ace-d92e-bf197cb951f0",
        "colab": {
          "base_uri": "https://localhost:8080/"
        }
      },
      "source": [
        "fig, axs = plt.subplots(1, 2, figsize=(10,5))\n",
        "fig.suptitle('Setores iguais', fontsize=16)\n",
        "axs[0].set_title('BBDC4 x ITUB4')\n",
        "x = df_ret.BBDC4\n",
        "y = df_ret.ITUB4\n",
        "axs[0].scatter(x, y, s=3)\n",
        "m, b, corr, _, _ = linregress(x, y)\n",
        "axs[0].plot(x, m*x+b, c='r')\n",
        "\n",
        "\n",
        "axs[1].set_title('CSNA3 x GGBR4')\n",
        "x = df_ret.CSNA3\n",
        "y = df_ret.GGBR4\n",
        "axs[1].scatter(x, y, s=3)\n",
        "m, b, corr, _, _ = linregress(x, y)\n",
        "axs[1].plot(x, m*x+b, c='r')\n",
        "plt.show()"
      ],
      "execution_count": null,
      "outputs": [
        {
          "output_type": "display_data",
          "data": {
            "image/png": "[encoded data removed]",
            "text/plain": [
              "<Figure size 720x360 with 2 Axes>"
            ]
          },
          "metadata": {
            "tags": [],
            "needs_background": "light"
          }
        }
      ]
    },
    {
      "cell_type": "markdown",
      "metadata": {
        "id": "VcMXsK7HSncy"
      },
      "source": [
        "Podemos observar que BBDC4 e ITUB4 possum forte correlação positiva, enquanto que CSNA3 e GGBR4 possuem correlação menor."
      ]
    },
    {
      "cell_type": "markdown",
      "metadata": {
        "id": "d4YKMNpK3L78"
      },
      "source": [
        "Ações de setores diferentes:"
      ]
    },
    {
      "cell_type": "code",
      "metadata": {
        "id": "izBksxrH-ZkY",
        "outputId": "c53b769f-664e-4c3c-e3f2-3d16e2acac2d",
        "colab": {
          "base_uri": "https://localhost:8080/"
        }
      },
      "source": [
        "fig, axs = plt.subplots(2, 2, figsize=(10,10))\n",
        "fig.suptitle('Setores diferentes', fontsize=16)\n",
        "axs[0,0].set_title('BBDC4 x CSNA3')\n",
        "x = df_ret.BBDC4\n",
        "y = df_ret.CSNA3\n",
        "axs[0,0].scatter(x, y, s=3)\n",
        "m, b, corr, _, _ = linregress(x, y)\n",
        "axs[0,0].plot(x, m*x+b, c='r')\n",
        "\n",
        "axs[0,1].set_title('BBDC4 x GGBR4')\n",
        "y = df_ret.GGBR4\n",
        "axs[0,1].scatter(x, y, s=3)\n",
        "m, b, corr, _, _ = linregress(x, y)\n",
        "axs[0,1].plot(x, m*x+b, c='r')\n",
        "\n",
        "axs[1,0].set_title('ITUB4 x CSNA3')\n",
        "x = df_ret.ITUB4\n",
        "y = df_ret.CSNA3\n",
        "axs[1,0].scatter(x, y, s=3)\n",
        "m, b, corr, _, _ = linregress(x, y)\n",
        "axs[1,0].plot(x, m*x+b, c='r')\n",
        "\n",
        "axs[1,1].set_title('ITUB4 x GGBR4')\n",
        "y = df_ret.GGBR4\n",
        "axs[1,1].scatter(x, y, s=3)\n",
        "m, b, corr, _, _ = linregress(x, y)\n",
        "axs[1,1].plot(x, m*x+b, c='r')\n",
        "plt.show()"
      ],
      "execution_count": null,
      "outputs": [
        {
          "output_type": "display_data",
          "data": {
            "image/png": "[encoded data removed]",
            "text/plain": [
              "<Figure size 720x720 with 4 Axes>"
            ]
          },
          "metadata": {
            "tags": [],
            "needs_background": "light"
          }
        }
      ]
    },
    {
      "cell_type": "markdown",
      "metadata": {
        "id": "eFepqFY4Dauo"
      },
      "source": [
        "Podemos melhor visualizar através da matriz de correlação plotada na forma de um mapa de calor:"
      ]
    },
    {
      "cell_type": "code",
      "metadata": {
        "id": "2J6BICWAFCC-",
        "outputId": "29e2a977-202b-42b7-caef-dad74fdc24a4",
        "colab": {
          "base_uri": "https://localhost:8080/"
        }
      },
      "source": [
        "M_Cor = df_ret.iloc[:,:5].corr()\n",
        "mask = np.triu(np.ones_like(M_Cor, dtype=bool)) # Generate a mask for the upper triangle\n",
        "ax = sns.heatmap(M_Cor, mask=mask, vmin=-1, vmax=+1, cmap='RdBu', linewidths=1, annot=True, square=True)\n",
        "plt.yticks(rotation=0) \n",
        "plt.show()"
      ],
      "execution_count": null,
      "outputs": [
        {
          "output_type": "display_data",
          "data": {
            "image/png": "[encoded data removed]",
            "text/plain": [
              "<Figure size 432x288 with 2 Axes>"
            ]
          },
          "metadata": {
            "tags": [],
            "needs_background": "light"
          }
        }
      ]
    },
    {
      "cell_type": "markdown",
      "metadata": {
        "id": "CuHP0KFPAqRk"
      },
      "source": [
        "## Questão 3"
      ]
    },
    {
      "cell_type": "markdown",
      "metadata": {
        "id": "JU2g0FwgJUN9"
      },
      "source": [
        "Ativos escolhidos:\n",
        "* BBDC4 - Bradesco\n",
        "* ITUB4 - Itaú-Unibanco\n",
        "* CSNA3 - CSN\n",
        "* GGBR4 - Grupo Gerdau\n",
        "* B3SA3 - B3\n",
        "* PETR4 - Petrobras\n",
        "* MGLU3 - Magazine Luíza\n",
        "* ABEV3 - Ambev\n",
        "* WEGE3 - WEG\n",
        "* VIVT4 - Vivo"
      ]
    },
    {
      "cell_type": "markdown",
      "metadata": {
        "id": "CchXaa4KJBTm"
      },
      "source": [
        "Índice Sharpe dos ativos:"
      ]
    },
    {
      "cell_type": "code",
      "metadata": {
        "id": "RzQYSqs2AriV",
        "outputId": "0cce6ae1-b7df-443c-cc21-6658f2de5195",
        "colab": {
          "base_uri": "https://localhost:8080/",
          "height": 359
        }
      },
      "source": [
        "df_X = df.pct_change().iloc[1:,1:] # matriz de retornos diários\n",
        "\n",
        "X_anual = (1+df_X.mean())**252-1   # retorno médio anualizado\n",
        "Std_anual = df_X.std()*np.sqrt(252)\n",
        "Var_anual = df_X.var()*252\n",
        "\n",
        "df_S = pd.DataFrame(X_anual, columns=['Retorno'])\n",
        "df_S['Risco_Std'] = Std_anual\n",
        "df_S['Risco_Var'] = Var_anual\n",
        "df_S['Sharpe'] = df_S.apply(lambda x: x['Retorno']/x['Risco_Std'],axis=1)\n",
        "df_S"
      ],
      "execution_count": null,
      "outputs": [
        {
          "output_type": "execute_result",
          "data": {
            "text/html": [
              "<div>\n",
              "<style scoped>\n",
              "    .dataframe tbody tr th:only-of-type {\n",
              "        vertical-align: middle;\n",
              "    }\n",
              "\n",
              "    .dataframe tbody tr th {\n",
              "        vertical-align: top;\n",
              "    }\n",
              "\n",
              "    .dataframe thead th {\n",
              "        text-align: right;\n",
              "    }\n",
              "</style>\n",
              "<table border=\"1\" class=\"dataframe\">\n",
              "  <thead>\n",
              "    <tr style=\"text-align: right;\">\n",
              "      <th></th>\n",
              "      <th>Retorno</th>\n",
              "      <th>Risco_Std</th>\n",
              "      <th>Risco_Var</th>\n",
              "      <th>Sharpe</th>\n",
              "    </tr>\n",
              "  </thead>\n",
              "  <tbody>\n",
              "    <tr>\n",
              "      <th>BBDC4</th>\n",
              "      <td>0.27</td>\n",
              "      <td>0.32</td>\n",
              "      <td>0.10</td>\n",
              "      <td>0.84</td>\n",
              "    </tr>\n",
              "    <tr>\n",
              "      <th>ITUB4</th>\n",
              "      <td>0.27</td>\n",
              "      <td>0.30</td>\n",
              "      <td>0.09</td>\n",
              "      <td>0.90</td>\n",
              "    </tr>\n",
              "    <tr>\n",
              "      <th>CSNA3</th>\n",
              "      <td>0.56</td>\n",
              "      <td>0.63</td>\n",
              "      <td>0.40</td>\n",
              "      <td>0.88</td>\n",
              "    </tr>\n",
              "    <tr>\n",
              "      <th>GGBR4</th>\n",
              "      <td>0.34</td>\n",
              "      <td>0.48</td>\n",
              "      <td>0.23</td>\n",
              "      <td>0.70</td>\n",
              "    </tr>\n",
              "    <tr>\n",
              "      <th>B3SA3</th>\n",
              "      <td>0.48</td>\n",
              "      <td>0.33</td>\n",
              "      <td>0.11</td>\n",
              "      <td>1.46</td>\n",
              "    </tr>\n",
              "    <tr>\n",
              "      <th>PETR4</th>\n",
              "      <td>0.46</td>\n",
              "      <td>0.50</td>\n",
              "      <td>0.25</td>\n",
              "      <td>0.91</td>\n",
              "    </tr>\n",
              "    <tr>\n",
              "      <th>MGLU3</th>\n",
              "      <td>2.11</td>\n",
              "      <td>0.81</td>\n",
              "      <td>0.66</td>\n",
              "      <td>2.60</td>\n",
              "    </tr>\n",
              "    <tr>\n",
              "      <th>ABEV3</th>\n",
              "      <td>0.09</td>\n",
              "      <td>0.22</td>\n",
              "      <td>0.05</td>\n",
              "      <td>0.40</td>\n",
              "    </tr>\n",
              "    <tr>\n",
              "      <th>WEGE3</th>\n",
              "      <td>0.32</td>\n",
              "      <td>0.28</td>\n",
              "      <td>0.08</td>\n",
              "      <td>1.13</td>\n",
              "    </tr>\n",
              "    <tr>\n",
              "      <th>VIVT4</th>\n",
              "      <td>0.15</td>\n",
              "      <td>0.25</td>\n",
              "      <td>0.06</td>\n",
              "      <td>0.61</td>\n",
              "    </tr>\n",
              "  </tbody>\n",
              "</table>\n",
              "</div>"
            ],
            "text/plain": [
              "       Retorno  Risco_Std  Risco_Var  Sharpe\n",
              "BBDC4     0.27       0.32       0.10    0.84\n",
              "ITUB4     0.27       0.30       0.09    0.90\n",
              "CSNA3     0.56       0.63       0.40    0.88\n",
              "GGBR4     0.34       0.48       0.23    0.70\n",
              "B3SA3     0.48       0.33       0.11    1.46\n",
              "PETR4     0.46       0.50       0.25    0.91\n",
              "MGLU3     2.11       0.81       0.66    2.60\n",
              "ABEV3     0.09       0.22       0.05    0.40\n",
              "WEGE3     0.32       0.28       0.08    1.13\n",
              "VIVT4     0.15       0.25       0.06    0.61"
            ]
          },
          "metadata": {
            "tags": []
          },
          "execution_count": 33
        }
      ]
    },
    {
      "cell_type": "markdown",
      "metadata": {
        "id": "qpohwEVcKQms"
      },
      "source": [
        "Matriz de covariância:"
      ]
    },
    {
      "cell_type": "code",
      "metadata": {
        "id": "wIVlHUATKSy_",
        "outputId": "84653180-70f6-46f8-f541-ad88535a8c18",
        "colab": {
          "base_uri": "https://localhost:8080/",
          "height": 359
        }
      },
      "source": [
        "df_X.cov()*252"
      ],
      "execution_count": null,
      "outputs": [
        {
          "output_type": "execute_result",
          "data": {
            "text/html": [
              "<div>\n",
              "<style scoped>\n",
              "    .dataframe tbody tr th:only-of-type {\n",
              "        vertical-align: middle;\n",
              "    }\n",
              "\n",
              "    .dataframe tbody tr th {\n",
              "        vertical-align: top;\n",
              "    }\n",
              "\n",
              "    .dataframe thead th {\n",
              "        text-align: right;\n",
              "    }\n",
              "</style>\n",
              "<table border=\"1\" class=\"dataframe\">\n",
              "  <thead>\n",
              "    <tr style=\"text-align: right;\">\n",
              "      <th></th>\n",
              "      <th>BBDC4</th>\n",
              "      <th>ITUB4</th>\n",
              "      <th>CSNA3</th>\n",
              "      <th>GGBR4</th>\n",
              "      <th>B3SA3</th>\n",
              "      <th>PETR4</th>\n",
              "      <th>MGLU3</th>\n",
              "      <th>ABEV3</th>\n",
              "      <th>WEGE3</th>\n",
              "      <th>VIVT4</th>\n",
              "    </tr>\n",
              "  </thead>\n",
              "  <tbody>\n",
              "    <tr>\n",
              "      <th>BBDC4</th>\n",
              "      <td>0.10</td>\n",
              "      <td>0.08</td>\n",
              "      <td>0.09</td>\n",
              "      <td>0.07</td>\n",
              "      <td>0.07</td>\n",
              "      <td>0.10</td>\n",
              "      <td>0.06</td>\n",
              "      <td>0.03</td>\n",
              "      <td>0.04</td>\n",
              "      <td>0.04</td>\n",
              "    </tr>\n",
              "    <tr>\n",
              "      <th>ITUB4</th>\n",
              "      <td>0.08</td>\n",
              "      <td>0.09</td>\n",
              "      <td>0.08</td>\n",
              "      <td>0.06</td>\n",
              "      <td>0.06</td>\n",
              "      <td>0.09</td>\n",
              "      <td>0.06</td>\n",
              "      <td>0.03</td>\n",
              "      <td>0.04</td>\n",
              "      <td>0.03</td>\n",
              "    </tr>\n",
              "    <tr>\n",
              "      <th>CSNA3</th>\n",
              "      <td>0.09</td>\n",
              "      <td>0.08</td>\n",
              "      <td>0.40</td>\n",
              "      <td>0.20</td>\n",
              "      <td>0.08</td>\n",
              "      <td>0.15</td>\n",
              "      <td>0.10</td>\n",
              "      <td>0.04</td>\n",
              "      <td>0.04</td>\n",
              "      <td>0.04</td>\n",
              "    </tr>\n",
              "    <tr>\n",
              "      <th>GGBR4</th>\n",
              "      <td>0.07</td>\n",
              "      <td>0.06</td>\n",
              "      <td>0.20</td>\n",
              "      <td>0.23</td>\n",
              "      <td>0.06</td>\n",
              "      <td>0.11</td>\n",
              "      <td>0.07</td>\n",
              "      <td>0.03</td>\n",
              "      <td>0.04</td>\n",
              "      <td>0.03</td>\n",
              "    </tr>\n",
              "    <tr>\n",
              "      <th>B3SA3</th>\n",
              "      <td>0.07</td>\n",
              "      <td>0.06</td>\n",
              "      <td>0.08</td>\n",
              "      <td>0.06</td>\n",
              "      <td>0.11</td>\n",
              "      <td>0.09</td>\n",
              "      <td>0.06</td>\n",
              "      <td>0.03</td>\n",
              "      <td>0.03</td>\n",
              "      <td>0.03</td>\n",
              "    </tr>\n",
              "    <tr>\n",
              "      <th>PETR4</th>\n",
              "      <td>0.10</td>\n",
              "      <td>0.09</td>\n",
              "      <td>0.15</td>\n",
              "      <td>0.11</td>\n",
              "      <td>0.09</td>\n",
              "      <td>0.25</td>\n",
              "      <td>0.09</td>\n",
              "      <td>0.03</td>\n",
              "      <td>0.04</td>\n",
              "      <td>0.05</td>\n",
              "    </tr>\n",
              "    <tr>\n",
              "      <th>MGLU3</th>\n",
              "      <td>0.06</td>\n",
              "      <td>0.06</td>\n",
              "      <td>0.10</td>\n",
              "      <td>0.07</td>\n",
              "      <td>0.06</td>\n",
              "      <td>0.09</td>\n",
              "      <td>0.66</td>\n",
              "      <td>0.03</td>\n",
              "      <td>0.05</td>\n",
              "      <td>0.03</td>\n",
              "    </tr>\n",
              "    <tr>\n",
              "      <th>ABEV3</th>\n",
              "      <td>0.03</td>\n",
              "      <td>0.03</td>\n",
              "      <td>0.04</td>\n",
              "      <td>0.03</td>\n",
              "      <td>0.03</td>\n",
              "      <td>0.03</td>\n",
              "      <td>0.03</td>\n",
              "      <td>0.05</td>\n",
              "      <td>0.02</td>\n",
              "      <td>0.02</td>\n",
              "    </tr>\n",
              "    <tr>\n",
              "      <th>WEGE3</th>\n",
              "      <td>0.04</td>\n",
              "      <td>0.04</td>\n",
              "      <td>0.04</td>\n",
              "      <td>0.04</td>\n",
              "      <td>0.03</td>\n",
              "      <td>0.04</td>\n",
              "      <td>0.05</td>\n",
              "      <td>0.02</td>\n",
              "      <td>0.08</td>\n",
              "      <td>0.02</td>\n",
              "    </tr>\n",
              "    <tr>\n",
              "      <th>VIVT4</th>\n",
              "      <td>0.04</td>\n",
              "      <td>0.03</td>\n",
              "      <td>0.04</td>\n",
              "      <td>0.03</td>\n",
              "      <td>0.03</td>\n",
              "      <td>0.05</td>\n",
              "      <td>0.03</td>\n",
              "      <td>0.02</td>\n",
              "      <td>0.02</td>\n",
              "      <td>0.06</td>\n",
              "    </tr>\n",
              "  </tbody>\n",
              "</table>\n",
              "</div>"
            ],
            "text/plain": [
              "       BBDC4  ITUB4  CSNA3  GGBR4  B3SA3  PETR4  MGLU3  ABEV3  WEGE3  VIVT4\n",
              "BBDC4   0.10   0.08   0.09   0.07   0.07   0.10   0.06   0.03   0.04   0.04\n",
              "ITUB4   0.08   0.09   0.08   0.06   0.06   0.09   0.06   0.03   0.04   0.03\n",
              "CSNA3   0.09   0.08   0.40   0.20   0.08   0.15   0.10   0.04   0.04   0.04\n",
              "GGBR4   0.07   0.06   0.20   0.23   0.06   0.11   0.07   0.03   0.04   0.03\n",
              "B3SA3   0.07   0.06   0.08   0.06   0.11   0.09   0.06   0.03   0.03   0.03\n",
              "PETR4   0.10   0.09   0.15   0.11   0.09   0.25   0.09   0.03   0.04   0.05\n",
              "MGLU3   0.06   0.06   0.10   0.07   0.06   0.09   0.66   0.03   0.05   0.03\n",
              "ABEV3   0.03   0.03   0.04   0.03   0.03   0.03   0.03   0.05   0.02   0.02\n",
              "WEGE3   0.04   0.04   0.04   0.04   0.03   0.04   0.05   0.02   0.08   0.02\n",
              "VIVT4   0.04   0.03   0.04   0.03   0.03   0.05   0.03   0.02   0.02   0.06"
            ]
          },
          "metadata": {
            "tags": []
          },
          "execution_count": 34
        }
      ]
    },
    {
      "cell_type": "markdown",
      "metadata": {
        "id": "k2cFtEx1Kuhs"
      },
      "source": [
        "Matriz de correlação:"
      ]
    },
    {
      "cell_type": "code",
      "metadata": {
        "id": "c-Y7rB8SLAZW",
        "outputId": "15ed374b-3318-4e2a-c787-c5da610c0ec0",
        "colab": {
          "base_uri": "https://localhost:8080/",
          "height": 296
        }
      },
      "source": [
        "Cor = df_X.corr()\n",
        "mask = np.triu(np.ones_like(Cor, dtype=bool)) # Generate a mask for the upper triangle\n",
        "ax = sns.heatmap(Cor, mask=mask, vmin=-1, vmax=+1, cmap='RdBu', linewidths=1, square=True) \n",
        "plt.show()"
      ],
      "execution_count": null,
      "outputs": [
        {
          "output_type": "display_data",
          "data": {
            "image/png": "[encoded data removed]",
            "text/plain": [
              "<Figure size 432x288 with 2 Axes>"
            ]
          },
          "metadata": {
            "tags": [],
            "needs_background": "light"
          }
        }
      ]
    },
    {
      "cell_type": "markdown",
      "metadata": {
        "id": "m7Jz2ctNQ8ar"
      },
      "source": [
        "### Carteira Ótima"
      ]
    },
    {
      "cell_type": "code",
      "metadata": {
        "id": "lBEhSp1N0Lgb",
        "outputId": "bdaf150f-4f83-4ceb-df72-8e0b7c724978",
        "colab": {
          "base_uri": "https://localhost:8080/",
          "height": 359
        }
      },
      "source": [
        "from scipy.optimize import minimize\n",
        "\n",
        "Cov = df_X.cov().to_numpy()*252         # Matriz de covariância dos retornos anualizados\n",
        "R = df_S['Retorno'].to_numpy()          # Retorno médio de cada ativo carteira\n",
        "\n",
        "# Retorno esperado\n",
        "def ret_esp(p):\n",
        "  ret = R @ p\n",
        "  return ret\n",
        "\n",
        "def risco_esp(p):\n",
        "  risco = np.sqrt(p.T @ Cov @ p)\n",
        "  return risco\n",
        "\n",
        "def neg_sharpe(p):\n",
        "    ret = R @ p\n",
        "    risco = np.sqrt(p.T @ Cov @ p)\n",
        "    return -1*ret/risco\n",
        "\n",
        "# Restrições da otimização\n",
        "bounds = ((0,1), (0,1), (0,1), (0,1), (0,1),\n",
        "          (0,1), (0,1), (0,1), (0,1), (0,1))\n",
        "cons = ({'type':'eq', 'fun': lambda p: p.sum()-1})\n",
        "p0 = [0.10]*10\n",
        "\n",
        "result = minimize(neg_sharpe, p0, method='SLSQP', bounds=bounds, constraints=cons)\n",
        "p_otm = result['x']\n",
        "pd.DataFrame(p_otm.round(2), series[1:], columns=['%'])"
      ],
      "execution_count": null,
      "outputs": [
        {
          "output_type": "execute_result",
          "data": {
            "text/html": [
              "<div>\n",
              "<style scoped>\n",
              "    .dataframe tbody tr th:only-of-type {\n",
              "        vertical-align: middle;\n",
              "    }\n",
              "\n",
              "    .dataframe tbody tr th {\n",
              "        vertical-align: top;\n",
              "    }\n",
              "\n",
              "    .dataframe thead th {\n",
              "        text-align: right;\n",
              "    }\n",
              "</style>\n",
              "<table border=\"1\" class=\"dataframe\">\n",
              "  <thead>\n",
              "    <tr style=\"text-align: right;\">\n",
              "      <th></th>\n",
              "      <th>%</th>\n",
              "    </tr>\n",
              "  </thead>\n",
              "  <tbody>\n",
              "    <tr>\n",
              "      <th>BBDC4</th>\n",
              "      <td>0.00</td>\n",
              "    </tr>\n",
              "    <tr>\n",
              "      <th>ITUB4</th>\n",
              "      <td>0.00</td>\n",
              "    </tr>\n",
              "    <tr>\n",
              "      <th>CSNA3</th>\n",
              "      <td>0.01</td>\n",
              "    </tr>\n",
              "    <tr>\n",
              "      <th>GGBR4</th>\n",
              "      <td>0.00</td>\n",
              "    </tr>\n",
              "    <tr>\n",
              "      <th>B3SA3</th>\n",
              "      <td>0.37</td>\n",
              "    </tr>\n",
              "    <tr>\n",
              "      <th>PETR4</th>\n",
              "      <td>0.00</td>\n",
              "    </tr>\n",
              "    <tr>\n",
              "      <th>MGLU3</th>\n",
              "      <td>0.43</td>\n",
              "    </tr>\n",
              "    <tr>\n",
              "      <th>ABEV3</th>\n",
              "      <td>0.00</td>\n",
              "    </tr>\n",
              "    <tr>\n",
              "      <th>WEGE3</th>\n",
              "      <td>0.19</td>\n",
              "    </tr>\n",
              "    <tr>\n",
              "      <th>VIVT4</th>\n",
              "      <td>0.00</td>\n",
              "    </tr>\n",
              "  </tbody>\n",
              "</table>\n",
              "</div>"
            ],
            "text/plain": [
              "          %\n",
              "BBDC4  0.00\n",
              "ITUB4  0.00\n",
              "CSNA3  0.01\n",
              "GGBR4  0.00\n",
              "B3SA3  0.37\n",
              "PETR4  0.00\n",
              "MGLU3  0.43\n",
              "ABEV3  0.00\n",
              "WEGE3  0.19\n",
              "VIVT4  0.00"
            ]
          },
          "metadata": {
            "tags": []
          },
          "execution_count": 36
        }
      ]
    },
    {
      "cell_type": "code",
      "metadata": {
        "id": "eXjoow6O9JNN",
        "outputId": "bc400b0f-6c84-445e-9df1-28ef259c5c4e",
        "colab": {
          "base_uri": "https://localhost:8080/"
        }
      },
      "source": [
        "p_otm_ret = R@p_otm\n",
        "p_otm_std = np.sqrt(p_otm.T@Cov@p_otm)\n",
        "print('Retorno:', p_otm_ret)\n",
        "print('Risco:', p_otm_std)"
      ],
      "execution_count": null,
      "outputs": [
        {
          "output_type": "stream",
          "text": [
            "Retorno: 1.1481172338880525\n",
            "Risco: 0.41153852830411874\n"
          ],
          "name": "stdout"
        }
      ]
    },
    {
      "cell_type": "markdown",
      "metadata": {
        "id": "4Vp4l3u18Vge"
      },
      "source": [
        "### Carteira de variância mínima:"
      ]
    },
    {
      "cell_type": "code",
      "metadata": {
        "id": "UTUPeUvi8c3H",
        "outputId": "ad2d0a51-58af-43ef-ce97-23a6ff12733f",
        "colab": {
          "base_uri": "https://localhost:8080/",
          "height": 359
        }
      },
      "source": [
        "cons = ({'type':'eq', 'fun': lambda p: p.sum()-1})\n",
        "result = minimize(risco_esp, p0, method='SLSQP', bounds=bounds, constraints=cons)\n",
        "p_min = result['x']\n",
        "pd.DataFrame(p_min.round(2), series[1:], columns=['%'])"
      ],
      "execution_count": null,
      "outputs": [
        {
          "output_type": "execute_result",
          "data": {
            "text/html": [
              "<div>\n",
              "<style scoped>\n",
              "    .dataframe tbody tr th:only-of-type {\n",
              "        vertical-align: middle;\n",
              "    }\n",
              "\n",
              "    .dataframe tbody tr th {\n",
              "        vertical-align: top;\n",
              "    }\n",
              "\n",
              "    .dataframe thead th {\n",
              "        text-align: right;\n",
              "    }\n",
              "</style>\n",
              "<table border=\"1\" class=\"dataframe\">\n",
              "  <thead>\n",
              "    <tr style=\"text-align: right;\">\n",
              "      <th></th>\n",
              "      <th>%</th>\n",
              "    </tr>\n",
              "  </thead>\n",
              "  <tbody>\n",
              "    <tr>\n",
              "      <th>BBDC4</th>\n",
              "      <td>0.00</td>\n",
              "    </tr>\n",
              "    <tr>\n",
              "      <th>ITUB4</th>\n",
              "      <td>0.01</td>\n",
              "    </tr>\n",
              "    <tr>\n",
              "      <th>CSNA3</th>\n",
              "      <td>0.00</td>\n",
              "    </tr>\n",
              "    <tr>\n",
              "      <th>GGBR4</th>\n",
              "      <td>0.00</td>\n",
              "    </tr>\n",
              "    <tr>\n",
              "      <th>B3SA3</th>\n",
              "      <td>0.03</td>\n",
              "    </tr>\n",
              "    <tr>\n",
              "      <th>PETR4</th>\n",
              "      <td>0.00</td>\n",
              "    </tr>\n",
              "    <tr>\n",
              "      <th>MGLU3</th>\n",
              "      <td>0.00</td>\n",
              "    </tr>\n",
              "    <tr>\n",
              "      <th>ABEV3</th>\n",
              "      <td>0.46</td>\n",
              "    </tr>\n",
              "    <tr>\n",
              "      <th>WEGE3</th>\n",
              "      <td>0.19</td>\n",
              "    </tr>\n",
              "    <tr>\n",
              "      <th>VIVT4</th>\n",
              "      <td>0.31</td>\n",
              "    </tr>\n",
              "  </tbody>\n",
              "</table>\n",
              "</div>"
            ],
            "text/plain": [
              "          %\n",
              "BBDC4  0.00\n",
              "ITUB4  0.01\n",
              "CSNA3  0.00\n",
              "GGBR4  0.00\n",
              "B3SA3  0.03\n",
              "PETR4  0.00\n",
              "MGLU3  0.00\n",
              "ABEV3  0.46\n",
              "WEGE3  0.19\n",
              "VIVT4  0.31"
            ]
          },
          "metadata": {
            "tags": []
          },
          "execution_count": 38
        }
      ]
    },
    {
      "cell_type": "code",
      "metadata": {
        "id": "x7wiyUJL9nIr",
        "outputId": "519fa42e-a0c8-4fb9-ccd9-172278e02ceb",
        "colab": {
          "base_uri": "https://localhost:8080/"
        }
      },
      "source": [
        "p_min_ret = R@p_min\n",
        "p_min_std = np.sqrt(p_min.T@Cov@p_min)\n",
        "print('Retorno:', p_min_ret)\n",
        "print('Risco:', p_min_std)"
      ],
      "execution_count": null,
      "outputs": [
        {
          "output_type": "stream",
          "text": [
            "Retorno: 0.16450584267471738\n",
            "Risco: 0.1792400346475971\n"
          ],
          "name": "stdout"
        }
      ]
    },
    {
      "cell_type": "markdown",
      "metadata": {
        "id": "pXbUiw2XhXoc"
      },
      "source": [
        "### Fronteira Eficiente:"
      ]
    },
    {
      "cell_type": "code",
      "metadata": {
        "id": "pRzxo2UNul4e"
      },
      "source": [
        "carteiras_otm = []\n",
        "ef_x = np.array([])\n",
        "ef_y = np.linspace(p_min_ret, df_S.Retorno.max(),200)\n",
        "\n",
        "# Minimização do risco\n",
        "for ret in ef_y:\n",
        "    cons = ({'type':'eq', 'fun': lambda p: p.sum()-1},\n",
        "            {'type':'eq', 'fun': lambda p: ret_esp(p) - ret})\n",
        "    \n",
        "    # minimiza o risco para cada retorno\n",
        "    result = minimize(risco_esp, p0, method='SLSQP', \n",
        "                      bounds=bounds, constraints=cons)\n",
        "    \n",
        "    ef_x = np.append(ef_x, result['fun'])\n",
        "    carteiras_otm.append(result['x'])\n",
        "carteiras_otm = np.array(carteiras_otm)"
      ],
      "execution_count": null,
      "outputs": []
    },
    {
      "cell_type": "markdown",
      "metadata": {
        "id": "JsBqOqj1F72T"
      },
      "source": [
        "### Fronteira não-eficiente"
      ]
    },
    {
      "cell_type": "code",
      "metadata": {
        "id": "56psk_onF-g2"
      },
      "source": [
        "nef_x = np.array([])\n",
        "nef_y = np.linspace(df_S.Retorno.min(), p_min_ret, 200)\n",
        "# Minimização do risco\n",
        "for ret in nef_y:\n",
        "    cons = ({'type':'eq', 'fun': lambda p: p.sum()-1},\n",
        "            {'type':'eq', 'fun': lambda p: ret_esp(p) - ret})\n",
        "    \n",
        "    # minimiza o risco para cada retorno\n",
        "    result = minimize(risco_esp, p0, method='SLSQP', \n",
        "                      bounds=bounds, constraints=cons)\n",
        "    \n",
        "    nef_x = np.append(nef_x, result['fun'])"
      ],
      "execution_count": null,
      "outputs": []
    },
    {
      "cell_type": "markdown",
      "metadata": {
        "id": "uAAZHVtJhFff"
      },
      "source": [
        "### Bala de Markowitz:"
      ]
    },
    {
      "cell_type": "markdown",
      "metadata": {
        "id": "c_r5nfqFL5w7"
      },
      "source": [
        "Simulação de carteiras:"
      ]
    },
    {
      "cell_type": "code",
      "metadata": {
        "id": "VaJ-pkYTxHvd"
      },
      "source": [
        "N_por = 100000 # número de carteiras simuladas\n",
        "np.random.seed(42)\n",
        "X = np.array([])\n",
        "Std = np.array([])\n",
        "for n in range(N_por):\n",
        "  P = np.random.dirichlet(np.ones(10))\n",
        "  X = np.append(X, R@P)                         # Retorno das carteiras\n",
        "  Std = np.append(Std, np.sqrt(P.T@Cov@P))      # Risco (Std) das carteiras\n",
        "S = X/Std # Índice Sharpe das Carteiras"
      ],
      "execution_count": null,
      "outputs": []
    },
    {
      "cell_type": "markdown",
      "metadata": {
        "id": "Fl0jaXV8hQMI"
      },
      "source": [
        "Plota a Bala de Markowitz e as fronteiras:"
      ]
    },
    {
      "cell_type": "code",
      "metadata": {
        "id": "GW4NteI6W4L0",
        "outputId": "38adf4c2-82aa-4be0-e5fe-bc22d69c6483",
        "colab": {
          "base_uri": "https://localhost:8080/",
          "height": 446
        }
      },
      "source": [
        "# Plota as carteiras simuladas\n",
        "plt.figure(figsize=(12,7))\n",
        "plt.xlabel('Risco (Std)')\n",
        "plt.ylabel('Retorno anual')  \n",
        "plt.scatter(Std, X, c=S, cmap='viridis')\n",
        "\n",
        "# Plota a Fronteira Eficiente\n",
        "plt.plot(ef_x,ef_y, 'k', linewidth=3, label='Fronteira eficiente')\n",
        "\n",
        "# Plota fronteira não eficiente\n",
        "plt.plot(nef_x,nef_y, 'k--', linewidth=2,l label='Fronteira não-eficiente')\n",
        "\n",
        "# Plota as carteiras mono-ativo\n",
        "plt.scatter(df_S.Risco_Std, df_S.Retorno, marker='s', color='r', zorder=9)\n",
        "plt.colorbar(label='Índice Sharpe')\n",
        "for label, x, y in zip(series[1:], df_S['Risco_Std'], df_S['Retorno']):\n",
        "    plt.annotate(\n",
        "        label,\n",
        "        xy=(x, y), xytext=(0, 2),\n",
        "        textcoords='offset points', ha='center', va='bottom')\n",
        "\n",
        "# Plota a carteira ótima e de variância mínima\n",
        "from matplotlib.colors import Normalize\n",
        "from matplotlib.cm import get_cmap \n",
        "\n",
        "normalize = Normalize(vmin=df_S.Sharpe.min(), vmax=df_S.Sharpe.max())\n",
        "cmap = get_cmap('viridis')\n",
        "cor_otm = cmap(normalize(p_otm_ret/p_otm_std))\n",
        "cor_min = cmap(normalize(p_min_ret/p_min_std))\n",
        "\n",
        "plt.scatter(p_otm_std, p_otm_ret, marker='*', color=cor_otm, edgecolors='k',\n",
        "            cmap='viridis', s=300, label='Carteira ótima', zorder=10)\n",
        "\n",
        "plt.scatter(p_min_std, p_min_ret, marker='*', color=cor_min, edgecolors='k',\n",
        "            cmap='viridis', s=300, label='Carteira var. mín.', zorder=10)\n",
        "\n",
        "plt.legend()\n",
        "plt.show()"
      ],
      "execution_count": null,
      "outputs": [
        {
          "output_type": "display_data",
          "data": {
            "image/png": "[encoded data removed]",
            "text/plain": [
              "<Figure size 864x504 with 2 Axes>"
            ]
          },
          "metadata": {
            "tags": [],
            "needs_background": "light"
          }
        }
      ]
    },
    {
      "cell_type": "markdown",
      "metadata": {
        "id": "awPcv_kSlcnk"
      },
      "source": [
        "### Carteiras na Fronteira Eficiente "
      ]
    },
    {
      "cell_type": "markdown",
      "metadata": {
        "id": "714tWZlvbcK8"
      },
      "source": [
        "Para verificar o efeito de concentração de ativos nas carteiras da fronteira efeiciente computamos, para cada valor de risco $R$, o percentual $\\pi_i(R)$ de participação dos \"top 5\" ativos (os 5 ativos com maior peso na carteira)."
      ]
    },
    {
      "cell_type": "code",
      "metadata": {
        "id": "J2C8YwsKlZW4",
        "outputId": "e3ca6dea-eab7-4b28-8619-6738c02eeeb7",
        "colab": {
          "base_uri": "https://localhost:8080/",
          "height": 419
        }
      },
      "source": [
        "df_carteiras_ef = pd.DataFrame(carteiras_otm, ef_x, columns=series[1:])\n",
        "C = np.array([])\n",
        "for k,_ in enumerate(ef_x):\n",
        "  c = df_carteiras_ef.iloc[k].sort_values(ascending=False)[:5].sum()\n",
        "  C = np.append(C,c)\n",
        "df_carteiras_ef['Top 5'] = C\n",
        "df_carteiras_ef"
      ],
      "execution_count": null,
      "outputs": [
        {
          "output_type": "execute_result",
          "data": {
            "text/html": [
              "<div>\n",
              "<style scoped>\n",
              "    .dataframe tbody tr th:only-of-type {\n",
              "        vertical-align: middle;\n",
              "    }\n",
              "\n",
              "    .dataframe tbody tr th {\n",
              "        vertical-align: top;\n",
              "    }\n",
              "\n",
              "    .dataframe thead th {\n",
              "        text-align: right;\n",
              "    }\n",
              "</style>\n",
              "<table border=\"1\" class=\"dataframe\">\n",
              "  <thead>\n",
              "    <tr style=\"text-align: right;\">\n",
              "      <th></th>\n",
              "      <th>BBDC4</th>\n",
              "      <th>ITUB4</th>\n",
              "      <th>CSNA3</th>\n",
              "      <th>GGBR4</th>\n",
              "      <th>B3SA3</th>\n",
              "      <th>PETR4</th>\n",
              "      <th>MGLU3</th>\n",
              "      <th>ABEV3</th>\n",
              "      <th>WEGE3</th>\n",
              "      <th>VIVT4</th>\n",
              "      <th>Top 5</th>\n",
              "    </tr>\n",
              "  </thead>\n",
              "  <tbody>\n",
              "    <tr>\n",
              "      <th>0.18</th>\n",
              "      <td>0.00e+00</td>\n",
              "      <td>1.15e-02</td>\n",
              "      <td>0.00e+00</td>\n",
              "      <td>0.00e+00</td>\n",
              "      <td>3.13e-02</td>\n",
              "      <td>3.86e-17</td>\n",
              "      <td>6.62e-18</td>\n",
              "      <td>4.59e-01</td>\n",
              "      <td>1.89e-01</td>\n",
              "      <td>3.09e-01</td>\n",
              "      <td>1.00</td>\n",
              "    </tr>\n",
              "    <tr>\n",
              "      <th>0.18</th>\n",
              "      <td>2.25e-18</td>\n",
              "      <td>8.78e-03</td>\n",
              "      <td>0.00e+00</td>\n",
              "      <td>1.95e-04</td>\n",
              "      <td>4.01e-02</td>\n",
              "      <td>1.18e-17</td>\n",
              "      <td>3.18e-03</td>\n",
              "      <td>4.51e-01</td>\n",
              "      <td>1.92e-01</td>\n",
              "      <td>3.05e-01</td>\n",
              "      <td>1.00</td>\n",
              "    </tr>\n",
              "    <tr>\n",
              "      <th>0.18</th>\n",
              "      <td>4.66e-18</td>\n",
              "      <td>6.02e-03</td>\n",
              "      <td>2.69e-17</td>\n",
              "      <td>2.72e-04</td>\n",
              "      <td>4.54e-02</td>\n",
              "      <td>0.00e+00</td>\n",
              "      <td>7.18e-03</td>\n",
              "      <td>4.45e-01</td>\n",
              "      <td>1.92e-01</td>\n",
              "      <td>3.03e-01</td>\n",
              "      <td>0.99</td>\n",
              "    </tr>\n",
              "    <tr>\n",
              "      <th>0.18</th>\n",
              "      <td>8.50e-18</td>\n",
              "      <td>5.20e-03</td>\n",
              "      <td>0.00e+00</td>\n",
              "      <td>1.31e-04</td>\n",
              "      <td>5.02e-02</td>\n",
              "      <td>0.00e+00</td>\n",
              "      <td>1.12e-02</td>\n",
              "      <td>4.40e-01</td>\n",
              "      <td>1.93e-01</td>\n",
              "      <td>3.01e-01</td>\n",
              "      <td>0.99</td>\n",
              "    </tr>\n",
              "    <tr>\n",
              "      <th>0.18</th>\n",
              "      <td>0.00e+00</td>\n",
              "      <td>2.28e-03</td>\n",
              "      <td>2.54e-17</td>\n",
              "      <td>6.52e-04</td>\n",
              "      <td>5.44e-02</td>\n",
              "      <td>0.00e+00</td>\n",
              "      <td>1.54e-02</td>\n",
              "      <td>4.35e-01</td>\n",
              "      <td>1.94e-01</td>\n",
              "      <td>2.98e-01</td>\n",
              "      <td>1.00</td>\n",
              "    </tr>\n",
              "    <tr>\n",
              "      <th>...</th>\n",
              "      <td>...</td>\n",
              "      <td>...</td>\n",
              "      <td>...</td>\n",
              "      <td>...</td>\n",
              "      <td>...</td>\n",
              "      <td>...</td>\n",
              "      <td>...</td>\n",
              "      <td>...</td>\n",
              "      <td>...</td>\n",
              "      <td>...</td>\n",
              "      <td>...</td>\n",
              "    </tr>\n",
              "    <tr>\n",
              "      <th>0.79</th>\n",
              "      <td>2.78e-17</td>\n",
              "      <td>1.80e-16</td>\n",
              "      <td>0.00e+00</td>\n",
              "      <td>5.55e-17</td>\n",
              "      <td>2.40e-02</td>\n",
              "      <td>0.00e+00</td>\n",
              "      <td>9.76e-01</td>\n",
              "      <td>6.94e-17</td>\n",
              "      <td>1.39e-17</td>\n",
              "      <td>1.39e-17</td>\n",
              "      <td>1.00</td>\n",
              "    </tr>\n",
              "    <tr>\n",
              "      <th>0.80</th>\n",
              "      <td>0.00e+00</td>\n",
              "      <td>0.00e+00</td>\n",
              "      <td>2.78e-17</td>\n",
              "      <td>5.55e-17</td>\n",
              "      <td>1.80e-02</td>\n",
              "      <td>0.00e+00</td>\n",
              "      <td>9.82e-01</td>\n",
              "      <td>0.00e+00</td>\n",
              "      <td>0.00e+00</td>\n",
              "      <td>2.78e-17</td>\n",
              "      <td>1.00</td>\n",
              "    </tr>\n",
              "    <tr>\n",
              "      <th>0.80</th>\n",
              "      <td>0.00e+00</td>\n",
              "      <td>0.00e+00</td>\n",
              "      <td>5.55e-17</td>\n",
              "      <td>1.39e-17</td>\n",
              "      <td>1.20e-02</td>\n",
              "      <td>5.55e-17</td>\n",
              "      <td>9.88e-01</td>\n",
              "      <td>0.00e+00</td>\n",
              "      <td>2.78e-17</td>\n",
              "      <td>0.00e+00</td>\n",
              "      <td>1.00</td>\n",
              "    </tr>\n",
              "    <tr>\n",
              "      <th>0.81</th>\n",
              "      <td>0.00e+00</td>\n",
              "      <td>4.16e-17</td>\n",
              "      <td>9.71e-17</td>\n",
              "      <td>0.00e+00</td>\n",
              "      <td>6.00e-03</td>\n",
              "      <td>0.00e+00</td>\n",
              "      <td>9.94e-01</td>\n",
              "      <td>6.94e-17</td>\n",
              "      <td>6.94e-17</td>\n",
              "      <td>1.39e-17</td>\n",
              "      <td>1.00</td>\n",
              "    </tr>\n",
              "    <tr>\n",
              "      <th>0.81</th>\n",
              "      <td>0.00e+00</td>\n",
              "      <td>5.95e-18</td>\n",
              "      <td>0.00e+00</td>\n",
              "      <td>1.64e-17</td>\n",
              "      <td>1.48e-13</td>\n",
              "      <td>1.33e-17</td>\n",
              "      <td>1.00e+00</td>\n",
              "      <td>6.95e-17</td>\n",
              "      <td>0.00e+00</td>\n",
              "      <td>0.00e+00</td>\n",
              "      <td>1.00</td>\n",
              "    </tr>\n",
              "  </tbody>\n",
              "</table>\n",
              "<p>200 rows × 11 columns</p>\n",
              "</div>"
            ],
            "text/plain": [
              "         BBDC4     ITUB4     CSNA3  ...     WEGE3     VIVT4  Top 5\n",
              "0.18  0.00e+00  1.15e-02  0.00e+00  ...  1.89e-01  3.09e-01   1.00\n",
              "0.18  2.25e-18  8.78e-03  0.00e+00  ...  1.92e-01  3.05e-01   1.00\n",
              "0.18  4.66e-18  6.02e-03  2.69e-17  ...  1.92e-01  3.03e-01   0.99\n",
              "0.18  8.50e-18  5.20e-03  0.00e+00  ...  1.93e-01  3.01e-01   0.99\n",
              "0.18  0.00e+00  2.28e-03  2.54e-17  ...  1.94e-01  2.98e-01   1.00\n",
              "...        ...       ...       ...  ...       ...       ...    ...\n",
              "0.79  2.78e-17  1.80e-16  0.00e+00  ...  1.39e-17  1.39e-17   1.00\n",
              "0.80  0.00e+00  0.00e+00  2.78e-17  ...  0.00e+00  2.78e-17   1.00\n",
              "0.80  0.00e+00  0.00e+00  5.55e-17  ...  2.78e-17  0.00e+00   1.00\n",
              "0.81  0.00e+00  4.16e-17  9.71e-17  ...  6.94e-17  1.39e-17   1.00\n",
              "0.81  0.00e+00  5.95e-18  0.00e+00  ...  0.00e+00  0.00e+00   1.00\n",
              "\n",
              "[200 rows x 11 columns]"
            ]
          },
          "metadata": {
            "tags": []
          },
          "execution_count": 48
        }
      ]
    },
    {
      "cell_type": "markdown",
      "metadata": {
        "id": "riB2ci4I-h37"
      },
      "source": [
        "Ativos Top 5 (com maior participação) em toda fronteira eficiente:"
      ]
    },
    {
      "cell_type": "code",
      "metadata": {
        "id": "rwexp2Bg-r6d",
        "outputId": "e7861341-10a4-43f9-c09d-fbc3c7f78545",
        "colab": {
          "base_uri": "https://localhost:8080/"
        }
      },
      "source": [
        "df_top5 = df_carteiras_ef[df_carteiras_ef.columns[:-1]].sum().sort_values(ascending=False)[:5]\n",
        "top5 = df_top5.index.to_list()\n",
        "df_top5"
      ],
      "execution_count": null,
      "outputs": [
        {
          "output_type": "execute_result",
          "data": {
            "text/plain": [
              "MGLU3    90.67\n",
              "B3SA3    48.80\n",
              "WEGE3    27.27\n",
              "ABEV3    17.25\n",
              "VIVT4    15.63\n",
              "dtype: float64"
            ]
          },
          "metadata": {
            "tags": []
          },
          "execution_count": 71
        }
      ]
    },
    {
      "cell_type": "markdown",
      "metadata": {
        "id": "XSx6X_Lcd4UJ"
      },
      "source": [
        "Plotamos então participação de ativos na carteira, bem como a participação dos **top 5** ao longo da fronteira efieciente:"
      ]
    },
    {
      "cell_type": "code",
      "metadata": {
        "id": "D-64R0Fkmnq7",
        "outputId": "ae3d98b5-a4a9-4355-800d-ebe8cfe95716",
        "colab": {
          "base_uri": "https://localhost:8080/",
          "height": 442
        }
      },
      "source": [
        "fig,ax = plt.subplots(figsize=(10,7))\n",
        "for k,s in enumerate(df_carteiras_ef[top5].columns.to_list()):\n",
        "    ax.plot(df_carteiras_ef[s],label=s)\n",
        "\n",
        "ax.plot(df_carteiras_ef['Top 5'], 'k--', linewidth=3, label='Top 5 (soma)')\n",
        "ax.set_xlabel('Risco (Std)')\n",
        "ax.set_ylabel('Peso ($\\pi$)')\n",
        "ax.legend()\n",
        "plt.show()"
      ],
      "execution_count": null,
      "outputs": [
        {
          "output_type": "display_data",
          "data": {
            "image/png": "[encoded data removed]",
            "text/plain": [
              "<Figure size 720x504 with 1 Axes>"
            ]
          },
          "metadata": {
            "tags": [],
            "needs_background": "light"
          }
        }
      ]
    },
    {
      "cell_type": "markdown",
      "metadata": {
        "id": "6ixHtFrk1RLj"
      },
      "source": [
        "Podemos visualizar que ocorre concentração dos ativos nas carteiras da fronteira eficiente."
      ]
    },
    {
      "cell_type": "markdown",
      "metadata": {
        "id": "0H0rWh2PAtCc"
      },
      "source": [
        "## Questão 4"
      ]
    },
    {
      "cell_type": "markdown",
      "metadata": {
        "id": "K_LMCa62RYLQ"
      },
      "source": [
        "4. (análise VaR) Partindo da série histórica de algum ação (últimos 5 anos), faça uma análise\n",
        "VaR com 90% e 95% de probabilidade usando o método histórico e o da variância para\n",
        "retornos:\n",
        "(a) diários; (b) quinzenais. Inclua os histogramas bem como uma análise dos resultados\n",
        "obtidos."
      ]
    },
    {
      "cell_type": "markdown",
      "metadata": {
        "id": "7UIQeTZTMWBU"
      },
      "source": [
        "# Método Histórico"
      ]
    },
    {
      "cell_type": "markdown",
      "metadata": {
        "id": "2ZJ2mAG3MoFG"
      },
      "source": [
        "Análise diária"
      ]
    },
    {
      "cell_type": "code",
      "metadata": {
        "id": "GtBQAucP7m3C",
        "outputId": "31ef670d-6647-4f26-d0b2-efd676d3c807",
        "colab": {
          "base_uri": "https://localhost:8080/"
        }
      },
      "source": [
        "#pegando os valores de fechamento da série história de BBDC4\n",
        "h = df.BBDC4\n",
        "len(h)"
      ],
      "execution_count": null,
      "outputs": [
        {
          "output_type": "execute_result",
          "data": {
            "text/plain": [
              "1234"
            ]
          },
          "metadata": {
            "tags": []
          },
          "execution_count": 81
        }
      ]
    },
    {
      "cell_type": "code",
      "metadata": {
        "id": "q-MOxG8GNTsi"
      },
      "source": [
        "#retorno diário\n",
        "retorno_diario = []\n",
        "for i in range(len(h)-1):\n",
        "    retorno_diario += [h[i+1]/h[i] -1]"
      ],
      "execution_count": null,
      "outputs": []
    },
    {
      "cell_type": "code",
      "metadata": {
        "id": "u4Q-ccw4NYqy"
      },
      "source": [
        "#organização em caixas#\n",
        "p = []\n",
        "n1 = []\n",
        "n2 = []\n",
        "n3 = []\n",
        "n4 = []\n",
        "n5 = []\n",
        "n6 = []\n",
        "\n",
        "for j in retorno_diario:\n",
        "    if j >= 0:\n",
        "        p+= [j]\n",
        "    if -0.01 <= j < 0:\n",
        "        n1+= [j]\n",
        "    if -0.02 <= j < -0.01:\n",
        "        n2+= [j]\n",
        "    if -0.025 <= j < -0.02:\n",
        "        n3+= [j]\n",
        "    if -0.03 <= j < -0.025:\n",
        "        n4+= [j]\n",
        "    if  -0.0435 <= j < -0.03:\n",
        "        n5+= [j]\n",
        "    if  j < -0.0435:\n",
        "        n6+= [j]\n",
        "l = [len(p)/1234,len(n1)/1234,len(n2)/1234,len(n3)/1234,len(n4)/1234,len(n5)/1234,len(n6)/1234]"
      ],
      "execution_count": null,
      "outputs": []
    },
    {
      "cell_type": "code",
      "metadata": {
        "id": "D9eJpRqmNeuI",
        "outputId": "efb5de3e-52e1-4b81-d874-e1cb3f6fd27e",
        "colab": {
          "base_uri": "https://localhost:8080/"
        }
      },
      "source": [
        "l"
      ],
      "execution_count": null,
      "outputs": [
        {
          "output_type": "execute_result",
          "data": {
            "text/plain": [
              "[0.5251215559157212,\n",
              " 0.19611021069692058,\n",
              " 0.1507293354943274,\n",
              " 0.04700162074554295,\n",
              " 0.028363047001620744,\n",
              " 0.03808752025931929,\n",
              " 0.013776337115072933]"
            ]
          },
          "metadata": {
            "tags": []
          },
          "execution_count": 85
        }
      ]
    },
    {
      "cell_type": "markdown",
      "metadata": {
        "id": "9rIb6qwTNja8"
      },
      "source": [
        "\n",
        "\n",
        "---\n",
        "\n"
      ]
    },
    {
      "cell_type": "code",
      "metadata": {
        "id": "1VuCXHa5NilZ",
        "outputId": "e26e97d4-47f7-484b-ec02-0d9409ddb5ae",
        "colab": {
          "base_uri": "https://localhost:8080/"
        }
      },
      "source": [
        "sum(l[0:5])"
      ],
      "execution_count": null,
      "outputs": [
        {
          "output_type": "execute_result",
          "data": {
            "text/plain": [
              "0.9473257698541329"
            ]
          },
          "metadata": {
            "tags": []
          },
          "execution_count": 87
        }
      ]
    },
    {
      "cell_type": "code",
      "metadata": {
        "id": "Iwv50Sv1RuNl",
        "outputId": "95798478-baa5-491e-c326-7953842d20f1",
        "colab": {
          "base_uri": "https://localhost:8080/"
        }
      },
      "source": [
        "sum(l[0:4])"
      ],
      "execution_count": null,
      "outputs": [
        {
          "output_type": "execute_result",
          "data": {
            "text/plain": [
              "0.9189627228525121"
            ]
          },
          "metadata": {
            "tags": []
          },
          "execution_count": 88
        }
      ]
    },
    {
      "cell_type": "markdown",
      "metadata": {
        "id": "3_oeJFtZSMTM"
      },
      "source": [
        "Olhando para a distribuição à cima, vemos que para uma confiança de 95% o VaR é de aproximadamente -3% e para uma confiança de 90% o VaR é aproximadamente de -2%"
      ]
    },
    {
      "cell_type": "markdown",
      "metadata": {
        "id": "yTAGycGCSZ1Q"
      },
      "source": [
        "# Histograma"
      ]
    },
    {
      "cell_type": "markdown",
      "metadata": {
        "id": "ndkOesZWSw9f"
      },
      "source": [
        "Histograma mais detalhado dos intervalos"
      ]
    },
    {
      "cell_type": "markdown",
      "metadata": {
        "id": "h_TP88rpXJ_V"
      },
      "source": [
        "# Nova seção"
      ]
    },
    {
      "cell_type": "code",
      "metadata": {
        "id": "DhHMFC5QSY6K",
        "outputId": "5b3a248a-6f2a-4b87-f604-6ccd521f1461",
        "colab": {
          "base_uri": "https://localhost:8080/",
          "height": 350
        }
      },
      "source": [
        "bins = [-0.05,-0.03,-0.025,-0.02,-0.01,0,0.05]\n",
        "\n",
        "plt.hist(retorno_diario, bins = bins, color = '#42bcf5')\n",
        "plt.xticks(bins)\n",
        "\n",
        "plt.xlabel('Dias')\n",
        "plt.ylabel('Retornos')\n",
        "plt.title('Distribuição dos retornos diários de BBSA3')\n",
        "\n",
        "plt.rcParams['figure.figsize'] = (15,5)\n",
        "\n",
        "\n",
        "plt.show()"
      ],
      "execution_count": null,
      "outputs": [
        {
          "output_type": "display_data",
          "data": {
            "image/png": "[encoded data removed]",
            "text/plain": [
              "<Figure size 1080x360 with 1 Axes>"
            ]
          },
          "metadata": {
            "tags": [],
            "needs_background": "light"
          }
        }
      ]
    },
    {
      "cell_type": "markdown",
      "metadata": {
        "id": "JphPYgP7Sugo"
      },
      "source": [
        "Histograma geral"
      ]
    },
    {
      "cell_type": "code",
      "metadata": {
        "id": "4-owvc1uSeDw",
        "outputId": "ff540860-4869-4dcf-ce3f-389ffd6aaebf",
        "colab": {
          "base_uri": "https://localhost:8080/",
          "height": 367
        }
      },
      "source": [
        "bins = 10\n",
        "plt.hist(retorno_diario, bins = bins)\n",
        "\n",
        "\n",
        "plt.xlabel('Dias')\n",
        "plt.ylabel('Retornos')\n",
        "plt.title('Distribuição dos retornos diários de BBSA3')"
      ],
      "execution_count": null,
      "outputs": [
        {
          "output_type": "execute_result",
          "data": {
            "text/plain": [
              "Text(0.5, 1.0, 'Distribuição dos retornos diários de BBSA3')"
            ]
          },
          "metadata": {
            "tags": []
          },
          "execution_count": 92
        },
        {
          "output_type": "display_data",
          "data": {
            "image/png": "[encoded data removed]",
            "text/plain": [
              "<Figure size 1080x360 with 1 Axes>"
            ]
          },
          "metadata": {
            "tags": [],
            "needs_background": "light"
          }
        }
      ]
    },
    {
      "cell_type": "markdown",
      "metadata": {
        "id": "SZHq-aAcTun2"
      },
      "source": [
        "Análise Quinzenal"
      ]
    },
    {
      "cell_type": "code",
      "metadata": {
        "id": "ZErZLMAWT-zH",
        "outputId": "77b72aa1-4647-4d33-f471-abdb70cafece",
        "colab": {
          "base_uri": "https://localhost:8080/"
        }
      },
      "source": [
        "q = h[::15]\n",
        "len(q)\n"
      ],
      "execution_count": null,
      "outputs": [
        {
          "output_type": "execute_result",
          "data": {
            "text/plain": [
              "83"
            ]
          },
          "metadata": {
            "tags": []
          },
          "execution_count": 101
        }
      ]
    },
    {
      "cell_type": "code",
      "metadata": {
        "id": "-IOwehVeSkyK"
      },
      "source": [
        "#retorno quinzenal\n",
        "retorno_q = []\n",
        "for j in range(len(q)-1):\n",
        "    retorno_q += [q[j+1]/q[j] - 1]"
      ],
      "execution_count": null,
      "outputs": []
    },
    {
      "cell_type": "code",
      "metadata": {
        "id": "aiE7-Zg-T7Sj",
        "outputId": "27ae0341-e1d9-44c9-cb7f-20b66172aeee",
        "colab": {
          "base_uri": "https://localhost:8080/"
        }
      },
      "source": [
        "#organização em caixas#\n",
        "p = []\n",
        "n1 = []\n",
        "n2 = []\n",
        "n3 = []\n",
        "n4 = []\n",
        "n5 = []\n",
        "n6 = []\n",
        "n7 = []\n",
        "n8 = []\n",
        " \n",
        "for j in retorno_q:\n",
        "    if j >= 0:\n",
        "        p+= [j]\n",
        "    if -0.02 <= j < 0:\n",
        "        n1+= [j]\n",
        "    if  -0.04 <= j < -0.02:\n",
        "        n2+= [j]\n",
        "    if -0.06 <= j < -0.04:\n",
        "        n3+= [j]\n",
        "    if -0.08 <= j < -0.06:\n",
        "        n4+= [j]\n",
        "    if  -0.10 <= j < -0.08:\n",
        "        n5+= [j]\n",
        "    \n",
        "\n",
        "k = len(p) + len(n1) + len(n2) + len(n3) + len(n4) + len(n5)    \n",
        "l = [len(p)/k,len(n1)/k,len(n2)/k,len(n3)/k,len(n4)/k,len(n5)/k]\n",
        "l"
      ],
      "execution_count": null,
      "outputs": [
        {
          "output_type": "execute_result",
          "data": {
            "text/plain": [
              "[0.6363636363636364,\n",
              " 0.06493506493506493,\n",
              " 0.12987012987012986,\n",
              " 0.07792207792207792,\n",
              " 0.05194805194805195,\n",
              " 0.03896103896103896]"
            ]
          },
          "metadata": {
            "tags": []
          },
          "execution_count": 131
        }
      ]
    },
    {
      "cell_type": "code",
      "metadata": {
        "id": "603VOAyvUxH6",
        "outputId": "316e2f1e-1a13-4041-9044-0713588fe72e",
        "colab": {
          "base_uri": "https://localhost:8080/"
        }
      },
      "source": [
        "sum(l)"
      ],
      "execution_count": null,
      "outputs": [
        {
          "output_type": "execute_result",
          "data": {
            "text/plain": [
              "1.0"
            ]
          },
          "metadata": {
            "tags": []
          },
          "execution_count": 132
        }
      ]
    },
    {
      "cell_type": "code",
      "metadata": {
        "id": "5P98ijzMUS-j",
        "outputId": "9cccd8b6-d71b-4d8d-a6ab-c404208af034",
        "colab": {
          "base_uri": "https://localhost:8080/"
        }
      },
      "source": [
        "sum(l[0:4]) "
      ],
      "execution_count": null,
      "outputs": [
        {
          "output_type": "execute_result",
          "data": {
            "text/plain": [
              "0.9090909090909092"
            ]
          },
          "metadata": {
            "tags": []
          },
          "execution_count": 136
        }
      ]
    },
    {
      "cell_type": "code",
      "metadata": {
        "id": "-WJ317glUeaI",
        "outputId": "a78fe48d-9264-43be-e363-d1096114a2c6",
        "colab": {
          "base_uri": "https://localhost:8080/"
        }
      },
      "source": [
        "sum(l[0:5]) "
      ],
      "execution_count": null,
      "outputs": [
        {
          "output_type": "execute_result",
          "data": {
            "text/plain": [
              "0.9610389610389611"
            ]
          },
          "metadata": {
            "tags": []
          },
          "execution_count": 137
        }
      ]
    },
    {
      "cell_type": "markdown",
      "metadata": {
        "id": "T4Pe8esAWyHH"
      },
      "source": [
        "Olhando para a distribuição à cima, vemos que para uma confiança de 95% o VaR é de aproximadamente -4% e para uma confiança de 90% o VaR é aproximadamente de -6%"
      ]
    },
    {
      "cell_type": "code",
      "metadata": {
        "id": "b2gbP4N2Wrs3",
        "outputId": "7a40bf69-cd8a-43aa-a792-cd6a242c9cca",
        "colab": {
          "base_uri": "https://localhost:8080/",
          "height": 350
        }
      },
      "source": [
        "bins = [-0.10,-0.08,-0.06,-0.04,-0.02,0,0.05]\n",
        "\n",
        "plt.hist(retorno_q, bins = bins, color = '#42bcf5')\n",
        "plt.xticks(bins)\n",
        "\n",
        "plt.xlabel('Dias')\n",
        "plt.ylabel('Retornos')\n",
        "plt.title('Distribuição dos retornos diários de BBSA3')\n",
        "\n",
        "plt.rcParams['figure.figsize'] = (15,5)\n",
        "\n",
        "\n",
        "plt.show()"
      ],
      "execution_count": null,
      "outputs": [
        {
          "output_type": "display_data",
          "data": {
            "image/png": "[encoded data removed]",
            "text/plain": [
              "<Figure size 1080x360 with 1 Axes>"
            ]
          },
          "metadata": {
            "tags": [],
            "needs_background": "light"
          }
        }
      ]
    },
    {
      "cell_type": "code",
      "metadata": {
        "id": "xm3Myh1rZtGL"
      },
      "source": [
        ""
      ],
      "execution_count": null,
      "outputs": []
    }
  ]
}