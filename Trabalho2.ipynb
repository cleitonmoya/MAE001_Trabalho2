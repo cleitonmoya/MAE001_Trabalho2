{
  "nbformat": 4,
  "nbformat_minor": 0,
  "metadata": {
    "colab": {
      "name": "Trabalho2.ipynb",
      "provenance": [],
      "authorship_tag": "ABX9TyOOnaphryb/vpVF5dVMad6q",
      "include_colab_link": true
    },
    "kernelspec": {
      "name": "python3",
      "display_name": "Python 3"
    }
  },
  "cells": [
    {
      "cell_type": "markdown",
      "metadata": {
        "id": "view-in-github",
        "colab_type": "text"
      },
      "source": [
        "<a href=\"https://colab.research.google.com/github/cleitonmoya/MAE001_Trabalho2/blob/main/Trabalho2.ipynb\" target=\"_parent\"><img src=\"https://colab.research.google.com/assets/colab-badge.svg\" alt=\"Open In Colab\"/></a>"
      ]
    },
    {
      "cell_type": "markdown",
      "metadata": {
        "id": "-yQHIQjn3dvy"
      },
      "source": [
        "# Projeto \\#2  - MAE001"
      ]
    },
    {
      "cell_type": "markdown",
      "metadata": {
        "id": "FRyu6SOy3o6o"
      },
      "source": [
        "Alunos:\n",
        "* Cleiton Moya de Almeida\n",
        "* Gustaco Maciel Ribeiro\n",
        "* Renato Santana\n"
      ]
    },
    {
      "cell_type": "markdown",
      "metadata": {
        "id": "1y0NTHrXAXxh"
      },
      "source": [
        "## Introdução"
      ]
    },
    {
      "cell_type": "markdown",
      "metadata": {
        "id": "nfDAL27Swf7j"
      },
      "source": [
        "## Preliminar - Importações"
      ]
    },
    {
      "cell_type": "markdown",
      "metadata": {
        "id": "NOdqsfVbwtpG"
      },
      "source": [
        "Bibliotecas utilizados neste trabalho:"
      ]
    },
    {
      "cell_type": "code",
      "metadata": {
        "id": "vxR2OKWt_apY"
      },
      "source": [
        "import numpy as np\n",
        "import pandas as pd\n",
        "import matplotlib.pyplot as plt"
      ],
      "execution_count": 1,
      "outputs": []
    },
    {
      "cell_type": "markdown",
      "metadata": {
        "id": "7uIaWyaWWtpw"
      },
      "source": [
        "Importação da séries financeiras utilizadas nas questões 2, 3 e 4:"
      ]
    },
    {
      "cell_type": "code",
      "metadata": {
        "id": "4wnQo0wsWgIq"
      },
      "source": [
        "dir = 'https://raw.githubusercontent.com/cleitonmoya/MAE001_Trabalho2/main/series/'\n",
        "series = ['ibov', 'bbdc4', 'itub4', 'csna3', 'b3sa3', 'ggbr4',\n",
        "          'petr4', 'mglu3', 'abev3', 'wege3', 'vivt4']\n",
        "url = dir + 'ibov'.upper() + '.csv'\n",
        "\n",
        "# Cria primeiro um dataframe somente com os ibov\n",
        "df = pd.read_csv(url, decimal=',', sep=';', index_col=0, dayfirst=True, parse_dates=True, usecols=['Data', 'Fechamento'], header=0)\n",
        "df.columns=['ibov']\n",
        "\n",
        "# carrega as demais séries para o dataframe\n",
        "for _,ativo in enumerate(series):\n",
        "  url = dir + ativo.upper() + '.csv'\n",
        "  df[ativo] = pd.read_csv(url, decimal=',', sep=';', index_col=0, dayfirst=True, parse_dates=True, usecols=['Data','Fechamento'])\n",
        "\n",
        "# Ordena o dataframe por data crescente (a fim de permitir correta localização)\n",
        "df.sort_index(inplace=True) \n",
        "df = df.loc['2019-09-01':'2020-01-31'] # período analisado"
      ],
      "execution_count": 2,
      "outputs": []
    },
    {
      "cell_type": "markdown",
      "metadata": {
        "id": "vNy1fG2B0KrJ"
      },
      "source": [
        "Visualizando as séries importadas:"
      ]
    },
    {
      "cell_type": "code",
      "metadata": {
        "id": "KWvMnHQP0DFk",
        "outputId": "224b5550-ab04-4cca-a564-109763f4c8e9",
        "colab": {
          "base_uri": "https://localhost:8080/",
          "height": 235
        }
      },
      "source": [
        "df.head()"
      ],
      "execution_count": 3,
      "outputs": [
        {
          "output_type": "execute_result",
          "data": {
            "text/html": [
              "<div>\n",
              "<style scoped>\n",
              "    .dataframe tbody tr th:only-of-type {\n",
              "        vertical-align: middle;\n",
              "    }\n",
              "\n",
              "    .dataframe tbody tr th {\n",
              "        vertical-align: top;\n",
              "    }\n",
              "\n",
              "    .dataframe thead th {\n",
              "        text-align: right;\n",
              "    }\n",
              "</style>\n",
              "<table border=\"1\" class=\"dataframe\">\n",
              "  <thead>\n",
              "    <tr style=\"text-align: right;\">\n",
              "      <th></th>\n",
              "      <th>ibov</th>\n",
              "      <th>bbdc4</th>\n",
              "      <th>itub4</th>\n",
              "      <th>csna3</th>\n",
              "      <th>b3sa3</th>\n",
              "      <th>ggbr4</th>\n",
              "      <th>petr4</th>\n",
              "      <th>mglu3</th>\n",
              "      <th>abev3</th>\n",
              "      <th>wege3</th>\n",
              "      <th>vivt4</th>\n",
              "    </tr>\n",
              "    <tr>\n",
              "      <th>Data</th>\n",
              "      <th></th>\n",
              "      <th></th>\n",
              "      <th></th>\n",
              "      <th></th>\n",
              "      <th></th>\n",
              "      <th></th>\n",
              "      <th></th>\n",
              "      <th></th>\n",
              "      <th></th>\n",
              "      <th></th>\n",
              "      <th></th>\n",
              "    </tr>\n",
              "  </thead>\n",
              "  <tbody>\n",
              "    <tr>\n",
              "      <th>2019-09-02</th>\n",
              "      <td>100625.74</td>\n",
              "      <td>28.06</td>\n",
              "      <td>32.27</td>\n",
              "      <td>14.04</td>\n",
              "      <td>41.99</td>\n",
              "      <td>12.60</td>\n",
              "      <td>24.87</td>\n",
              "      <td>9.12</td>\n",
              "      <td>17.98</td>\n",
              "      <td>22.56</td>\n",
              "      <td>50.98</td>\n",
              "    </tr>\n",
              "    <tr>\n",
              "      <th>2019-09-03</th>\n",
              "      <td>99680.83</td>\n",
              "      <td>27.60</td>\n",
              "      <td>31.65</td>\n",
              "      <td>13.63</td>\n",
              "      <td>41.81</td>\n",
              "      <td>12.52</td>\n",
              "      <td>25.16</td>\n",
              "      <td>8.94</td>\n",
              "      <td>18.12</td>\n",
              "      <td>21.98</td>\n",
              "      <td>50.73</td>\n",
              "    </tr>\n",
              "    <tr>\n",
              "      <th>2019-09-04</th>\n",
              "      <td>101200.89</td>\n",
              "      <td>27.94</td>\n",
              "      <td>31.87</td>\n",
              "      <td>13.81</td>\n",
              "      <td>42.65</td>\n",
              "      <td>12.52</td>\n",
              "      <td>25.81</td>\n",
              "      <td>9.27</td>\n",
              "      <td>18.39</td>\n",
              "      <td>22.41</td>\n",
              "      <td>51.61</td>\n",
              "    </tr>\n",
              "    <tr>\n",
              "      <th>2019-09-05</th>\n",
              "      <td>102243.00</td>\n",
              "      <td>28.59</td>\n",
              "      <td>32.78</td>\n",
              "      <td>13.94</td>\n",
              "      <td>43.29</td>\n",
              "      <td>12.61</td>\n",
              "      <td>25.94</td>\n",
              "      <td>9.14</td>\n",
              "      <td>18.28</td>\n",
              "      <td>22.56</td>\n",
              "      <td>52.21</td>\n",
              "    </tr>\n",
              "    <tr>\n",
              "      <th>2019-09-06</th>\n",
              "      <td>102935.43</td>\n",
              "      <td>29.79</td>\n",
              "      <td>33.88</td>\n",
              "      <td>13.76</td>\n",
              "      <td>43.86</td>\n",
              "      <td>12.38</td>\n",
              "      <td>26.07</td>\n",
              "      <td>8.97</td>\n",
              "      <td>18.31</td>\n",
              "      <td>22.62</td>\n",
              "      <td>51.28</td>\n",
              "    </tr>\n",
              "  </tbody>\n",
              "</table>\n",
              "</div>"
            ],
            "text/plain": [
              "                 ibov  bbdc4  itub4  csna3  ...  mglu3  abev3  wege3  vivt4\n",
              "Data                                        ...                            \n",
              "2019-09-02  100625.74  28.06  32.27  14.04  ...   9.12  17.98  22.56  50.98\n",
              "2019-09-03   99680.83  27.60  31.65  13.63  ...   8.94  18.12  21.98  50.73\n",
              "2019-09-04  101200.89  27.94  31.87  13.81  ...   9.27  18.39  22.41  51.61\n",
              "2019-09-05  102243.00  28.59  32.78  13.94  ...   9.14  18.28  22.56  52.21\n",
              "2019-09-06  102935.43  29.79  33.88  13.76  ...   8.97  18.31  22.62  51.28\n",
              "\n",
              "[5 rows x 11 columns]"
            ]
          },
          "metadata": {
            "tags": []
          },
          "execution_count": 3
        }
      ]
    },
    {
      "cell_type": "markdown",
      "metadata": {
        "id": "kkOta__H_V1D"
      },
      "source": [
        "## Questão 1"
      ]
    },
    {
      "cell_type": "markdown",
      "metadata": {
        "id": "uX7YHNSP_SpR"
      },
      "source": [
        "## Questão 2"
      ]
    },
    {
      "cell_type": "markdown",
      "metadata": {
        "id": "TdPbsmtdfRv3"
      },
      "source": [
        "* Setor Financeiro:\n",
        "   * Banco Bradesco (BBDC4);\n",
        "   * Banco Itaú-Unibanco (ITUB4);\n",
        "* Setor de Siderurgia:\n",
        "   * Companhia Siderúrigica Nacional (CSNA3)\n",
        "   * Grupo Gerdau (GGBR4)\n",
        " \n"
      ]
    },
    {
      "cell_type": "markdown",
      "metadata": {
        "id": "M_De0v5z3FKN"
      },
      "source": [
        "Análise de correlação das ações com o IBOV:"
      ]
    },
    {
      "cell_type": "code",
      "metadata": {
        "id": "bwYNo0P2UYb3",
        "outputId": "1b549149-2cb6-4101-cc09-5f1ebf0cd937",
        "colab": {
          "base_uri": "https://localhost:8080/",
          "height": 663
        }
      },
      "source": [
        "fig, axs = plt.subplots(2, 2,figsize=(10,10))\n",
        "axs[0,0].set_title('BBDC4 x IBOV')\n",
        "axs[0,0].scatter(df.bbdc4, df.ibov, s=3)\n",
        "\n",
        "axs[0,1].set_title('ITUB4 x IBOV')\n",
        "axs[0,1].scatter(df.itub4, df.ibov, s=3)\n",
        "\n",
        "axs[1,0].set_title('CSNA3 x IBOV')\n",
        "axs[1,0].scatter(df.csna3, df.ibov, s=3)\n",
        "\n",
        "axs[1,1].set_title('GGBR4 x IBOV')\n",
        "axs[1,1].scatter(df.ggbr4, df.ibov, s=3)\n",
        "plt.show()"
      ],
      "execution_count": 49,
      "outputs": [
        {
          "output_type": "display_data",
          "data": {
            "image/png": "[encoded data removed]",
            "text/plain": [
              "<Figure size 720x720 with 4 Axes>"
            ]
          },
          "metadata": {
            "tags": [],
            "needs_background": "light"
          }
        }
      ]
    },
    {
      "cell_type": "markdown",
      "metadata": {
        "id": "R2ZzMv7s8755"
      },
      "source": [
        "Ativos ativos do mesmo setor:"
      ]
    },
    {
      "cell_type": "code",
      "metadata": {
        "id": "i5iAy_C14T8F",
        "outputId": "6a87496a-193e-46d2-fec7-f20d98832540",
        "colab": {
          "base_uri": "https://localhost:8080/",
          "height": 356
        }
      },
      "source": [
        "fig, axs = plt.subplots(1, 2, figsize=(10,5))\n",
        "fig.suptitle('Setores iguais', fontsize=16)\n",
        "axs[0].set_title('BBDC4 x ITUB4 (Financeiro)')\n",
        "axs[0].scatter(df.bbdc4, df.ibov, s=3)\n",
        "\n",
        "axs[1].set_title('CSNA3 x GGBR4 (Siderurgia)')\n",
        "axs[1].scatter(df.itub4, df.ibov, s=3)\n",
        "plt.show()"
      ],
      "execution_count": 53,
      "outputs": [
        {
          "output_type": "display_data",
          "data": {
            "image/png": "[encoded data removed]",
            "text/plain": [
              "<Figure size 720x360 with 2 Axes>"
            ]
          },
          "metadata": {
            "tags": [],
            "needs_background": "light"
          }
        }
      ]
    },
    {
      "cell_type": "markdown",
      "metadata": {
        "id": "d4YKMNpK3L78"
      },
      "source": [
        "Análise de correlação entre as ações:"
      ]
    },
    {
      "cell_type": "code",
      "metadata": {
        "id": "izBksxrH-ZkY",
        "outputId": "9dccac90-e7de-47cc-8228-2b0c4335003e",
        "colab": {
          "base_uri": "https://localhost:8080/",
          "height": 663
        }
      },
      "source": [
        "fig, axs = plt.subplots(2, 2, figsize=(10,10))\n",
        "fig.suptitle('Setores diferentes', fontsize=16)\n",
        "axs[0,0].set_title('BBDC4 x CSNA3')\n",
        "axs[0,0].scatter(df.bbdc4, df.csna3, s=3)\n",
        "axs[0,1].set_title('BBDC4 x GGBR4')\n",
        "axs[0,1].scatter(df.itub4, df.ggbr4, s=3)\n",
        "axs[1,0].set_title('ITUB4 x CSNA3')\n",
        "axs[1,0].scatter(df.itub4, df.ggbr4, s=3)\n",
        "axs[1,1].set_title('ITUB4 x GGBR4')\n",
        "axs[1,1].scatter(df.itub4, df.ggbr4, s=3)\n",
        "plt.show()"
      ],
      "execution_count": 52,
      "outputs": [
        {
          "output_type": "display_data",
          "data": {
            "image/png": "[encoded data removed]",
            "text/plain": [
              "<Figure size 720x720 with 4 Axes>"
            ]
          },
          "metadata": {
            "tags": [],
            "needs_background": "light"
          }
        }
      ]
    },
    {
      "cell_type": "markdown",
      "metadata": {
        "id": "Xm9GHQCLArwi"
      },
      "source": [
        "Matriz de convariância dos ativos:"
      ]
    },
    {
      "cell_type": "code",
      "metadata": {
        "id": "Ce0MfjcuAu7C",
        "outputId": "9fe88782-6a88-4589-c78d-c494c1be199e",
        "colab": {
          "base_uri": "https://localhost:8080/"
        }
      },
      "source": [
        "X = np.array([df.ibov, df.bbdc4, df.itub4, df.csna3, df.ggbr4])\n",
        "M_cov = np.cov(X)\n",
        "np.set_printoptions(precision=3)\n",
        "print(M-cov)"
      ],
      "execution_count": 78,
      "outputs": [
        {
          "output_type": "stream",
          "text": [
            "[[ 3.025e+07  5.696e+03  2.250e+03  2.402e+03  1.688e+04]\n",
            " [ 5.696e+03  1.879e+00  1.278e+00  2.380e-01  2.492e+00]\n",
            " [ 2.250e+03  1.278e+00  1.471e+00 -1.217e-01  5.508e-01]\n",
            " [ 2.402e+03  2.380e-01 -1.217e-01  9.284e-01  1.491e+00]\n",
            " [ 1.688e+04  2.492e+00  5.508e-01  1.491e+00  1.042e+01]]\n"
          ],
          "name": "stdout"
        }
      ]
    },
    {
      "cell_type": "markdown",
      "metadata": {
        "id": "eFepqFY4Dauo"
      },
      "source": [
        "Podemos melhor visualizar através da matriz de correlação:"
      ]
    },
    {
      "cell_type": "code",
      "metadata": {
        "id": "EM7B8IB4DfRg",
        "outputId": "1de14bde-b35d-4ccf-d596-9fb474d698b2",
        "colab": {
          "base_uri": "https://localhost:8080/"
        }
      },
      "source": [
        "M_cor = np.corrcoef(X)\n",
        "print(M_cor)"
      ],
      "execution_count": 79,
      "outputs": [
        {
          "output_type": "stream",
          "text": [
            "[[ 1.     0.755  0.337  0.453  0.951]\n",
            " [ 0.755  1.     0.769  0.18   0.563]\n",
            " [ 0.337  0.769  1.    -0.104  0.141]\n",
            " [ 0.453  0.18  -0.104  1.     0.479]\n",
            " [ 0.951  0.563  0.141  0.479  1.   ]]\n"
          ],
          "name": "stdout"
        }
      ]
    },
    {
      "cell_type": "markdown",
      "metadata": {
        "id": "CuHP0KFPAqRk"
      },
      "source": [
        "## Questão 3"
      ]
    },
    {
      "cell_type": "code",
      "metadata": {
        "id": "RzQYSqs2AriV"
      },
      "source": [
        ""
      ],
      "execution_count": 3,
      "outputs": []
    },
    {
      "cell_type": "markdown",
      "metadata": {
        "id": "0H0rWh2PAtCc"
      },
      "source": [
        "## Questão 4"
      ]
    },
    {
      "cell_type": "code",
      "metadata": {
        "id": "xjGdglO4AuDU"
      },
      "source": [
        ""
      ],
      "execution_count": 3,
      "outputs": []
    }
  ]
}