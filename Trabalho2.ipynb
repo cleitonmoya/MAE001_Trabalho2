{
  "nbformat": 4,
  "nbformat_minor": 0,
  "metadata": {
    "colab": {
      "name": "Trabalho2.ipynb",
      "provenance": [],
      "authorship_tag": "ABX9TyNqIJoXhaQO39dqRNHiqsTQ",
      "include_colab_link": true
    },
    "kernelspec": {
      "name": "python3",
      "display_name": "Python 3"
    }
  },
  "cells": [
    {
      "cell_type": "markdown",
      "metadata": {
        "id": "view-in-github",
        "colab_type": "text"
      },
      "source": [
        "<a href=\"https://colab.research.google.com/github/cleitonmoya/MAE001_Trabalho2/blob/main/Trabalho2.ipynb\" target=\"_parent\"><img src=\"https://colab.research.google.com/assets/colab-badge.svg\" alt=\"Open In Colab\"/></a>"
      ]
    },
    {
      "cell_type": "markdown",
      "metadata": {
        "id": "-yQHIQjn3dvy"
      },
      "source": [
        "#MAE001 - Projeto \\#2 "
      ]
    },
    {
      "cell_type": "markdown",
      "metadata": {
        "id": "FRyu6SOy3o6o"
      },
      "source": [
        "MAE001 - Modelagem Matemática em Finanças I \\\\\n",
        "Professor: Marco A. Cabral\n",
        "\n",
        "Alunos:\n",
        "* Cleiton Moya de Almeida\n",
        "* Gustaco Maciel Ribeiro\n",
        "* Renato Santana\n"
      ]
    },
    {
      "cell_type": "markdown",
      "metadata": {
        "id": "1y0NTHrXAXxh"
      },
      "source": [
        "## Introdução"
      ]
    },
    {
      "cell_type": "markdown",
      "metadata": {
        "id": "nfDAL27Swf7j"
      },
      "source": [
        "## Preliminar - Importações"
      ]
    },
    {
      "cell_type": "markdown",
      "metadata": {
        "id": "NOdqsfVbwtpG"
      },
      "source": [
        "Bibliotecas utilizados neste trabalho:"
      ]
    },
    {
      "cell_type": "code",
      "metadata": {
        "id": "vxR2OKWt_apY"
      },
      "source": [
        "import numpy as np\n",
        "import pandas as pd\n",
        "import matplotlib.pyplot as plt\n",
        "import seaborn as sns\n",
        "np.set_printoptions(precision=2)\n",
        "pd.options.display.float_format = '{:.2f}'.format"
      ],
      "execution_count": 164,
      "outputs": []
    },
    {
      "cell_type": "markdown",
      "metadata": {
        "id": "7uIaWyaWWtpw"
      },
      "source": [
        "Importação da séries financeiras utilizadas nas questões 2, 3 e 4:"
      ]
    },
    {
      "cell_type": "code",
      "metadata": {
        "id": "4wnQo0wsWgIq"
      },
      "source": [
        "dir = 'https://raw.githubusercontent.com/cleitonmoya/MAE001_Trabalho2/main/series/'\n",
        "series = ['IBOV', 'BBDC4', 'ITUB4', 'CSNA3', 'GGBR4', 'B3SA3',\n",
        "                  'PETR4', 'MGLU3', 'ABEV3', 'WEGE3', 'VIVT4']\n",
        "url = dir + 'IBOV' + '.csv'\n",
        "\n",
        "# Cria primeiro um dataframe somente com os ibov\n",
        "df = pd.read_csv(url, decimal=',', sep=';', index_col=0, dayfirst=True, parse_dates=True, usecols=['Data', 'Fechamento'], header=0)\n",
        "df.columns=['IBOV']\n",
        "\n",
        "# carrega as demais séries para o dataframe\n",
        "for _,ativo in enumerate(series):\n",
        "  url = dir + ativo + '.csv'\n",
        "  df[ativo] = pd.read_csv(url, decimal=',', sep=';', index_col=0, dayfirst=True, parse_dates=True, usecols=['Data','Fechamento'])\n",
        "\n",
        "# Ordena o dataframe por data crescente (a fim de permitir correta localização)\n",
        "df.sort_index(inplace=True) \n",
        "df = df.loc['2019-09-01':'2020-01-31'] # período analisado"
      ],
      "execution_count": 165,
      "outputs": []
    },
    {
      "cell_type": "markdown",
      "metadata": {
        "id": "vNy1fG2B0KrJ"
      },
      "source": [
        "Visualizando as séries importadas:"
      ]
    },
    {
      "cell_type": "code",
      "metadata": {
        "id": "KWvMnHQP0DFk",
        "outputId": "284d22df-2cca-43a8-da97-6a893b321f75",
        "colab": {
          "base_uri": "https://localhost:8080/",
          "height": 450
        }
      },
      "source": [
        "df"
      ],
      "execution_count": 166,
      "outputs": [
        {
          "output_type": "execute_result",
          "data": {
            "text/html": [
              "<div>\n",
              "<style scoped>\n",
              "    .dataframe tbody tr th:only-of-type {\n",
              "        vertical-align: middle;\n",
              "    }\n",
              "\n",
              "    .dataframe tbody tr th {\n",
              "        vertical-align: top;\n",
              "    }\n",
              "\n",
              "    .dataframe thead th {\n",
              "        text-align: right;\n",
              "    }\n",
              "</style>\n",
              "<table border=\"1\" class=\"dataframe\">\n",
              "  <thead>\n",
              "    <tr style=\"text-align: right;\">\n",
              "      <th></th>\n",
              "      <th>IBOV</th>\n",
              "      <th>BBDC4</th>\n",
              "      <th>ITUB4</th>\n",
              "      <th>CSNA3</th>\n",
              "      <th>GGBR4</th>\n",
              "      <th>B3SA3</th>\n",
              "      <th>PETR4</th>\n",
              "      <th>MGLU3</th>\n",
              "      <th>ABEV3</th>\n",
              "      <th>WEGE3</th>\n",
              "      <th>VIVT4</th>\n",
              "    </tr>\n",
              "    <tr>\n",
              "      <th>Data</th>\n",
              "      <th></th>\n",
              "      <th></th>\n",
              "      <th></th>\n",
              "      <th></th>\n",
              "      <th></th>\n",
              "      <th></th>\n",
              "      <th></th>\n",
              "      <th></th>\n",
              "      <th></th>\n",
              "      <th></th>\n",
              "      <th></th>\n",
              "    </tr>\n",
              "  </thead>\n",
              "  <tbody>\n",
              "    <tr>\n",
              "      <th>2019-09-02</th>\n",
              "      <td>100625.74</td>\n",
              "      <td>28.06</td>\n",
              "      <td>32.27</td>\n",
              "      <td>14.04</td>\n",
              "      <td>12.60</td>\n",
              "      <td>41.99</td>\n",
              "      <td>24.87</td>\n",
              "      <td>9.12</td>\n",
              "      <td>17.98</td>\n",
              "      <td>22.56</td>\n",
              "      <td>50.98</td>\n",
              "    </tr>\n",
              "    <tr>\n",
              "      <th>2019-09-03</th>\n",
              "      <td>99680.83</td>\n",
              "      <td>27.60</td>\n",
              "      <td>31.65</td>\n",
              "      <td>13.63</td>\n",
              "      <td>12.52</td>\n",
              "      <td>41.81</td>\n",
              "      <td>25.16</td>\n",
              "      <td>8.94</td>\n",
              "      <td>18.12</td>\n",
              "      <td>21.98</td>\n",
              "      <td>50.73</td>\n",
              "    </tr>\n",
              "    <tr>\n",
              "      <th>2019-09-04</th>\n",
              "      <td>101200.89</td>\n",
              "      <td>27.94</td>\n",
              "      <td>31.87</td>\n",
              "      <td>13.81</td>\n",
              "      <td>12.52</td>\n",
              "      <td>42.65</td>\n",
              "      <td>25.81</td>\n",
              "      <td>9.27</td>\n",
              "      <td>18.39</td>\n",
              "      <td>22.41</td>\n",
              "      <td>51.61</td>\n",
              "    </tr>\n",
              "    <tr>\n",
              "      <th>2019-09-05</th>\n",
              "      <td>102243.00</td>\n",
              "      <td>28.59</td>\n",
              "      <td>32.78</td>\n",
              "      <td>13.94</td>\n",
              "      <td>12.61</td>\n",
              "      <td>43.29</td>\n",
              "      <td>25.94</td>\n",
              "      <td>9.14</td>\n",
              "      <td>18.28</td>\n",
              "      <td>22.56</td>\n",
              "      <td>52.21</td>\n",
              "    </tr>\n",
              "    <tr>\n",
              "      <th>2019-09-06</th>\n",
              "      <td>102935.43</td>\n",
              "      <td>29.79</td>\n",
              "      <td>33.88</td>\n",
              "      <td>13.76</td>\n",
              "      <td>12.38</td>\n",
              "      <td>43.86</td>\n",
              "      <td>26.07</td>\n",
              "      <td>8.97</td>\n",
              "      <td>18.31</td>\n",
              "      <td>22.62</td>\n",
              "      <td>51.28</td>\n",
              "    </tr>\n",
              "    <tr>\n",
              "      <th>...</th>\n",
              "      <td>...</td>\n",
              "      <td>...</td>\n",
              "      <td>...</td>\n",
              "      <td>...</td>\n",
              "      <td>...</td>\n",
              "      <td>...</td>\n",
              "      <td>...</td>\n",
              "      <td>...</td>\n",
              "      <td>...</td>\n",
              "      <td>...</td>\n",
              "      <td>...</td>\n",
              "    </tr>\n",
              "    <tr>\n",
              "      <th>2020-01-27</th>\n",
              "      <td>114481.84</td>\n",
              "      <td>30.22</td>\n",
              "      <td>32.35</td>\n",
              "      <td>13.73</td>\n",
              "      <td>19.91</td>\n",
              "      <td>46.18</td>\n",
              "      <td>28.03</td>\n",
              "      <td>13.43</td>\n",
              "      <td>18.55</td>\n",
              "      <td>40.68</td>\n",
              "      <td>57.50</td>\n",
              "    </tr>\n",
              "    <tr>\n",
              "      <th>2020-01-28</th>\n",
              "      <td>116478.98</td>\n",
              "      <td>30.26</td>\n",
              "      <td>32.34</td>\n",
              "      <td>13.63</td>\n",
              "      <td>20.16</td>\n",
              "      <td>47.57</td>\n",
              "      <td>28.80</td>\n",
              "      <td>14.23</td>\n",
              "      <td>18.80</td>\n",
              "      <td>41.71</td>\n",
              "      <td>58.03</td>\n",
              "    </tr>\n",
              "    <tr>\n",
              "      <th>2020-01-29</th>\n",
              "      <td>115384.84</td>\n",
              "      <td>29.83</td>\n",
              "      <td>31.84</td>\n",
              "      <td>13.35</td>\n",
              "      <td>20.10</td>\n",
              "      <td>47.10</td>\n",
              "      <td>28.85</td>\n",
              "      <td>14.31</td>\n",
              "      <td>18.30</td>\n",
              "      <td>42.09</td>\n",
              "      <td>57.65</td>\n",
              "    </tr>\n",
              "    <tr>\n",
              "      <th>2020-01-30</th>\n",
              "      <td>115528.04</td>\n",
              "      <td>30.13</td>\n",
              "      <td>32.30</td>\n",
              "      <td>13.40</td>\n",
              "      <td>20.70</td>\n",
              "      <td>47.30</td>\n",
              "      <td>28.94</td>\n",
              "      <td>14.11</td>\n",
              "      <td>18.34</td>\n",
              "      <td>40.68</td>\n",
              "      <td>56.96</td>\n",
              "    </tr>\n",
              "    <tr>\n",
              "      <th>2020-01-31</th>\n",
              "      <td>113760.57</td>\n",
              "      <td>29.62</td>\n",
              "      <td>31.70</td>\n",
              "      <td>12.89</td>\n",
              "      <td>20.01</td>\n",
              "      <td>46.71</td>\n",
              "      <td>28.45</td>\n",
              "      <td>13.93</td>\n",
              "      <td>17.85</td>\n",
              "      <td>39.13</td>\n",
              "      <td>56.50</td>\n",
              "    </tr>\n",
              "  </tbody>\n",
              "</table>\n",
              "<p>104 rows × 11 columns</p>\n",
              "</div>"
            ],
            "text/plain": [
              "                IBOV  BBDC4  ITUB4  CSNA3  ...  MGLU3  ABEV3  WEGE3  VIVT4\n",
              "Data                                       ...                            \n",
              "2019-09-02 100625.74  28.06  32.27  14.04  ...   9.12  17.98  22.56  50.98\n",
              "2019-09-03  99680.83  27.60  31.65  13.63  ...   8.94  18.12  21.98  50.73\n",
              "2019-09-04 101200.89  27.94  31.87  13.81  ...   9.27  18.39  22.41  51.61\n",
              "2019-09-05 102243.00  28.59  32.78  13.94  ...   9.14  18.28  22.56  52.21\n",
              "2019-09-06 102935.43  29.79  33.88  13.76  ...   8.97  18.31  22.62  51.28\n",
              "...              ...    ...    ...    ...  ...    ...    ...    ...    ...\n",
              "2020-01-27 114481.84  30.22  32.35  13.73  ...  13.43  18.55  40.68  57.50\n",
              "2020-01-28 116478.98  30.26  32.34  13.63  ...  14.23  18.80  41.71  58.03\n",
              "2020-01-29 115384.84  29.83  31.84  13.35  ...  14.31  18.30  42.09  57.65\n",
              "2020-01-30 115528.04  30.13  32.30  13.40  ...  14.11  18.34  40.68  56.96\n",
              "2020-01-31 113760.57  29.62  31.70  12.89  ...  13.93  17.85  39.13  56.50\n",
              "\n",
              "[104 rows x 11 columns]"
            ]
          },
          "metadata": {
            "tags": []
          },
          "execution_count": 166
        }
      ]
    },
    {
      "cell_type": "markdown",
      "metadata": {
        "id": "kkOta__H_V1D"
      },
      "source": [
        "## Questão 1"
      ]
    },
    {
      "cell_type": "markdown",
      "metadata": {
        "id": "uX7YHNSP_SpR"
      },
      "source": [
        "## Questão 2"
      ]
    },
    {
      "cell_type": "markdown",
      "metadata": {
        "id": "TdPbsmtdfRv3"
      },
      "source": [
        "* Setor Financeiro:\n",
        "   * Banco Bradesco (BBDC4);\n",
        "   * Banco Itaú-Unibanco (ITUB4);\n",
        "* Setor de Siderurgia:\n",
        "   * Companhia Siderúrigica Nacional (CSNA3)\n",
        "   * Grupo Gerdau (GGBR4)\n",
        " \n"
      ]
    },
    {
      "cell_type": "markdown",
      "metadata": {
        "id": "M_De0v5z3FKN"
      },
      "source": [
        "Análise de correlação das ações com o IBOV:"
      ]
    },
    {
      "cell_type": "code",
      "metadata": {
        "id": "bwYNo0P2UYb3",
        "outputId": "4d2bbc61-c7cb-4775-b56f-de764c205d77",
        "colab": {
          "base_uri": "https://localhost:8080/",
          "height": 607
        }
      },
      "source": [
        "fig, axs = plt.subplots(2, 2,figsize=(10,10))\n",
        "axs[0,0].set_title('BBDC4 x IBOV')\n",
        "axs[0,0].scatter(df.BBDC4, df.IBOV, s=3)\n",
        "\n",
        "axs[0,1].set_title('ITUB4 x IBOV')\n",
        "axs[0,1].scatter(df.ITUB4, df.IBOV, s=3)\n",
        "\n",
        "axs[1,0].set_title('CSNA3 x IBOV')\n",
        "axs[1,0].scatter(df.CSNA3, df.IBOV, s=3)\n",
        "\n",
        "axs[1,1].set_title('GGBR4 x IBOV')\n",
        "axs[1,1].scatter(df.GGBR4, df.IBOV, s=3)\n",
        "plt.show()"
      ],
      "execution_count": 167,
      "outputs": [
        {
          "output_type": "display_data",
          "data": {
            "image/png": "[encoded data removed]",
            "text/plain": [
              "<Figure size 720x720 with 4 Axes>"
            ]
          },
          "metadata": {
            "tags": [],
            "needs_background": "light"
          }
        }
      ]
    },
    {
      "cell_type": "markdown",
      "metadata": {
        "id": "R2ZzMv7s8755"
      },
      "source": [
        "Ativos ativos do mesmo setor:"
      ]
    },
    {
      "cell_type": "code",
      "metadata": {
        "id": "i5iAy_C14T8F",
        "outputId": "a508c92a-d71a-42c7-e079-106b39a02125",
        "colab": {
          "base_uri": "https://localhost:8080/",
          "height": 356
        }
      },
      "source": [
        "fig, axs = plt.subplots(1, 2, figsize=(10,5))\n",
        "fig.suptitle('Setores iguais', fontsize=16)\n",
        "axs[0].set_title('BBDC4 x ITUB4 (Financeiro)')\n",
        "axs[0].scatter(df.BBDC4, df.ITUB4, s=3)\n",
        "\n",
        "axs[1].set_title('CSNA3 x GGBR4 (Siderurgia)')\n",
        "axs[1].scatter(df.CSNA3, df.GGBR4, s=3)\n",
        "plt.show()"
      ],
      "execution_count": 168,
      "outputs": [
        {
          "output_type": "display_data",
          "data": {
            "image/png": "[encoded data removed]",
            "text/plain": [
              "<Figure size 720x360 with 2 Axes>"
            ]
          },
          "metadata": {
            "tags": [],
            "needs_background": "light"
          }
        }
      ]
    },
    {
      "cell_type": "markdown",
      "metadata": {
        "id": "d4YKMNpK3L78"
      },
      "source": [
        "Análise de correlação entre as ações:"
      ]
    },
    {
      "cell_type": "code",
      "metadata": {
        "id": "izBksxrH-ZkY",
        "outputId": "0f11e955-24aa-4408-84fe-4b0667573499",
        "colab": {
          "base_uri": "https://localhost:8080/",
          "height": 663
        }
      },
      "source": [
        "fig, axs = plt.subplots(2, 2, figsize=(10,10))\n",
        "fig.suptitle('Setores diferentes', fontsize=16)\n",
        "axs[0,0].set_title('BBDC4 x CSNA3')\n",
        "axs[0,0].scatter(df.BBDC4, df.CSNA3, s=3)\n",
        "axs[0,1].set_title('BBDC4 x GGBR4')\n",
        "axs[0,1].scatter(df.ITUB4, df.GGBR4, s=3)\n",
        "axs[1,0].set_title('ITUB4 x CSNA3')\n",
        "axs[1,0].scatter(df.ITUB4, df.CSNA3, s=3)\n",
        "axs[1,1].set_title('ITUB4 x GGBR4')\n",
        "axs[1,1].scatter(df.ITUB4, df.GGBR4, s=3)\n",
        "plt.show()"
      ],
      "execution_count": 170,
      "outputs": [
        {
          "output_type": "display_data",
          "data": {
            "image/png": "[encoded data removed]",
            "text/plain": [
              "<Figure size 720x720 with 4 Axes>"
            ]
          },
          "metadata": {
            "tags": [],
            "needs_background": "light"
          }
        }
      ]
    },
    {
      "cell_type": "markdown",
      "metadata": {
        "id": "Xm9GHQCLArwi"
      },
      "source": [
        "Matriz de covariância dos ativos:"
      ]
    },
    {
      "cell_type": "code",
      "metadata": {
        "id": "Ce0MfjcuAu7C",
        "outputId": "90212dd6-afd9-4135-90f0-69ba77ca2b33",
        "colab": {
          "base_uri": "https://localhost:8080/"
        }
      },
      "source": [
        "print(df.iloc[:,:5].cov())"
      ],
      "execution_count": 172,
      "outputs": [
        {
          "output_type": "stream",
          "text": [
            "             IBOV   BBDC4   ITUB4   CSNA3    GGBR4\n",
            "IBOV  30251493.77 5695.91 2249.86 2402.46 16882.44\n",
            "BBDC4     5695.91    1.88    1.28    0.24     2.49\n",
            "ITUB4     2249.86    1.28    1.47   -0.12     0.55\n",
            "CSNA3     2402.46    0.24   -0.12    0.93     1.49\n",
            "GGBR4    16882.44    2.49    0.55    1.49    10.42\n"
          ],
          "name": "stdout"
        }
      ]
    },
    {
      "cell_type": "markdown",
      "metadata": {
        "id": "eFepqFY4Dauo"
      },
      "source": [
        "Podemos melhor visualizar através da matriz de correlação plotada na forma de um mapa de calor:"
      ]
    },
    {
      "cell_type": "code",
      "metadata": {
        "id": "2J6BICWAFCC-",
        "outputId": "7e06a2b2-060e-40d8-ac13-bd8f455467f6",
        "colab": {
          "base_uri": "https://localhost:8080/",
          "height": 269
        }
      },
      "source": [
        "M_Cor = df.iloc[:,:5].corr()\n",
        "mask = 1-np.tril(np.ones_like(M_Cor, dtype=bool)) # Generate a mask for the upper triangle\n",
        "ax = sns.heatmap(M_Cor, mask=mask, vmin=-1, vmax=+1, cmap='RdBu', linewidths=1, square=True)\n",
        "plt.yticks(rotation=0) \n",
        "plt.show()"
      ],
      "execution_count": 173,
      "outputs": [
        {
          "output_type": "display_data",
          "data": {
            "image/png": "[encoded data removed]",
            "text/plain": [
              "<Figure size 432x288 with 2 Axes>"
            ]
          },
          "metadata": {
            "tags": [],
            "needs_background": "light"
          }
        }
      ]
    },
    {
      "cell_type": "markdown",
      "metadata": {
        "id": "CuHP0KFPAqRk"
      },
      "source": [
        "## Questão 3"
      ]
    },
    {
      "cell_type": "markdown",
      "metadata": {
        "id": "JU2g0FwgJUN9"
      },
      "source": [
        "Ativos escolhidos:\n",
        "* BBDC4 - Bradesco\n",
        "* ITUB4 - Itaú-Unibanco\n",
        "* CSNA3 - CSN\n",
        "* GGBR4 - Grupo Gerdau\n",
        "* B3SA3 - B3\n",
        "* PETR4 - Petrobras\n",
        "* MGLU3 - Magazine Luíza\n",
        "* ABEV3 - Ambev\n",
        "* WEGE3 - WEG\n",
        "* VIVT4 - Vivo"
      ]
    },
    {
      "cell_type": "markdown",
      "metadata": {
        "id": "CchXaa4KJBTm"
      },
      "source": [
        "Retornos médios:"
      ]
    },
    {
      "cell_type": "code",
      "metadata": {
        "id": "RzQYSqs2AriV"
      },
      "source": [
        ""
      ],
      "execution_count": null,
      "outputs": []
    },
    {
      "cell_type": "markdown",
      "metadata": {
        "id": "qpohwEVcKQms"
      },
      "source": [
        "Matriz de covariância:"
      ]
    },
    {
      "cell_type": "code",
      "metadata": {
        "id": "wIVlHUATKSy_",
        "outputId": "a0eb4b26-7c5c-4deb-9389-b20f03ea8183",
        "colab": {
          "base_uri": "https://localhost:8080/"
        }
      },
      "source": [
        "print(df.iloc[:,1:].cov())"
      ],
      "execution_count": 174,
      "outputs": [
        {
          "output_type": "stream",
          "text": [
            "       BBDC4  ITUB4  CSNA3  GGBR4  B3SA3  PETR4  MGLU3  ABEV3  WEGE3  VIVT4\n",
            "BBDC4   1.88   1.28   0.24   2.49   0.96   1.74   1.28   0.07   4.09   1.47\n",
            "ITUB4   1.28   1.47  -0.12   0.55   0.85   1.20   0.17  -0.13   0.75  -0.15\n",
            "CSNA3   0.24  -0.12   0.93   1.49  -1.01   0.04   0.38   0.54   1.92   1.22\n",
            "GGBR4   2.49   0.55   1.49  10.42   1.48   3.82   4.70   0.63  17.14   7.20\n",
            "B3SA3   0.96   0.85  -1.01   1.48   4.46   1.77   1.54  -0.85   4.50   1.14\n",
            "PETR4   1.74   1.20   0.04   3.82   1.77   2.49   1.92  -0.13   6.41   2.14\n",
            "MGLU3   1.28   0.17   0.38   4.70   1.54   1.92   2.62   0.09   8.42   3.48\n",
            "ABEV3   0.07  -0.13   0.54   0.63  -0.85  -0.13   0.09   0.44   0.76   0.61\n",
            "WEGE3   4.09   0.75   1.92  17.14   4.50   6.41   8.42   0.76  31.24  12.72\n",
            "VIVT4   1.47  -0.15   1.22   7.20   1.14   2.14   3.48   0.61  12.72   6.00\n"
          ],
          "name": "stdout"
        }
      ]
    },
    {
      "cell_type": "markdown",
      "metadata": {
        "id": "k2cFtEx1Kuhs"
      },
      "source": [
        "Matriz de correlação:"
      ]
    },
    {
      "cell_type": "code",
      "metadata": {
        "id": "c-Y7rB8SLAZW",
        "outputId": "c2d33279-0d92-42d4-c610-f1c2f92d6622",
        "colab": {
          "base_uri": "https://localhost:8080/",
          "height": 296
        }
      },
      "source": [
        "M_Cor2 = df.iloc[:,1:].corr()\n",
        "mask = 1-np.tril(np.ones_like(M_Cor2, dtype=bool)) # Generate a mask for the upper triangle\n",
        "ax = sns.heatmap(M_Cor2, mask=mask, vmin=-1, vmax=+1, cmap='RdBu', linewidths=1, square=True)\n",
        "plt.yticks(rotation=0) \n",
        "plt.show()"
      ],
      "execution_count": 175,
      "outputs": [
        {
          "output_type": "display_data",
          "data": {
            "image/png": "[encoded data removed]",
            "text/plain": [
              "<Figure size 432x288 with 2 Axes>"
            ]
          },
          "metadata": {
            "tags": [],
            "needs_background": "light"
          }
        }
      ]
    },
    {
      "cell_type": "markdown",
      "metadata": {
        "id": "0H0rWh2PAtCc"
      },
      "source": [
        "## Questão 4"
      ]
    },
    {
      "cell_type": "code",
      "metadata": {
        "id": "cAzPUVC1MqhZ"
      },
      "source": [
        ""
      ],
      "execution_count": null,
      "outputs": []
    }
  ]
}